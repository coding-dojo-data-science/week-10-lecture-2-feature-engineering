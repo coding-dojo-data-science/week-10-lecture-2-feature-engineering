{
 "cells": [
  {
   "cell_type": "markdown",
   "metadata": {
    "id": "Lmp3JoP2nQzp"
   },
   "source": [
    "# Feature Engineering Challenge Solution\n",
    "\n",
    "<a href=\"https://colab.research.google.com/github/coding-dojo-data-science/week-10-lecture-2-feature-engineering/blob/11-7-22/SOLUTION%20Challenge%20Feature%20Engineering.ipynb\" target=\"_parent\"><img src=\"https://colab.research.google.com/assets/colab-badge.svg\" alt=\"Open In Colab\"/></a>\n",
    "\n",
    "\n",
    "In this notebook we use the following feature engineering strategies:\n",
    "\n",
    "1. feature selection\n",
    "2. removing outliers\n",
    "3. log transformation\n",
    "4. changing datatypes\n",
    "5. scaling\n",
    "6. binning\n",
    "7. target encoding\n",
    "8. polynomial features"
   ]
  },
  {
   "cell_type": "code",
   "execution_count": 1,
   "metadata": {
    "ExecuteTime": {
     "end_time": "2023-02-03T00:39:26.703339Z",
     "start_time": "2023-02-03T00:39:25.105448Z"
    },
    "executionInfo": {
     "elapsed": 208,
     "status": "ok",
     "timestamp": 1668028840177,
     "user": {
      "displayName": "Josh Johnson",
      "userId": "08606005069848925988"
     },
     "user_tz": 480
    },
    "id": "fu6bkefYnK-j"
   },
   "outputs": [],
   "source": [
    "# Imports\n",
    "import pandas as pd\n",
    "import numpy as np\n",
    "import matplotlib.pyplot as plt\n",
    "import seaborn as sns\n",
    "\n",
    "from sklearn.model_selection import train_test_split\n",
    "from sklearn.linear_model import LinearRegression, LogisticRegression\n",
    "from sklearn.preprocessing import PolynomialFeatures, StandardScaler, OneHotEncoder\n",
    "from sklearn.impute import SimpleImputer\n",
    "from sklearn.compose import make_column_transformer, make_column_selector\n",
    "from sklearn.pipeline import make_pipeline\n",
    "from sklearn.metrics import mean_absolute_error, r2_score, mean_squared_error, \\\n",
    "precision_score, recall_score, accuracy_score, f1_score, ConfusionMatrixDisplay, \\\n",
    "classification_report\n",
    "\n",
    "import warnings\n",
    "warnings.filterwarnings('ignore')"
   ]
  },
  {
   "cell_type": "markdown",
   "metadata": {
    "id": "Vrdzw2ow2f7q"
   },
   "source": [
    "# Useful Functions"
   ]
  },
  {
   "cell_type": "code",
   "execution_count": 2,
   "metadata": {
    "ExecuteTime": {
     "end_time": "2023-02-03T00:39:26.712318Z",
     "start_time": "2023-02-03T00:39:26.704336Z"
    },
    "executionInfo": {
     "elapsed": 161,
     "status": "ok",
     "timestamp": 1668028914876,
     "user": {
      "displayName": "Josh Johnson",
      "userId": "08606005069848925988"
     },
     "user_tz": 480
    },
    "id": "pr2Oayig2iFR"
   },
   "outputs": [],
   "source": [
    "def eval_regression(true, pred, name='Model'):\n",
    "  scores = pd.DataFrame()\n",
    "  scores['Model Name'] = [name]\n",
    "  scores['RMSE'] = [np.sqrt(mean_squared_error(true, pred))]\n",
    "  scores['MAE'] = [mean_absolute_error(true, pred)]\n",
    "  scores['R2'] = [r2_score(true, pred)]\n",
    "  return scores\n",
    "\n",
    "def eval_classification(true, pred, name='Model'):\n",
    "  \"\"\"shows classification_report and confusion matrix\n",
    "  for the model predictions\"\"\"\n",
    "  \n",
    "  print(name, '\\n')\n",
    "  print(classification_report(true, pred))\n",
    "  ConfusionMatrixDisplay.from_predictions(true, pred)\n",
    "  plt.show()\n",
    "\n",
    "  scores = pd.DataFrame()\n",
    "  scores['Model Name'] = [name]\n",
    "  scores['Precision'] = [precision_score(true, pred)]\n",
    "  scores['Recall'] = [recall_score(true, pred)]\n",
    "  scores['F1 Score'] = [f1_score(true, pred)]\n",
    "  scores['Accuracy'] = [accuracy_score(true, pred)]\n",
    "\n",
    "  return scores"
   ]
  },
  {
   "cell_type": "markdown",
   "metadata": {
    "id": "TdIxE4xgNU3m"
   },
   "source": [
    "## Data\n",
    "\n",
    "Today we will use data about housing sales in Melbourne, Australia"
   ]
  },
  {
   "cell_type": "code",
   "execution_count": 3,
   "metadata": {
    "ExecuteTime": {
     "end_time": "2023-02-03T00:39:27.566388Z",
     "start_time": "2023-02-03T00:39:26.713315Z"
    },
    "colab": {
     "base_uri": "https://localhost:8080/",
     "height": 439
    },
    "executionInfo": {
     "elapsed": 2221,
     "status": "ok",
     "timestamp": 1668028842393,
     "user": {
      "displayName": "Josh Johnson",
      "userId": "08606005069848925988"
     },
     "user_tz": 480
    },
    "id": "FJb74mnanWAY",
    "outputId": "878be192-e361-416a-c34c-0941d4592dd5"
   },
   "outputs": [
    {
     "data": {
      "text/html": [
       "<div>\n",
       "<style scoped>\n",
       "    .dataframe tbody tr th:only-of-type {\n",
       "        vertical-align: middle;\n",
       "    }\n",
       "\n",
       "    .dataframe tbody tr th {\n",
       "        vertical-align: top;\n",
       "    }\n",
       "\n",
       "    .dataframe thead th {\n",
       "        text-align: right;\n",
       "    }\n",
       "</style>\n",
       "<table border=\"1\" class=\"dataframe\">\n",
       "  <thead>\n",
       "    <tr style=\"text-align: right;\">\n",
       "      <th></th>\n",
       "      <th>Suburb</th>\n",
       "      <th>Address</th>\n",
       "      <th>Rooms</th>\n",
       "      <th>Type</th>\n",
       "      <th>Price</th>\n",
       "      <th>Method</th>\n",
       "      <th>SellerG</th>\n",
       "      <th>Date</th>\n",
       "      <th>Distance</th>\n",
       "      <th>Postcode</th>\n",
       "      <th>...</th>\n",
       "      <th>Bathroom</th>\n",
       "      <th>Car</th>\n",
       "      <th>Landsize</th>\n",
       "      <th>BuildingArea</th>\n",
       "      <th>YearBuilt</th>\n",
       "      <th>CouncilArea</th>\n",
       "      <th>Lattitude</th>\n",
       "      <th>Longtitude</th>\n",
       "      <th>Regionname</th>\n",
       "      <th>Propertycount</th>\n",
       "    </tr>\n",
       "  </thead>\n",
       "  <tbody>\n",
       "    <tr>\n",
       "      <th>0</th>\n",
       "      <td>Abbotsford</td>\n",
       "      <td>85 Turner St</td>\n",
       "      <td>2</td>\n",
       "      <td>h</td>\n",
       "      <td>1480000</td>\n",
       "      <td>S</td>\n",
       "      <td>Biggin</td>\n",
       "      <td>3/12/2016</td>\n",
       "      <td>2.5</td>\n",
       "      <td>3067</td>\n",
       "      <td>...</td>\n",
       "      <td>1</td>\n",
       "      <td>1.0</td>\n",
       "      <td>202</td>\n",
       "      <td>NaN</td>\n",
       "      <td>NaN</td>\n",
       "      <td>Yarra</td>\n",
       "      <td>-37.7996</td>\n",
       "      <td>144.9984</td>\n",
       "      <td>Northern Metropolitan</td>\n",
       "      <td>4019</td>\n",
       "    </tr>\n",
       "    <tr>\n",
       "      <th>1</th>\n",
       "      <td>Abbotsford</td>\n",
       "      <td>25 Bloomburg St</td>\n",
       "      <td>2</td>\n",
       "      <td>h</td>\n",
       "      <td>1035000</td>\n",
       "      <td>S</td>\n",
       "      <td>Biggin</td>\n",
       "      <td>04/02/2016</td>\n",
       "      <td>2.5</td>\n",
       "      <td>3067</td>\n",
       "      <td>...</td>\n",
       "      <td>1</td>\n",
       "      <td>0.0</td>\n",
       "      <td>156</td>\n",
       "      <td>79.0</td>\n",
       "      <td>1900.0</td>\n",
       "      <td>Yarra</td>\n",
       "      <td>-37.8079</td>\n",
       "      <td>144.9934</td>\n",
       "      <td>Northern Metropolitan</td>\n",
       "      <td>4019</td>\n",
       "    </tr>\n",
       "    <tr>\n",
       "      <th>2</th>\n",
       "      <td>Abbotsford</td>\n",
       "      <td>5 Charles St</td>\n",
       "      <td>3</td>\n",
       "      <td>h</td>\n",
       "      <td>1465000</td>\n",
       "      <td>SP</td>\n",
       "      <td>Biggin</td>\n",
       "      <td>04/03/2017</td>\n",
       "      <td>2.5</td>\n",
       "      <td>3067</td>\n",
       "      <td>...</td>\n",
       "      <td>2</td>\n",
       "      <td>0.0</td>\n",
       "      <td>134</td>\n",
       "      <td>150.0</td>\n",
       "      <td>1900.0</td>\n",
       "      <td>Yarra</td>\n",
       "      <td>-37.8093</td>\n",
       "      <td>144.9944</td>\n",
       "      <td>Northern Metropolitan</td>\n",
       "      <td>4019</td>\n",
       "    </tr>\n",
       "    <tr>\n",
       "      <th>3</th>\n",
       "      <td>Abbotsford</td>\n",
       "      <td>40 Federation La</td>\n",
       "      <td>3</td>\n",
       "      <td>h</td>\n",
       "      <td>850000</td>\n",
       "      <td>PI</td>\n",
       "      <td>Biggin</td>\n",
       "      <td>04/03/2017</td>\n",
       "      <td>2.5</td>\n",
       "      <td>3067</td>\n",
       "      <td>...</td>\n",
       "      <td>2</td>\n",
       "      <td>1.0</td>\n",
       "      <td>94</td>\n",
       "      <td>NaN</td>\n",
       "      <td>NaN</td>\n",
       "      <td>Yarra</td>\n",
       "      <td>-37.7969</td>\n",
       "      <td>144.9969</td>\n",
       "      <td>Northern Metropolitan</td>\n",
       "      <td>4019</td>\n",
       "    </tr>\n",
       "    <tr>\n",
       "      <th>4</th>\n",
       "      <td>Abbotsford</td>\n",
       "      <td>55a Park St</td>\n",
       "      <td>4</td>\n",
       "      <td>h</td>\n",
       "      <td>1600000</td>\n",
       "      <td>VB</td>\n",
       "      <td>Nelson</td>\n",
       "      <td>04/06/2016</td>\n",
       "      <td>2.5</td>\n",
       "      <td>3067</td>\n",
       "      <td>...</td>\n",
       "      <td>1</td>\n",
       "      <td>2.0</td>\n",
       "      <td>120</td>\n",
       "      <td>142.0</td>\n",
       "      <td>2014.0</td>\n",
       "      <td>Yarra</td>\n",
       "      <td>-37.8072</td>\n",
       "      <td>144.9941</td>\n",
       "      <td>Northern Metropolitan</td>\n",
       "      <td>4019</td>\n",
       "    </tr>\n",
       "  </tbody>\n",
       "</table>\n",
       "<p>5 rows × 21 columns</p>\n",
       "</div>"
      ],
      "text/plain": [
       "       Suburb           Address  Rooms Type    Price Method SellerG  \\\n",
       "0  Abbotsford      85 Turner St      2    h  1480000      S  Biggin   \n",
       "1  Abbotsford   25 Bloomburg St      2    h  1035000      S  Biggin   \n",
       "2  Abbotsford      5 Charles St      3    h  1465000     SP  Biggin   \n",
       "3  Abbotsford  40 Federation La      3    h   850000     PI  Biggin   \n",
       "4  Abbotsford       55a Park St      4    h  1600000     VB  Nelson   \n",
       "\n",
       "         Date  Distance  Postcode  ...  Bathroom  Car  Landsize  BuildingArea  \\\n",
       "0   3/12/2016       2.5      3067  ...         1  1.0       202           NaN   \n",
       "1  04/02/2016       2.5      3067  ...         1  0.0       156          79.0   \n",
       "2  04/03/2017       2.5      3067  ...         2  0.0       134         150.0   \n",
       "3  04/03/2017       2.5      3067  ...         2  1.0        94           NaN   \n",
       "4  04/06/2016       2.5      3067  ...         1  2.0       120         142.0   \n",
       "\n",
       "   YearBuilt  CouncilArea Lattitude  Longtitude             Regionname  \\\n",
       "0        NaN        Yarra  -37.7996    144.9984  Northern Metropolitan   \n",
       "1     1900.0        Yarra  -37.8079    144.9934  Northern Metropolitan   \n",
       "2     1900.0        Yarra  -37.8093    144.9944  Northern Metropolitan   \n",
       "3        NaN        Yarra  -37.7969    144.9969  Northern Metropolitan   \n",
       "4     2014.0        Yarra  -37.8072    144.9941  Northern Metropolitan   \n",
       "\n",
       "  Propertycount  \n",
       "0          4019  \n",
       "1          4019  \n",
       "2          4019  \n",
       "3          4019  \n",
       "4          4019  \n",
       "\n",
       "[5 rows x 21 columns]"
      ]
     },
     "metadata": {},
     "output_type": "display_data"
    },
    {
     "name": "stdout",
     "output_type": "stream",
     "text": [
      "(13580, 21)\n"
     ]
    }
   ],
   "source": [
    "# load data\n",
    "df = pd.read_csv('https://docs.google.com/spreadsheets/d/e/2PACX-1vQnwAtoM6edkuZ4Xncjx_wnZjN6zcWRtBZdK9wfQwW6AzXCGhOdjvTQrtbsEU5-LxKdOmz5FAtw66tc/pub?gid=1132845715&single=true&output=csv')\n",
    "df_backup = df.copy()\n",
    "\n",
    "display(df.head())\n",
    "print(df.shape)"
   ]
  },
  {
   "cell_type": "markdown",
   "metadata": {
    "id": "j5Ep8q1T02el"
   },
   "source": [
    "## Explore and clean the data\n",
    "1. Drop the 'Address column', it's too specific.\n",
    "2. Drop any duplicates\n",
    "3. Look for missing values.  If you want to drop rows or columns, now is the time.  Wait on imputing until after the split.\n",
    "4. Check summary statistics to look for outliers."
   ]
  },
  {
   "cell_type": "code",
   "execution_count": 4,
   "metadata": {
    "ExecuteTime": {
     "end_time": "2023-02-03T00:39:27.586374Z",
     "start_time": "2023-02-03T00:39:27.568413Z"
    },
    "colab": {
     "base_uri": "https://localhost:8080/",
     "height": 357
    },
    "executionInfo": {
     "elapsed": 13,
     "status": "ok",
     "timestamp": 1668028842393,
     "user": {
      "displayName": "Josh Johnson",
      "userId": "08606005069848925988"
     },
     "user_tz": 480
    },
    "id": "BgdiEEY_vTJz",
    "outputId": "d2308871-dbfd-469b-acc9-f703021d8d91"
   },
   "outputs": [
    {
     "data": {
      "text/html": [
       "<div>\n",
       "<style scoped>\n",
       "    .dataframe tbody tr th:only-of-type {\n",
       "        vertical-align: middle;\n",
       "    }\n",
       "\n",
       "    .dataframe tbody tr th {\n",
       "        vertical-align: top;\n",
       "    }\n",
       "\n",
       "    .dataframe thead th {\n",
       "        text-align: right;\n",
       "    }\n",
       "</style>\n",
       "<table border=\"1\" class=\"dataframe\">\n",
       "  <thead>\n",
       "    <tr style=\"text-align: right;\">\n",
       "      <th></th>\n",
       "      <th>Suburb</th>\n",
       "      <th>Rooms</th>\n",
       "      <th>Type</th>\n",
       "      <th>Price</th>\n",
       "      <th>Method</th>\n",
       "      <th>SellerG</th>\n",
       "      <th>Date</th>\n",
       "      <th>Distance</th>\n",
       "      <th>Postcode</th>\n",
       "      <th>Bedroom2</th>\n",
       "      <th>Bathroom</th>\n",
       "      <th>Car</th>\n",
       "      <th>Landsize</th>\n",
       "      <th>BuildingArea</th>\n",
       "      <th>YearBuilt</th>\n",
       "      <th>CouncilArea</th>\n",
       "      <th>Lattitude</th>\n",
       "      <th>Longtitude</th>\n",
       "      <th>Regionname</th>\n",
       "      <th>Propertycount</th>\n",
       "    </tr>\n",
       "  </thead>\n",
       "  <tbody>\n",
       "    <tr>\n",
       "      <th>0</th>\n",
       "      <td>Abbotsford</td>\n",
       "      <td>2</td>\n",
       "      <td>h</td>\n",
       "      <td>1480000</td>\n",
       "      <td>S</td>\n",
       "      <td>Biggin</td>\n",
       "      <td>3/12/2016</td>\n",
       "      <td>2.5</td>\n",
       "      <td>3067</td>\n",
       "      <td>2</td>\n",
       "      <td>1</td>\n",
       "      <td>1.0</td>\n",
       "      <td>202</td>\n",
       "      <td>NaN</td>\n",
       "      <td>NaN</td>\n",
       "      <td>Yarra</td>\n",
       "      <td>-37.7996</td>\n",
       "      <td>144.9984</td>\n",
       "      <td>Northern Metropolitan</td>\n",
       "      <td>4019</td>\n",
       "    </tr>\n",
       "    <tr>\n",
       "      <th>1</th>\n",
       "      <td>Abbotsford</td>\n",
       "      <td>2</td>\n",
       "      <td>h</td>\n",
       "      <td>1035000</td>\n",
       "      <td>S</td>\n",
       "      <td>Biggin</td>\n",
       "      <td>04/02/2016</td>\n",
       "      <td>2.5</td>\n",
       "      <td>3067</td>\n",
       "      <td>2</td>\n",
       "      <td>1</td>\n",
       "      <td>0.0</td>\n",
       "      <td>156</td>\n",
       "      <td>79.0</td>\n",
       "      <td>1900.0</td>\n",
       "      <td>Yarra</td>\n",
       "      <td>-37.8079</td>\n",
       "      <td>144.9934</td>\n",
       "      <td>Northern Metropolitan</td>\n",
       "      <td>4019</td>\n",
       "    </tr>\n",
       "    <tr>\n",
       "      <th>2</th>\n",
       "      <td>Abbotsford</td>\n",
       "      <td>3</td>\n",
       "      <td>h</td>\n",
       "      <td>1465000</td>\n",
       "      <td>SP</td>\n",
       "      <td>Biggin</td>\n",
       "      <td>04/03/2017</td>\n",
       "      <td>2.5</td>\n",
       "      <td>3067</td>\n",
       "      <td>3</td>\n",
       "      <td>2</td>\n",
       "      <td>0.0</td>\n",
       "      <td>134</td>\n",
       "      <td>150.0</td>\n",
       "      <td>1900.0</td>\n",
       "      <td>Yarra</td>\n",
       "      <td>-37.8093</td>\n",
       "      <td>144.9944</td>\n",
       "      <td>Northern Metropolitan</td>\n",
       "      <td>4019</td>\n",
       "    </tr>\n",
       "    <tr>\n",
       "      <th>3</th>\n",
       "      <td>Abbotsford</td>\n",
       "      <td>3</td>\n",
       "      <td>h</td>\n",
       "      <td>850000</td>\n",
       "      <td>PI</td>\n",
       "      <td>Biggin</td>\n",
       "      <td>04/03/2017</td>\n",
       "      <td>2.5</td>\n",
       "      <td>3067</td>\n",
       "      <td>3</td>\n",
       "      <td>2</td>\n",
       "      <td>1.0</td>\n",
       "      <td>94</td>\n",
       "      <td>NaN</td>\n",
       "      <td>NaN</td>\n",
       "      <td>Yarra</td>\n",
       "      <td>-37.7969</td>\n",
       "      <td>144.9969</td>\n",
       "      <td>Northern Metropolitan</td>\n",
       "      <td>4019</td>\n",
       "    </tr>\n",
       "    <tr>\n",
       "      <th>4</th>\n",
       "      <td>Abbotsford</td>\n",
       "      <td>4</td>\n",
       "      <td>h</td>\n",
       "      <td>1600000</td>\n",
       "      <td>VB</td>\n",
       "      <td>Nelson</td>\n",
       "      <td>04/06/2016</td>\n",
       "      <td>2.5</td>\n",
       "      <td>3067</td>\n",
       "      <td>3</td>\n",
       "      <td>1</td>\n",
       "      <td>2.0</td>\n",
       "      <td>120</td>\n",
       "      <td>142.0</td>\n",
       "      <td>2014.0</td>\n",
       "      <td>Yarra</td>\n",
       "      <td>-37.8072</td>\n",
       "      <td>144.9941</td>\n",
       "      <td>Northern Metropolitan</td>\n",
       "      <td>4019</td>\n",
       "    </tr>\n",
       "  </tbody>\n",
       "</table>\n",
       "</div>"
      ],
      "text/plain": [
       "       Suburb  Rooms Type    Price Method SellerG        Date  Distance  \\\n",
       "0  Abbotsford      2    h  1480000      S  Biggin   3/12/2016       2.5   \n",
       "1  Abbotsford      2    h  1035000      S  Biggin  04/02/2016       2.5   \n",
       "2  Abbotsford      3    h  1465000     SP  Biggin  04/03/2017       2.5   \n",
       "3  Abbotsford      3    h   850000     PI  Biggin  04/03/2017       2.5   \n",
       "4  Abbotsford      4    h  1600000     VB  Nelson  04/06/2016       2.5   \n",
       "\n",
       "   Postcode  Bedroom2  Bathroom  Car  Landsize  BuildingArea  YearBuilt  \\\n",
       "0      3067         2         1  1.0       202           NaN        NaN   \n",
       "1      3067         2         1  0.0       156          79.0     1900.0   \n",
       "2      3067         3         2  0.0       134         150.0     1900.0   \n",
       "3      3067         3         2  1.0        94           NaN        NaN   \n",
       "4      3067         3         1  2.0       120         142.0     2014.0   \n",
       "\n",
       "  CouncilArea  Lattitude  Longtitude             Regionname  Propertycount  \n",
       "0       Yarra   -37.7996    144.9984  Northern Metropolitan           4019  \n",
       "1       Yarra   -37.8079    144.9934  Northern Metropolitan           4019  \n",
       "2       Yarra   -37.8093    144.9944  Northern Metropolitan           4019  \n",
       "3       Yarra   -37.7969    144.9969  Northern Metropolitan           4019  \n",
       "4       Yarra   -37.8072    144.9941  Northern Metropolitan           4019  "
      ]
     },
     "execution_count": 4,
     "metadata": {},
     "output_type": "execute_result"
    }
   ],
   "source": [
    "# drop 'Address' column\n",
    "df.drop(columns='Address', inplace=True)\n",
    "df.head()"
   ]
  },
  {
   "cell_type": "code",
   "execution_count": 5,
   "metadata": {
    "ExecuteTime": {
     "end_time": "2023-02-03T00:39:27.606464Z",
     "start_time": "2023-02-03T00:39:27.587373Z"
    },
    "colab": {
     "base_uri": "https://localhost:8080/"
    },
    "executionInfo": {
     "elapsed": 12,
     "status": "ok",
     "timestamp": 1668028842394,
     "user": {
      "displayName": "Josh Johnson",
      "userId": "08606005069848925988"
     },
     "user_tz": 480
    },
    "id": "Kk8M7SQ7Shw0",
    "outputId": "ad7137db-3b28-4eca-dd8f-6c74abe28843"
   },
   "outputs": [
    {
     "name": "stdout",
     "output_type": "stream",
     "text": [
      "<class 'pandas.core.frame.DataFrame'>\n",
      "RangeIndex: 13580 entries, 0 to 13579\n",
      "Data columns (total 20 columns):\n",
      " #   Column         Non-Null Count  Dtype  \n",
      "---  ------         --------------  -----  \n",
      " 0   Suburb         13580 non-null  object \n",
      " 1   Rooms          13580 non-null  int64  \n",
      " 2   Type           13580 non-null  object \n",
      " 3   Price          13580 non-null  int64  \n",
      " 4   Method         13580 non-null  object \n",
      " 5   SellerG        13580 non-null  object \n",
      " 6   Date           13580 non-null  object \n",
      " 7   Distance       13580 non-null  float64\n",
      " 8   Postcode       13580 non-null  int64  \n",
      " 9   Bedroom2       13580 non-null  int64  \n",
      " 10  Bathroom       13580 non-null  int64  \n",
      " 11  Car            13518 non-null  float64\n",
      " 12  Landsize       13580 non-null  int64  \n",
      " 13  BuildingArea   7130 non-null   float64\n",
      " 14  YearBuilt      8205 non-null   float64\n",
      " 15  CouncilArea    12211 non-null  object \n",
      " 16  Lattitude      13580 non-null  float64\n",
      " 17  Longtitude     13580 non-null  float64\n",
      " 18  Regionname     13580 non-null  object \n",
      " 19  Propertycount  13580 non-null  int64  \n",
      "dtypes: float64(6), int64(7), object(7)\n",
      "memory usage: 2.1+ MB\n"
     ]
    }
   ],
   "source": [
    "df.info()"
   ]
  },
  {
   "cell_type": "code",
   "execution_count": 6,
   "metadata": {
    "ExecuteTime": {
     "end_time": "2023-02-03T00:39:27.622429Z",
     "start_time": "2023-02-03T00:39:27.607464Z"
    },
    "colab": {
     "base_uri": "https://localhost:8080/"
    },
    "executionInfo": {
     "elapsed": 10,
     "status": "ok",
     "timestamp": 1668028842394,
     "user": {
      "displayName": "Josh Johnson",
      "userId": "08606005069848925988"
     },
     "user_tz": 480
    },
    "id": "jpf0LSXexRPy",
    "outputId": "ebaabc8a-ec09-4791-ab7c-76bb378dacb0"
   },
   "outputs": [
    {
     "data": {
      "text/plain": [
       "0"
      ]
     },
     "execution_count": 6,
     "metadata": {},
     "output_type": "execute_result"
    }
   ],
   "source": [
    "# check for duplicates\n",
    "df.duplicated().sum()"
   ]
  },
  {
   "cell_type": "code",
   "execution_count": 7,
   "metadata": {
    "ExecuteTime": {
     "end_time": "2023-02-03T00:39:27.640306Z",
     "start_time": "2023-02-03T00:39:27.623427Z"
    },
    "colab": {
     "base_uri": "https://localhost:8080/"
    },
    "executionInfo": {
     "elapsed": 8,
     "status": "ok",
     "timestamp": 1668028842394,
     "user": {
      "displayName": "Josh Johnson",
      "userId": "08606005069848925988"
     },
     "user_tz": 480
    },
    "id": "VjksV-Zn0gbl",
    "outputId": "9cd6bed0-ba8c-478d-8854-8bf4b8326a09"
   },
   "outputs": [
    {
     "data": {
      "text/plain": [
       "Suburb              0\n",
       "Rooms               0\n",
       "Type                0\n",
       "Price               0\n",
       "Method              0\n",
       "SellerG             0\n",
       "Date                0\n",
       "Distance            0\n",
       "Postcode            0\n",
       "Bedroom2            0\n",
       "Bathroom            0\n",
       "Car                62\n",
       "Landsize            0\n",
       "BuildingArea     6450\n",
       "YearBuilt        5375\n",
       "CouncilArea      1369\n",
       "Lattitude           0\n",
       "Longtitude          0\n",
       "Regionname          0\n",
       "Propertycount       0\n",
       "dtype: int64"
      ]
     },
     "execution_count": 7,
     "metadata": {},
     "output_type": "execute_result"
    }
   ],
   "source": [
    "# check for missing values\n",
    "df.isna().sum()"
   ]
  },
  {
   "cell_type": "code",
   "execution_count": 8,
   "metadata": {
    "ExecuteTime": {
     "end_time": "2023-02-03T00:39:27.646505Z",
     "start_time": "2023-02-03T00:39:27.641303Z"
    },
    "executionInfo": {
     "elapsed": 215,
     "status": "ok",
     "timestamp": 1668028842603,
     "user": {
      "displayName": "Josh Johnson",
      "userId": "08606005069848925988"
     },
     "user_tz": 480
    },
    "id": "htGOUBcCSrIT"
   },
   "outputs": [],
   "source": [
    "# drop 'BuildingArea' and 'YearBuilt'\n",
    "\n",
    "df.drop(columns=['BuildingArea','YearBuilt'], inplace=True)"
   ]
  },
  {
   "cell_type": "markdown",
   "metadata": {
    "id": "9XtYMbRa7CsR"
   },
   "source": [
    "## Use .describe(include='all') to include categorical columns.\n",
    "\n",
    "Notice the values in the 'Unique' rows.  Which categorical columns have high cardinality (Many different categories)?"
   ]
  },
  {
   "cell_type": "code",
   "execution_count": 9,
   "metadata": {
    "ExecuteTime": {
     "end_time": "2023-02-03T00:39:27.698429Z",
     "start_time": "2023-02-03T00:39:27.647504Z"
    },
    "colab": {
     "base_uri": "https://localhost:8080/",
     "height": 475
    },
    "executionInfo": {
     "elapsed": 6,
     "status": "ok",
     "timestamp": 1668028842603,
     "user": {
      "displayName": "Josh Johnson",
      "userId": "08606005069848925988"
     },
     "user_tz": 480
    },
    "id": "mPLcxeYt0jMd",
    "outputId": "7317fb9e-6f64-4d36-c4b3-8f9b0ff9ae37"
   },
   "outputs": [
    {
     "data": {
      "text/html": [
       "<div>\n",
       "<style scoped>\n",
       "    .dataframe tbody tr th:only-of-type {\n",
       "        vertical-align: middle;\n",
       "    }\n",
       "\n",
       "    .dataframe tbody tr th {\n",
       "        vertical-align: top;\n",
       "    }\n",
       "\n",
       "    .dataframe thead th {\n",
       "        text-align: right;\n",
       "    }\n",
       "</style>\n",
       "<table border=\"1\" class=\"dataframe\">\n",
       "  <thead>\n",
       "    <tr style=\"text-align: right;\">\n",
       "      <th></th>\n",
       "      <th>Suburb</th>\n",
       "      <th>Rooms</th>\n",
       "      <th>Type</th>\n",
       "      <th>Price</th>\n",
       "      <th>Method</th>\n",
       "      <th>SellerG</th>\n",
       "      <th>Date</th>\n",
       "      <th>Distance</th>\n",
       "      <th>Postcode</th>\n",
       "      <th>Bedroom2</th>\n",
       "      <th>Bathroom</th>\n",
       "      <th>Car</th>\n",
       "      <th>Landsize</th>\n",
       "      <th>CouncilArea</th>\n",
       "      <th>Lattitude</th>\n",
       "      <th>Longtitude</th>\n",
       "      <th>Regionname</th>\n",
       "      <th>Propertycount</th>\n",
       "    </tr>\n",
       "  </thead>\n",
       "  <tbody>\n",
       "    <tr>\n",
       "      <th>count</th>\n",
       "      <td>13580</td>\n",
       "      <td>13580.000000</td>\n",
       "      <td>13580</td>\n",
       "      <td>1.358000e+04</td>\n",
       "      <td>13580</td>\n",
       "      <td>13580</td>\n",
       "      <td>13580</td>\n",
       "      <td>13580.000000</td>\n",
       "      <td>13580.000000</td>\n",
       "      <td>13580.000000</td>\n",
       "      <td>13580.000000</td>\n",
       "      <td>13518.000000</td>\n",
       "      <td>13580.000000</td>\n",
       "      <td>12211</td>\n",
       "      <td>13580.000000</td>\n",
       "      <td>13580.000000</td>\n",
       "      <td>13580</td>\n",
       "      <td>13580.000000</td>\n",
       "    </tr>\n",
       "    <tr>\n",
       "      <th>unique</th>\n",
       "      <td>314</td>\n",
       "      <td>NaN</td>\n",
       "      <td>3</td>\n",
       "      <td>NaN</td>\n",
       "      <td>5</td>\n",
       "      <td>268</td>\n",
       "      <td>58</td>\n",
       "      <td>NaN</td>\n",
       "      <td>NaN</td>\n",
       "      <td>NaN</td>\n",
       "      <td>NaN</td>\n",
       "      <td>NaN</td>\n",
       "      <td>NaN</td>\n",
       "      <td>33</td>\n",
       "      <td>NaN</td>\n",
       "      <td>NaN</td>\n",
       "      <td>8</td>\n",
       "      <td>NaN</td>\n",
       "    </tr>\n",
       "    <tr>\n",
       "      <th>top</th>\n",
       "      <td>Reservoir</td>\n",
       "      <td>NaN</td>\n",
       "      <td>h</td>\n",
       "      <td>NaN</td>\n",
       "      <td>S</td>\n",
       "      <td>Nelson</td>\n",
       "      <td>27/05/2017</td>\n",
       "      <td>NaN</td>\n",
       "      <td>NaN</td>\n",
       "      <td>NaN</td>\n",
       "      <td>NaN</td>\n",
       "      <td>NaN</td>\n",
       "      <td>NaN</td>\n",
       "      <td>Moreland</td>\n",
       "      <td>NaN</td>\n",
       "      <td>NaN</td>\n",
       "      <td>Southern Metropolitan</td>\n",
       "      <td>NaN</td>\n",
       "    </tr>\n",
       "    <tr>\n",
       "      <th>freq</th>\n",
       "      <td>359</td>\n",
       "      <td>NaN</td>\n",
       "      <td>9449</td>\n",
       "      <td>NaN</td>\n",
       "      <td>9022</td>\n",
       "      <td>1565</td>\n",
       "      <td>473</td>\n",
       "      <td>NaN</td>\n",
       "      <td>NaN</td>\n",
       "      <td>NaN</td>\n",
       "      <td>NaN</td>\n",
       "      <td>NaN</td>\n",
       "      <td>NaN</td>\n",
       "      <td>1163</td>\n",
       "      <td>NaN</td>\n",
       "      <td>NaN</td>\n",
       "      <td>4695</td>\n",
       "      <td>NaN</td>\n",
       "    </tr>\n",
       "    <tr>\n",
       "      <th>mean</th>\n",
       "      <td>NaN</td>\n",
       "      <td>2.937997</td>\n",
       "      <td>NaN</td>\n",
       "      <td>1.075684e+06</td>\n",
       "      <td>NaN</td>\n",
       "      <td>NaN</td>\n",
       "      <td>NaN</td>\n",
       "      <td>10.137776</td>\n",
       "      <td>3105.301915</td>\n",
       "      <td>2.914728</td>\n",
       "      <td>1.534242</td>\n",
       "      <td>1.610075</td>\n",
       "      <td>558.416127</td>\n",
       "      <td>NaN</td>\n",
       "      <td>-37.809203</td>\n",
       "      <td>144.995216</td>\n",
       "      <td>NaN</td>\n",
       "      <td>7454.417378</td>\n",
       "    </tr>\n",
       "    <tr>\n",
       "      <th>std</th>\n",
       "      <td>NaN</td>\n",
       "      <td>0.955748</td>\n",
       "      <td>NaN</td>\n",
       "      <td>6.393107e+05</td>\n",
       "      <td>NaN</td>\n",
       "      <td>NaN</td>\n",
       "      <td>NaN</td>\n",
       "      <td>5.868725</td>\n",
       "      <td>90.676964</td>\n",
       "      <td>0.965921</td>\n",
       "      <td>0.691712</td>\n",
       "      <td>0.962634</td>\n",
       "      <td>3990.669241</td>\n",
       "      <td>NaN</td>\n",
       "      <td>0.079260</td>\n",
       "      <td>0.103916</td>\n",
       "      <td>NaN</td>\n",
       "      <td>4378.581772</td>\n",
       "    </tr>\n",
       "    <tr>\n",
       "      <th>min</th>\n",
       "      <td>NaN</td>\n",
       "      <td>1.000000</td>\n",
       "      <td>NaN</td>\n",
       "      <td>8.500000e+04</td>\n",
       "      <td>NaN</td>\n",
       "      <td>NaN</td>\n",
       "      <td>NaN</td>\n",
       "      <td>0.000000</td>\n",
       "      <td>3000.000000</td>\n",
       "      <td>0.000000</td>\n",
       "      <td>0.000000</td>\n",
       "      <td>0.000000</td>\n",
       "      <td>0.000000</td>\n",
       "      <td>NaN</td>\n",
       "      <td>-38.182550</td>\n",
       "      <td>144.431810</td>\n",
       "      <td>NaN</td>\n",
       "      <td>249.000000</td>\n",
       "    </tr>\n",
       "    <tr>\n",
       "      <th>25%</th>\n",
       "      <td>NaN</td>\n",
       "      <td>2.000000</td>\n",
       "      <td>NaN</td>\n",
       "      <td>6.500000e+05</td>\n",
       "      <td>NaN</td>\n",
       "      <td>NaN</td>\n",
       "      <td>NaN</td>\n",
       "      <td>6.100000</td>\n",
       "      <td>3044.000000</td>\n",
       "      <td>2.000000</td>\n",
       "      <td>1.000000</td>\n",
       "      <td>1.000000</td>\n",
       "      <td>177.000000</td>\n",
       "      <td>NaN</td>\n",
       "      <td>-37.856822</td>\n",
       "      <td>144.929600</td>\n",
       "      <td>NaN</td>\n",
       "      <td>4380.000000</td>\n",
       "    </tr>\n",
       "    <tr>\n",
       "      <th>50%</th>\n",
       "      <td>NaN</td>\n",
       "      <td>3.000000</td>\n",
       "      <td>NaN</td>\n",
       "      <td>9.030000e+05</td>\n",
       "      <td>NaN</td>\n",
       "      <td>NaN</td>\n",
       "      <td>NaN</td>\n",
       "      <td>9.200000</td>\n",
       "      <td>3084.000000</td>\n",
       "      <td>3.000000</td>\n",
       "      <td>1.000000</td>\n",
       "      <td>2.000000</td>\n",
       "      <td>440.000000</td>\n",
       "      <td>NaN</td>\n",
       "      <td>-37.802355</td>\n",
       "      <td>145.000100</td>\n",
       "      <td>NaN</td>\n",
       "      <td>6555.000000</td>\n",
       "    </tr>\n",
       "    <tr>\n",
       "      <th>75%</th>\n",
       "      <td>NaN</td>\n",
       "      <td>3.000000</td>\n",
       "      <td>NaN</td>\n",
       "      <td>1.330000e+06</td>\n",
       "      <td>NaN</td>\n",
       "      <td>NaN</td>\n",
       "      <td>NaN</td>\n",
       "      <td>13.000000</td>\n",
       "      <td>3148.000000</td>\n",
       "      <td>3.000000</td>\n",
       "      <td>2.000000</td>\n",
       "      <td>2.000000</td>\n",
       "      <td>651.000000</td>\n",
       "      <td>NaN</td>\n",
       "      <td>-37.756400</td>\n",
       "      <td>145.058305</td>\n",
       "      <td>NaN</td>\n",
       "      <td>10331.000000</td>\n",
       "    </tr>\n",
       "    <tr>\n",
       "      <th>max</th>\n",
       "      <td>NaN</td>\n",
       "      <td>10.000000</td>\n",
       "      <td>NaN</td>\n",
       "      <td>9.000000e+06</td>\n",
       "      <td>NaN</td>\n",
       "      <td>NaN</td>\n",
       "      <td>NaN</td>\n",
       "      <td>48.100000</td>\n",
       "      <td>3977.000000</td>\n",
       "      <td>20.000000</td>\n",
       "      <td>8.000000</td>\n",
       "      <td>10.000000</td>\n",
       "      <td>433014.000000</td>\n",
       "      <td>NaN</td>\n",
       "      <td>-37.408530</td>\n",
       "      <td>145.526350</td>\n",
       "      <td>NaN</td>\n",
       "      <td>21650.000000</td>\n",
       "    </tr>\n",
       "  </tbody>\n",
       "</table>\n",
       "</div>"
      ],
      "text/plain": [
       "           Suburb         Rooms   Type         Price Method SellerG  \\\n",
       "count       13580  13580.000000  13580  1.358000e+04  13580   13580   \n",
       "unique        314           NaN      3           NaN      5     268   \n",
       "top     Reservoir           NaN      h           NaN      S  Nelson   \n",
       "freq          359           NaN   9449           NaN   9022    1565   \n",
       "mean          NaN      2.937997    NaN  1.075684e+06    NaN     NaN   \n",
       "std           NaN      0.955748    NaN  6.393107e+05    NaN     NaN   \n",
       "min           NaN      1.000000    NaN  8.500000e+04    NaN     NaN   \n",
       "25%           NaN      2.000000    NaN  6.500000e+05    NaN     NaN   \n",
       "50%           NaN      3.000000    NaN  9.030000e+05    NaN     NaN   \n",
       "75%           NaN      3.000000    NaN  1.330000e+06    NaN     NaN   \n",
       "max           NaN     10.000000    NaN  9.000000e+06    NaN     NaN   \n",
       "\n",
       "              Date      Distance      Postcode      Bedroom2      Bathroom  \\\n",
       "count        13580  13580.000000  13580.000000  13580.000000  13580.000000   \n",
       "unique          58           NaN           NaN           NaN           NaN   \n",
       "top     27/05/2017           NaN           NaN           NaN           NaN   \n",
       "freq           473           NaN           NaN           NaN           NaN   \n",
       "mean           NaN     10.137776   3105.301915      2.914728      1.534242   \n",
       "std            NaN      5.868725     90.676964      0.965921      0.691712   \n",
       "min            NaN      0.000000   3000.000000      0.000000      0.000000   \n",
       "25%            NaN      6.100000   3044.000000      2.000000      1.000000   \n",
       "50%            NaN      9.200000   3084.000000      3.000000      1.000000   \n",
       "75%            NaN     13.000000   3148.000000      3.000000      2.000000   \n",
       "max            NaN     48.100000   3977.000000     20.000000      8.000000   \n",
       "\n",
       "                 Car       Landsize CouncilArea     Lattitude    Longtitude  \\\n",
       "count   13518.000000   13580.000000       12211  13580.000000  13580.000000   \n",
       "unique           NaN            NaN          33           NaN           NaN   \n",
       "top              NaN            NaN    Moreland           NaN           NaN   \n",
       "freq             NaN            NaN        1163           NaN           NaN   \n",
       "mean        1.610075     558.416127         NaN    -37.809203    144.995216   \n",
       "std         0.962634    3990.669241         NaN      0.079260      0.103916   \n",
       "min         0.000000       0.000000         NaN    -38.182550    144.431810   \n",
       "25%         1.000000     177.000000         NaN    -37.856822    144.929600   \n",
       "50%         2.000000     440.000000         NaN    -37.802355    145.000100   \n",
       "75%         2.000000     651.000000         NaN    -37.756400    145.058305   \n",
       "max        10.000000  433014.000000         NaN    -37.408530    145.526350   \n",
       "\n",
       "                   Regionname  Propertycount  \n",
       "count                   13580   13580.000000  \n",
       "unique                      8            NaN  \n",
       "top     Southern Metropolitan            NaN  \n",
       "freq                     4695            NaN  \n",
       "mean                      NaN    7454.417378  \n",
       "std                       NaN    4378.581772  \n",
       "min                       NaN     249.000000  \n",
       "25%                       NaN    4380.000000  \n",
       "50%                       NaN    6555.000000  \n",
       "75%                       NaN   10331.000000  \n",
       "max                       NaN   21650.000000  "
      ]
     },
     "execution_count": 9,
     "metadata": {},
     "output_type": "execute_result"
    }
   ],
   "source": [
    "# check summary statistics\n",
    "df.describe(include='all')"
   ]
  },
  {
   "cell_type": "code",
   "execution_count": 10,
   "metadata": {
    "ExecuteTime": {
     "end_time": "2023-02-03T00:39:27.709376Z",
     "start_time": "2023-02-03T00:39:27.701393Z"
    },
    "colab": {
     "base_uri": "https://localhost:8080/"
    },
    "executionInfo": {
     "elapsed": 6,
     "status": "ok",
     "timestamp": 1668028842604,
     "user": {
      "displayName": "Josh Johnson",
      "userId": "08606005069848925988"
     },
     "user_tz": 480
    },
    "id": "pBY0S2qvt8fy",
    "outputId": "b53a1d17-0bd0-4da2-c2e4-30154dd82a0d"
   },
   "outputs": [
    {
     "data": {
      "text/plain": [
       "count    1.358000e+04\n",
       "mean     1.075684e+06\n",
       "std      6.393107e+05\n",
       "min      8.500000e+04\n",
       "25%      6.500000e+05\n",
       "50%      9.030000e+05\n",
       "75%      1.330000e+06\n",
       "max      9.000000e+06\n",
       "Name: Price, dtype: float64"
      ]
     },
     "execution_count": 10,
     "metadata": {},
     "output_type": "execute_result"
    }
   ],
   "source": [
    "df['Price'].describe()"
   ]
  },
  {
   "cell_type": "code",
   "execution_count": 11,
   "metadata": {
    "ExecuteTime": {
     "end_time": "2023-02-03T00:39:28.589561Z",
     "start_time": "2023-02-03T00:39:27.710371Z"
    },
    "colab": {
     "base_uri": "https://localhost:8080/",
     "height": 1000
    },
    "executionInfo": {
     "elapsed": 1812,
     "status": "ok",
     "timestamp": 1668028844412,
     "user": {
      "displayName": "Josh Johnson",
      "userId": "08606005069848925988"
     },
     "user_tz": 480
    },
    "id": "xjFlm0hdxmYl",
    "outputId": "35d139fe-d31e-4238-bf94-3110528cefa1"
   },
   "outputs": [
    {
     "name": "stdout",
     "output_type": "stream",
     "text": [
      "\n",
      " Rooms \n",
      "\n"
     ]
    },
    {
     "data": {
      "image/png": "[encoded data removed]",
      "text/plain": [
       "<Figure size 640x480 with 1 Axes>"
      ]
     },
     "metadata": {},
     "output_type": "display_data"
    },
    {
     "name": "stdout",
     "output_type": "stream",
     "text": [
      "\n",
      " Price \n",
      "\n"
     ]
    },
    {
     "data": {
      "image/png": "[encoded data removed]",
      "text/plain": [
       "<Figure size 640x480 with 1 Axes>"
      ]
     },
     "metadata": {},
     "output_type": "display_data"
    },
    {
     "name": "stdout",
     "output_type": "stream",
     "text": [
      "\n",
      " Distance \n",
      "\n"
     ]
    },
    {
     "data": {
      "image/png": "[encoded data removed]",
      "text/plain": [
       "<Figure size 640x480 with 1 Axes>"
      ]
     },
     "metadata": {},
     "output_type": "display_data"
    },
    {
     "name": "stdout",
     "output_type": "stream",
     "text": [
      "\n",
      " Postcode \n",
      "\n"
     ]
    },
    {
     "data": {
      "image/png": "[encoded data removed]",
      "text/plain": [
       "<Figure size 640x480 with 1 Axes>"
      ]
     },
     "metadata": {},
     "output_type": "display_data"
    },
    {
     "name": "stdout",
     "output_type": "stream",
     "text": [
      "\n",
      " Bedroom2 \n",
      "\n"
     ]
    },
    {
     "data": {
      "image/png": "[encoded data removed]",
      "text/plain": [
       "<Figure size 640x480 with 1 Axes>"
      ]
     },
     "metadata": {},
     "output_type": "display_data"
    },
    {
     "name": "stdout",
     "output_type": "stream",
     "text": [
      "\n",
      " Bathroom \n",
      "\n"
     ]
    },
    {
     "data": {
      "image/png": "[encoded data removed]",
      "text/plain": [
       "<Figure size 640x480 with 1 Axes>"
      ]
     },
     "metadata": {},
     "output_type": "display_data"
    },
    {
     "name": "stdout",
     "output_type": "stream",
     "text": [
      "\n",
      " Car \n",
      "\n"
     ]
    },
    {
     "data": {
      "image/png": "[encoded data removed]",
      "text/plain": [
       "<Figure size 640x480 with 1 Axes>"
      ]
     },
     "metadata": {},
     "output_type": "display_data"
    },
    {
     "name": "stdout",
     "output_type": "stream",
     "text": [
      "\n",
      " Landsize \n",
      "\n"
     ]
    },
    {
     "data": {
      "image/png": "[encoded data removed]",
      "text/plain": [
       "<Figure size 640x480 with 1 Axes>"
      ]
     },
     "metadata": {},
     "output_type": "display_data"
    },
    {
     "name": "stdout",
     "output_type": "stream",
     "text": [
      "\n",
      " Lattitude \n",
      "\n"
     ]
    },
    {
     "data": {
      "image/png": "[encoded data removed]",
      "text/plain": [
       "<Figure size 640x480 with 1 Axes>"
      ]
     },
     "metadata": {},
     "output_type": "display_data"
    },
    {
     "name": "stdout",
     "output_type": "stream",
     "text": [
      "\n",
      " Longtitude \n",
      "\n"
     ]
    },
    {
     "data": {
      "image/png": "[encoded data removed]",
      "text/plain": [
       "<Figure size 640x480 with 1 Axes>"
      ]
     },
     "metadata": {},
     "output_type": "display_data"
    },
    {
     "name": "stdout",
     "output_type": "stream",
     "text": [
      "\n",
      " Propertycount \n",
      "\n"
     ]
    },
    {
     "data": {
      "image/png": "[encoded data removed]",
      "text/plain": [
       "<Figure size 640x480 with 1 Axes>"
      ]
     },
     "metadata": {},
     "output_type": "display_data"
    }
   ],
   "source": [
    "# explore numeric distributions\n",
    "for col in df.select_dtypes('number'):\n",
    "  print('\\n', col, '\\n')\n",
    "  df[col].plot(kind='box')\n",
    "  plt.show()"
   ]
  },
  {
   "cell_type": "markdown",
   "metadata": {
    "id": "b5mB-62ixhOE"
   },
   "source": [
    "# Feature Engineering\n",
    "\n",
    "What would you do to improve this dataset?\n",
    "\n",
    "### Some Ideas:\n",
    "1. Remove outliers\n",
    "2. Change the distribution with np.log, np.sqrt, np.cbrt\n",
    "3. Bin features or target with .replace or .apply\n",
    "4. Combine features\n",
    "5. Extract hour, day, or month from datetime\n",
    "6. Encode data: one-hot encoding, ordinal encoding, target encoding\n",
    "7. Parse strings\n",
    "8. Try different imputation strategies"
   ]
  },
  {
   "cell_type": "markdown",
   "metadata": {
    "id": "qXFO-KPBMnze"
   },
   "source": [
    "# Categorical Feature Engineering"
   ]
  },
  {
   "cell_type": "code",
   "execution_count": 12,
   "metadata": {
    "ExecuteTime": {
     "end_time": "2023-02-03T00:39:28.600487Z",
     "start_time": "2023-02-03T00:39:28.590990Z"
    },
    "colab": {
     "base_uri": "https://localhost:8080/"
    },
    "executionInfo": {
     "elapsed": 10,
     "status": "ok",
     "timestamp": 1668028844413,
     "user": {
      "displayName": "Josh Johnson",
      "userId": "08606005069848925988"
     },
     "user_tz": 480
    },
    "id": "9zHP5ChwqBCx",
    "outputId": "a517e1fb-791b-4d11-9b1e-41f833632cc6"
   },
   "outputs": [
    {
     "name": "stdout",
     "output_type": "stream",
     "text": [
      "Suburb 314\n",
      "Type 3\n",
      "Method 5\n",
      "SellerG 268\n",
      "Date 58\n",
      "CouncilArea 33\n",
      "Regionname 8\n"
     ]
    }
   ],
   "source": [
    "for col in df.select_dtypes('object'):\n",
    "  print(col, df[col].nunique())"
   ]
  },
  {
   "cell_type": "code",
   "execution_count": 13,
   "metadata": {
    "ExecuteTime": {
     "end_time": "2023-02-03T00:39:28.606476Z",
     "start_time": "2023-02-03T00:39:28.601485Z"
    },
    "executionInfo": {
     "elapsed": 9,
     "status": "ok",
     "timestamp": 1668028844413,
     "user": {
      "displayName": "Josh Johnson",
      "userId": "08606005069848925988"
     },
     "user_tz": 480
    },
    "id": "TJ4fkXjZMq7_"
   },
   "outputs": [],
   "source": [
    "# drop 'SellerG' and 'Suburb' because they have high cardinality\n",
    "\n",
    "df.drop(columns=['SellerG','Suburb'], inplace=True)"
   ]
  },
  {
   "cell_type": "markdown",
   "metadata": {
    "id": "zfuzG5Uu0Sj9"
   },
   "source": [
    "# Engineer datetime columns"
   ]
  },
  {
   "cell_type": "code",
   "execution_count": 14,
   "metadata": {
    "ExecuteTime": {
     "end_time": "2023-02-03T00:39:28.617700Z",
     "start_time": "2023-02-03T00:39:28.608471Z"
    },
    "colab": {
     "base_uri": "https://localhost:8080/"
    },
    "executionInfo": {
     "elapsed": 9,
     "status": "ok",
     "timestamp": 1668028844413,
     "user": {
      "displayName": "Josh Johnson",
      "userId": "08606005069848925988"
     },
     "user_tz": 480
    },
    "id": "8UW3huXNLC9H",
    "outputId": "ceebff8a-b2b2-4312-f4c5-b7347b61ffaa"
   },
   "outputs": [
    {
     "data": {
      "text/plain": [
       "dtype('<M8[ns]')"
      ]
     },
     "execution_count": 14,
     "metadata": {},
     "output_type": "execute_result"
    }
   ],
   "source": [
    "df['Date'] = pd.to_datetime(df['Date'])\n",
    "df['Date'].dtype"
   ]
  },
  {
   "cell_type": "code",
   "execution_count": 15,
   "metadata": {
    "ExecuteTime": {
     "end_time": "2023-02-03T00:39:28.632305Z",
     "start_time": "2023-02-03T00:39:28.618697Z"
    },
    "executionInfo": {
     "elapsed": 195,
     "status": "ok",
     "timestamp": 1668028844602,
     "user": {
      "displayName": "Josh Johnson",
      "userId": "08606005069848925988"
     },
     "user_tz": 480
    },
    "id": "si5B8I_GLLFf"
   },
   "outputs": [],
   "source": [
    "df['Month'] = df['Date'].dt.month_name()\n",
    "df['Day'] = df['Date'].dt.day_name()\n",
    "df['Year'] = df['Date'].dt.year"
   ]
  },
  {
   "cell_type": "code",
   "execution_count": 16,
   "metadata": {
    "ExecuteTime": {
     "end_time": "2023-02-03T00:39:28.641449Z",
     "start_time": "2023-02-03T00:39:28.633302Z"
    },
    "executionInfo": {
     "elapsed": 11,
     "status": "ok",
     "timestamp": 1668028844602,
     "user": {
      "displayName": "Josh Johnson",
      "userId": "08606005069848925988"
     },
     "user_tz": 480
    },
    "id": "b46p3LVgLftW"
   },
   "outputs": [],
   "source": [
    "df.drop(columns='Date', inplace=True)"
   ]
  },
  {
   "cell_type": "markdown",
   "metadata": {
    "id": "2tWbnRK2NEdW"
   },
   "source": [
    "# Numeric Feature Engineering"
   ]
  },
  {
   "cell_type": "markdown",
   "metadata": {
    "id": "eXBvI1Wgz5kV"
   },
   "source": [
    "### Filter to remove outliers"
   ]
  },
  {
   "cell_type": "code",
   "execution_count": 17,
   "metadata": {
    "ExecuteTime": {
     "end_time": "2023-02-03T00:39:28.651443Z",
     "start_time": "2023-02-03T00:39:28.642446Z"
    },
    "colab": {
     "base_uri": "https://localhost:8080/"
    },
    "executionInfo": {
     "elapsed": 12,
     "status": "ok",
     "timestamp": 1668028844603,
     "user": {
      "displayName": "Josh Johnson",
      "userId": "08606005069848925988"
     },
     "user_tz": 480
    },
    "id": "E7ORaHA9y7Hl",
    "outputId": "235569d5-1726-4275-d89d-5bf18e299810"
   },
   "outputs": [
    {
     "data": {
      "text/plain": [
       "count     13580.000000\n",
       "mean        558.416127\n",
       "std        3990.669241\n",
       "min           0.000000\n",
       "25%         177.000000\n",
       "50%         440.000000\n",
       "75%         651.000000\n",
       "max      433014.000000\n",
       "Name: Landsize, dtype: float64"
      ]
     },
     "execution_count": 17,
     "metadata": {},
     "output_type": "execute_result"
    }
   ],
   "source": [
    "df['Landsize'].describe()"
   ]
  },
  {
   "cell_type": "code",
   "execution_count": 18,
   "metadata": {
    "ExecuteTime": {
     "end_time": "2023-02-03T00:39:28.665011Z",
     "start_time": "2023-02-03T00:39:28.652443Z"
    },
    "colab": {
     "base_uri": "https://localhost:8080/"
    },
    "executionInfo": {
     "elapsed": 11,
     "status": "ok",
     "timestamp": 1668028844603,
     "user": {
      "displayName": "Josh Johnson",
      "userId": "08606005069848925988"
     },
     "user_tz": 480
    },
    "id": "mLUQKAPZy_mM",
    "outputId": "c3342654-d6f8-4a4c-dafd-2cd4d8509ba8"
   },
   "outputs": [
    {
     "data": {
      "text/plain": [
       "count    13579.000000\n",
       "mean       526.568746\n",
       "std       1466.972242\n",
       "min          0.000000\n",
       "25%        177.000000\n",
       "50%        440.000000\n",
       "75%        651.000000\n",
       "max      76000.000000\n",
       "Name: Landsize, dtype: float64"
      ]
     },
     "execution_count": 18,
     "metadata": {},
     "output_type": "execute_result"
    }
   ],
   "source": [
    "# exclude houses with more than 100000m^2 of land\n",
    "df = df[df['Landsize'] < 100000]\n",
    "df['Landsize'].describe()"
   ]
  },
  {
   "cell_type": "markdown",
   "metadata": {
    "id": "i4O1jV4Fz9Kk"
   },
   "source": [
    "## Transform to normalize feature"
   ]
  },
  {
   "cell_type": "code",
   "execution_count": 19,
   "metadata": {
    "ExecuteTime": {
     "end_time": "2023-02-03T00:39:28.769249Z",
     "start_time": "2023-02-03T00:39:28.666315Z"
    },
    "colab": {
     "base_uri": "https://localhost:8080/",
     "height": 283
    },
    "executionInfo": {
     "elapsed": 191,
     "status": "ok",
     "timestamp": 1668028844785,
     "user": {
      "displayName": "Josh Johnson",
      "userId": "08606005069848925988"
     },
     "user_tz": 480
    },
    "id": "ePYtyxkR0Fc0",
    "outputId": "3cf4972e-7d48-463f-b186-6e349ea182ca"
   },
   "outputs": [
    {
     "data": {
      "text/plain": [
       "<AxesSubplot: >"
      ]
     },
     "execution_count": 19,
     "metadata": {},
     "output_type": "execute_result"
    },
    {
     "data": {
      "image/png": "[encoded data removed]",
      "text/plain": [
       "<Figure size 640x480 with 1 Axes>"
      ]
     },
     "metadata": {},
     "output_type": "display_data"
    }
   ],
   "source": [
    "df['Landsize'].plot(kind='box')"
   ]
  },
  {
   "cell_type": "code",
   "execution_count": 20,
   "metadata": {
    "ExecuteTime": {
     "end_time": "2023-02-03T00:39:28.774211Z",
     "start_time": "2023-02-03T00:39:28.771215Z"
    },
    "colab": {
     "base_uri": "https://localhost:8080/",
     "height": 283
    },
    "executionInfo": {
     "elapsed": 247,
     "status": "ok",
     "timestamp": 1668028845028,
     "user": {
      "displayName": "Josh Johnson",
      "userId": "08606005069848925988"
     },
     "user_tz": 480
    },
    "id": "dlB_eZYdzPst",
    "outputId": "96c3d702-9fa1-49d1-feaa-4704dafe1640"
   },
   "outputs": [],
   "source": [
    "# log transform 'distance_travelled(kms)'\n",
    "# df['LogLandsize'] = np.log(df['Landsize'], where=df['Landsize'] > 0)\n",
    "# df['LogLandsize'].plot(kind='box')"
   ]
  },
  {
   "cell_type": "code",
   "execution_count": 21,
   "metadata": {
    "ExecuteTime": {
     "end_time": "2023-02-03T00:39:28.781257Z",
     "start_time": "2023-02-03T00:39:28.776206Z"
    },
    "executionInfo": {
     "elapsed": 7,
     "status": "ok",
     "timestamp": 1668028845029,
     "user": {
      "displayName": "Josh Johnson",
      "userId": "08606005069848925988"
     },
     "user_tz": 480
    },
    "id": "HxoaJr2keBIW"
   },
   "outputs": [],
   "source": [
    "df.drop(columns='Landsize', inplace=True)"
   ]
  },
  {
   "cell_type": "markdown",
   "metadata": {
    "id": "pM1ER21JWKoV"
   },
   "source": [
    "### Converting 'Postcode' to object type since it's categorical"
   ]
  },
  {
   "cell_type": "code",
   "execution_count": 22,
   "metadata": {
    "ExecuteTime": {
     "end_time": "2023-02-03T00:39:28.787243Z",
     "start_time": "2023-02-03T00:39:28.782253Z"
    },
    "executionInfo": {
     "elapsed": 6,
     "status": "ok",
     "timestamp": 1668028845029,
     "user": {
      "displayName": "Josh Johnson",
      "userId": "08606005069848925988"
     },
     "user_tz": 480
    },
    "id": "VFcOyiFrWSd1"
   },
   "outputs": [],
   "source": [
    "df['Postcode'] = df['Postcode'].astype('object')"
   ]
  },
  {
   "cell_type": "markdown",
   "metadata": {
    "id": "Pr5J0t2d7pnw"
   },
   "source": [
    "## Validation Split"
   ]
  },
  {
   "cell_type": "code",
   "execution_count": 23,
   "metadata": {
    "ExecuteTime": {
     "end_time": "2023-02-03T00:39:28.799745Z",
     "start_time": "2023-02-03T00:39:28.788240Z"
    },
    "executionInfo": {
     "elapsed": 7,
     "status": "ok",
     "timestamp": 1668028845030,
     "user": {
      "displayName": "Josh Johnson",
      "userId": "08606005069848925988"
     },
     "user_tz": 480
    },
    "id": "NZOXt2eftIjK"
   },
   "outputs": [],
   "source": [
    "X = df.drop(columns=['Price'])\n",
    "y = df['Price']\n",
    "\n",
    "X_train, X_test, y_train, y_test =  train_test_split(X, y, random_state=42)"
   ]
  },
  {
   "cell_type": "code",
   "execution_count": 24,
   "metadata": {
    "ExecuteTime": {
     "end_time": "2023-02-03T00:39:28.814513Z",
     "start_time": "2023-02-03T00:39:28.801032Z"
    },
    "colab": {
     "base_uri": "https://localhost:8080/",
     "height": 357
    },
    "executionInfo": {
     "elapsed": 7,
     "status": "ok",
     "timestamp": 1668028845030,
     "user": {
      "displayName": "Josh Johnson",
      "userId": "08606005069848925988"
     },
     "user_tz": 480
    },
    "id": "8mGqSSs3u9l5",
    "outputId": "409da4f1-bf95-4438-b085-1647ff3d047b"
   },
   "outputs": [
    {
     "data": {
      "text/html": [
       "<div>\n",
       "<style scoped>\n",
       "    .dataframe tbody tr th:only-of-type {\n",
       "        vertical-align: middle;\n",
       "    }\n",
       "\n",
       "    .dataframe tbody tr th {\n",
       "        vertical-align: top;\n",
       "    }\n",
       "\n",
       "    .dataframe thead th {\n",
       "        text-align: right;\n",
       "    }\n",
       "</style>\n",
       "<table border=\"1\" class=\"dataframe\">\n",
       "  <thead>\n",
       "    <tr style=\"text-align: right;\">\n",
       "      <th></th>\n",
       "      <th>Rooms</th>\n",
       "      <th>Type</th>\n",
       "      <th>Method</th>\n",
       "      <th>Distance</th>\n",
       "      <th>Postcode</th>\n",
       "      <th>Bedroom2</th>\n",
       "      <th>Bathroom</th>\n",
       "      <th>Car</th>\n",
       "      <th>CouncilArea</th>\n",
       "      <th>Lattitude</th>\n",
       "      <th>Longtitude</th>\n",
       "      <th>Regionname</th>\n",
       "      <th>Propertycount</th>\n",
       "      <th>Month</th>\n",
       "      <th>Day</th>\n",
       "      <th>Year</th>\n",
       "    </tr>\n",
       "  </thead>\n",
       "  <tbody>\n",
       "    <tr>\n",
       "      <th>11958</th>\n",
       "      <td>4</td>\n",
       "      <td>h</td>\n",
       "      <td>S</td>\n",
       "      <td>20.6</td>\n",
       "      <td>3064</td>\n",
       "      <td>4</td>\n",
       "      <td>2</td>\n",
       "      <td>2.0</td>\n",
       "      <td>Hume</td>\n",
       "      <td>-37.58505</td>\n",
       "      <td>144.93592</td>\n",
       "      <td>Northern Metropolitan</td>\n",
       "      <td>15510</td>\n",
       "      <td>July</td>\n",
       "      <td>Saturday</td>\n",
       "      <td>2017</td>\n",
       "    </tr>\n",
       "    <tr>\n",
       "      <th>10119</th>\n",
       "      <td>3</td>\n",
       "      <td>t</td>\n",
       "      <td>S</td>\n",
       "      <td>9.7</td>\n",
       "      <td>3104</td>\n",
       "      <td>3</td>\n",
       "      <td>2</td>\n",
       "      <td>1.0</td>\n",
       "      <td>Boroondara</td>\n",
       "      <td>-37.79294</td>\n",
       "      <td>145.08583</td>\n",
       "      <td>Southern Metropolitan</td>\n",
       "      <td>7809</td>\n",
       "      <td>May</td>\n",
       "      <td>Saturday</td>\n",
       "      <td>2017</td>\n",
       "    </tr>\n",
       "    <tr>\n",
       "      <th>12481</th>\n",
       "      <td>3</td>\n",
       "      <td>h</td>\n",
       "      <td>S</td>\n",
       "      <td>14.3</td>\n",
       "      <td>3109</td>\n",
       "      <td>3</td>\n",
       "      <td>1</td>\n",
       "      <td>2.0</td>\n",
       "      <td>NaN</td>\n",
       "      <td>-37.78649</td>\n",
       "      <td>145.16774</td>\n",
       "      <td>Eastern Metropolitan</td>\n",
       "      <td>10999</td>\n",
       "      <td>September</td>\n",
       "      <td>Saturday</td>\n",
       "      <td>2017</td>\n",
       "    </tr>\n",
       "    <tr>\n",
       "      <th>5775</th>\n",
       "      <td>3</td>\n",
       "      <td>h</td>\n",
       "      <td>S</td>\n",
       "      <td>6.1</td>\n",
       "      <td>3182</td>\n",
       "      <td>3</td>\n",
       "      <td>2</td>\n",
       "      <td>3.0</td>\n",
       "      <td>Port Phillip</td>\n",
       "      <td>-37.86450</td>\n",
       "      <td>144.98050</td>\n",
       "      <td>Southern Metropolitan</td>\n",
       "      <td>13240</td>\n",
       "      <td>April</td>\n",
       "      <td>Monday</td>\n",
       "      <td>2017</td>\n",
       "    </tr>\n",
       "    <tr>\n",
       "      <th>3219</th>\n",
       "      <td>1</td>\n",
       "      <td>u</td>\n",
       "      <td>PI</td>\n",
       "      <td>4.6</td>\n",
       "      <td>3122</td>\n",
       "      <td>1</td>\n",
       "      <td>1</td>\n",
       "      <td>1.0</td>\n",
       "      <td>Boroondara</td>\n",
       "      <td>-37.82220</td>\n",
       "      <td>145.03290</td>\n",
       "      <td>Southern Metropolitan</td>\n",
       "      <td>11308</td>\n",
       "      <td>August</td>\n",
       "      <td>Sunday</td>\n",
       "      <td>2016</td>\n",
       "    </tr>\n",
       "  </tbody>\n",
       "</table>\n",
       "</div>"
      ],
      "text/plain": [
       "       Rooms Type Method  Distance Postcode  Bedroom2  Bathroom  Car  \\\n",
       "11958      4    h      S      20.6     3064         4         2  2.0   \n",
       "10119      3    t      S       9.7     3104         3         2  1.0   \n",
       "12481      3    h      S      14.3     3109         3         1  2.0   \n",
       "5775       3    h      S       6.1     3182         3         2  3.0   \n",
       "3219       1    u     PI       4.6     3122         1         1  1.0   \n",
       "\n",
       "        CouncilArea  Lattitude  Longtitude             Regionname  \\\n",
       "11958          Hume  -37.58505   144.93592  Northern Metropolitan   \n",
       "10119    Boroondara  -37.79294   145.08583  Southern Metropolitan   \n",
       "12481           NaN  -37.78649   145.16774   Eastern Metropolitan   \n",
       "5775   Port Phillip  -37.86450   144.98050  Southern Metropolitan   \n",
       "3219     Boroondara  -37.82220   145.03290  Southern Metropolitan   \n",
       "\n",
       "       Propertycount      Month       Day  Year  \n",
       "11958          15510       July  Saturday  2017  \n",
       "10119           7809        May  Saturday  2017  \n",
       "12481          10999  September  Saturday  2017  \n",
       "5775           13240      April    Monday  2017  \n",
       "3219           11308     August    Sunday  2016  "
      ]
     },
     "execution_count": 24,
     "metadata": {},
     "output_type": "execute_result"
    }
   ],
   "source": [
    "X_train.head()"
   ]
  },
  {
   "cell_type": "markdown",
   "metadata": {
    "id": "UUW0DP7cMDZH"
   },
   "source": [
    "# Engineer the Target\n",
    "\n",
    "### Change from regression to classification problem"
   ]
  },
  {
   "cell_type": "code",
   "execution_count": 25,
   "metadata": {
    "ExecuteTime": {
     "end_time": "2023-02-03T00:39:28.825490Z",
     "start_time": "2023-02-03T00:39:28.816514Z"
    },
    "executionInfo": {
     "elapsed": 185,
     "status": "ok",
     "timestamp": 1668028845209,
     "user": {
      "displayName": "Josh Johnson",
      "userId": "08606005069848925988"
     },
     "user_tz": 480
    },
    "id": "MhIJyEABMF5n"
   },
   "outputs": [],
   "source": [
    "mean_price = y_train.mean()\n",
    "y_train = y_train.apply(lambda x: 1 if x > mean_price else 0)\n",
    "y_test = y_test.apply(lambda x: 1 if x > mean_price else 0)"
   ]
  },
  {
   "cell_type": "markdown",
   "metadata": {
    "id": "ZKU4SCm9Rq40"
   },
   "source": [
    "# Modeling: Base Model"
   ]
  },
  {
   "cell_type": "code",
   "execution_count": null,
   "metadata": {
    "id": "RFFCbCGCRs_F"
   },
   "outputs": [],
   "source": []
  },
  {
   "cell_type": "code",
   "execution_count": 26,
   "metadata": {
    "ExecuteTime": {
     "end_time": "2023-02-03T00:39:28.934339Z",
     "start_time": "2023-02-03T00:39:28.826487Z"
    },
    "colab": {
     "base_uri": "https://localhost:8080/"
    },
    "executionInfo": {
     "elapsed": 147,
     "status": "ok",
     "timestamp": 1668029038685,
     "user": {
      "displayName": "Josh Johnson",
      "userId": "08606005069848925988"
     },
     "user_tz": 480
    },
    "id": "mz2B32mvRtOv",
    "outputId": "965014df-f5c2-4d49-a0e0-9be163a9c945"
   },
   "outputs": [
    {
     "name": "stdout",
     "output_type": "stream",
     "text": [
      "(10184, 272)\n"
     ]
    }
   ],
   "source": [
    "scaler = StandardScaler()\n",
    "ohe = OneHotEncoder(sparse=False, handle_unknown='ignore')\n",
    "\n",
    "mean_imputer = SimpleImputer(strategy='mean')\n",
    "missing_imputer = SimpleImputer(strategy='constant', fill_value='missing')\n",
    "\n",
    "num_cols = make_column_selector(dtype_include='number')\n",
    "cat_cols = make_column_selector(dtype_include='object')\n",
    "\n",
    "\n",
    "num_pipe = make_pipeline(mean_imputer, scaler)\n",
    "cat_pipe = make_pipeline(missing_imputer, ohe)\n",
    "\n",
    "processor = make_column_transformer((num_pipe, num_cols),\n",
    "                                    (cat_pipe, cat_cols))\n",
    "\n",
    "print(processor.fit_transform(X_train).shape)"
   ]
  },
  {
   "cell_type": "code",
   "execution_count": 27,
   "metadata": {
    "ExecuteTime": {
     "end_time": "2023-02-03T00:39:29.289814Z",
     "start_time": "2023-02-03T00:39:28.935308Z"
    },
    "executionInfo": {
     "elapsed": 2052,
     "status": "ok",
     "timestamp": 1668029046801,
     "user": {
      "displayName": "Josh Johnson",
      "userId": "08606005069848925988"
     },
     "user_tz": 480
    },
    "id": "Wkl0rTGdRtOw"
   },
   "outputs": [],
   "source": [
    "# Instantiate and fit model\n",
    "\n",
    "scores = pd.DataFrame()\n",
    "\n",
    "logreg2 = LogisticRegression()\n",
    "log_pipe2 = make_pipeline(processor, logreg2)\n",
    "log_pipe2.fit(X_train, y_train)\n",
    "\n",
    "train_pred = log_pipe2.predict(X_train)\n",
    "test_pred = log_pipe2.predict(X_test)"
   ]
  },
  {
   "cell_type": "code",
   "execution_count": 28,
   "metadata": {
    "ExecuteTime": {
     "end_time": "2023-02-03T00:39:29.622379Z",
     "start_time": "2023-02-03T00:39:29.293805Z"
    },
    "colab": {
     "base_uri": "https://localhost:8080/",
     "height": 1000
    },
    "executionInfo": {
     "elapsed": 5,
     "status": "ok",
     "timestamp": 1668029046802,
     "user": {
      "displayName": "Josh Johnson",
      "userId": "08606005069848925988"
     },
     "user_tz": 480
    },
    "id": "wIXBr92CRtOw",
    "outputId": "a747dc4e-757e-4acf-e2fa-830247ac27bd"
   },
   "outputs": [
    {
     "name": "stdout",
     "output_type": "stream",
     "text": [
      "Train \n",
      "\n",
      "              precision    recall  f1-score   support\n",
      "\n",
      "           0       0.91      0.91      0.91      6302\n",
      "           1       0.86      0.86      0.86      3882\n",
      "\n",
      "    accuracy                           0.89     10184\n",
      "   macro avg       0.88      0.88      0.88     10184\n",
      "weighted avg       0.89      0.89      0.89     10184\n",
      "\n"
     ]
    },
    {
     "data": {
      "image/png": "[encoded data removed]",
      "text/plain": [
       "<Figure size 640x480 with 2 Axes>"
      ]
     },
     "metadata": {},
     "output_type": "display_data"
    },
    {
     "name": "stdout",
     "output_type": "stream",
     "text": [
      "Test \n",
      "\n",
      "              precision    recall  f1-score   support\n",
      "\n",
      "           0       0.90      0.90      0.90      2036\n",
      "           1       0.85      0.85      0.85      1359\n",
      "\n",
      "    accuracy                           0.88      3395\n",
      "   macro avg       0.88      0.88      0.88      3395\n",
      "weighted avg       0.88      0.88      0.88      3395\n",
      "\n"
     ]
    },
    {
     "data": {
      "image/png": "[encoded data removed]",
      "text/plain": [
       "<Figure size 640x480 with 2 Axes>"
      ]
     },
     "metadata": {},
     "output_type": "display_data"
    },
    {
     "data": {
      "text/html": [
       "<div>\n",
       "<style scoped>\n",
       "    .dataframe tbody tr th:only-of-type {\n",
       "        vertical-align: middle;\n",
       "    }\n",
       "\n",
       "    .dataframe tbody tr th {\n",
       "        vertical-align: top;\n",
       "    }\n",
       "\n",
       "    .dataframe thead th {\n",
       "        text-align: right;\n",
       "    }\n",
       "</style>\n",
       "<table border=\"1\" class=\"dataframe\">\n",
       "  <thead>\n",
       "    <tr style=\"text-align: right;\">\n",
       "      <th></th>\n",
       "      <th>Model Name</th>\n",
       "      <th>Precision</th>\n",
       "      <th>Recall</th>\n",
       "      <th>F1 Score</th>\n",
       "      <th>Accuracy</th>\n",
       "    </tr>\n",
       "  </thead>\n",
       "  <tbody>\n",
       "    <tr>\n",
       "      <th>0</th>\n",
       "      <td>Train</td>\n",
       "      <td>0.855561</td>\n",
       "      <td>0.856002</td>\n",
       "      <td>0.855782</td>\n",
       "      <td>0.890024</td>\n",
       "    </tr>\n",
       "    <tr>\n",
       "      <th>0</th>\n",
       "      <td>Test</td>\n",
       "      <td>0.854182</td>\n",
       "      <td>0.849154</td>\n",
       "      <td>0.851661</td>\n",
       "      <td>0.881591</td>\n",
       "    </tr>\n",
       "  </tbody>\n",
       "</table>\n",
       "</div>"
      ],
      "text/plain": [
       "  Model Name  Precision    Recall  F1 Score  Accuracy\n",
       "0      Train   0.855561  0.856002  0.855782  0.890024\n",
       "0       Test   0.854182  0.849154  0.851661  0.881591"
      ]
     },
     "execution_count": 28,
     "metadata": {},
     "output_type": "execute_result"
    }
   ],
   "source": [
    "# evaluate model\n",
    "train_scores = eval_classification(y_train, train_pred, name='Train')\n",
    "\n",
    "test_scores = eval_classification(y_test, test_pred, name='Test')\n",
    "\n",
    "log_scores = pd.concat([train_scores, test_scores])\n",
    "log_scores"
   ]
  },
  {
   "cell_type": "markdown",
   "metadata": {
    "id": "P4KsHBlGEXl7"
   },
   "source": [
    "# Modeling: PolynomialFeatures"
   ]
  },
  {
   "cell_type": "markdown",
   "metadata": {
    "id": "8IanYLtaPqN2"
   },
   "source": [
    "## Test PolynomialFeatures to see how it changes data\n",
    "\n",
    "We are working here with the entire dataframe to illustrate how the model combines numeric features.  We won't apply the transformers until later."
   ]
  },
  {
   "cell_type": "code",
   "execution_count": 29,
   "metadata": {
    "ExecuteTime": {
     "end_time": "2023-02-03T00:39:29.646853Z",
     "start_time": "2023-02-03T00:39:29.624373Z"
    },
    "colab": {
     "base_uri": "https://localhost:8080/",
     "height": 250
    },
    "executionInfo": {
     "elapsed": 197,
     "status": "ok",
     "timestamp": 1668028897070,
     "user": {
      "displayName": "Josh Johnson",
      "userId": "08606005069848925988"
     },
     "user_tz": 480
    },
    "id": "ZvVh2dF3Ee3N",
    "outputId": "ee4e1383-745e-4e14-a314-b6e295222ebf"
   },
   "outputs": [
    {
     "data": {
      "text/html": [
       "<div>\n",
       "<style scoped>\n",
       "    .dataframe tbody tr th:only-of-type {\n",
       "        vertical-align: middle;\n",
       "    }\n",
       "\n",
       "    .dataframe tbody tr th {\n",
       "        vertical-align: top;\n",
       "    }\n",
       "\n",
       "    .dataframe thead th {\n",
       "        text-align: right;\n",
       "    }\n",
       "</style>\n",
       "<table border=\"1\" class=\"dataframe\">\n",
       "  <thead>\n",
       "    <tr style=\"text-align: right;\">\n",
       "      <th></th>\n",
       "      <th>1</th>\n",
       "      <th>Lattitude</th>\n",
       "      <th>Longtitude</th>\n",
       "      <th>Lattitude^2</th>\n",
       "      <th>Lattitude Longtitude</th>\n",
       "      <th>Longtitude^2</th>\n",
       "      <th>Lattitude^3</th>\n",
       "      <th>Lattitude^2 Longtitude</th>\n",
       "      <th>Lattitude Longtitude^2</th>\n",
       "      <th>Longtitude^3</th>\n",
       "    </tr>\n",
       "  </thead>\n",
       "  <tbody>\n",
       "    <tr>\n",
       "      <th>0</th>\n",
       "      <td>1.0</td>\n",
       "      <td>0.121166</td>\n",
       "      <td>0.030630</td>\n",
       "      <td>0.014681</td>\n",
       "      <td>0.003711</td>\n",
       "      <td>0.000938</td>\n",
       "      <td>1.778866e-03</td>\n",
       "      <td>4.496839e-04</td>\n",
       "      <td>1.136767e-04</td>\n",
       "      <td>2.873662e-05</td>\n",
       "    </tr>\n",
       "    <tr>\n",
       "      <th>1</th>\n",
       "      <td>1.0</td>\n",
       "      <td>0.016447</td>\n",
       "      <td>-0.017486</td>\n",
       "      <td>0.000271</td>\n",
       "      <td>-0.000288</td>\n",
       "      <td>0.000306</td>\n",
       "      <td>4.449071e-06</td>\n",
       "      <td>-4.730134e-06</td>\n",
       "      <td>5.028952e-06</td>\n",
       "      <td>-5.346648e-06</td>\n",
       "    </tr>\n",
       "    <tr>\n",
       "      <th>2</th>\n",
       "      <td>1.0</td>\n",
       "      <td>-0.001216</td>\n",
       "      <td>-0.007863</td>\n",
       "      <td>0.000001</td>\n",
       "      <td>0.000010</td>\n",
       "      <td>0.000062</td>\n",
       "      <td>-1.799480e-09</td>\n",
       "      <td>-1.163275e-08</td>\n",
       "      <td>-7.520007e-08</td>\n",
       "      <td>-4.861316e-07</td>\n",
       "    </tr>\n",
       "    <tr>\n",
       "      <th>3</th>\n",
       "      <td>1.0</td>\n",
       "      <td>0.155231</td>\n",
       "      <td>0.016195</td>\n",
       "      <td>0.024097</td>\n",
       "      <td>0.002514</td>\n",
       "      <td>0.000262</td>\n",
       "      <td>3.740570e-03</td>\n",
       "      <td>3.902487e-04</td>\n",
       "      <td>4.071412e-05</td>\n",
       "      <td>4.247650e-06</td>\n",
       "    </tr>\n",
       "    <tr>\n",
       "      <th>4</th>\n",
       "      <td>1.0</td>\n",
       "      <td>0.025279</td>\n",
       "      <td>-0.010750</td>\n",
       "      <td>0.000639</td>\n",
       "      <td>-0.000272</td>\n",
       "      <td>0.000116</td>\n",
       "      <td>1.615367e-05</td>\n",
       "      <td>-6.869393e-06</td>\n",
       "      <td>2.921228e-06</td>\n",
       "      <td>-1.242260e-06</td>\n",
       "    </tr>\n",
       "  </tbody>\n",
       "</table>\n",
       "</div>"
      ],
      "text/plain": [
       "     1  Lattitude  Longtitude  Lattitude^2  Lattitude Longtitude  \\\n",
       "0  1.0   0.121166    0.030630     0.014681              0.003711   \n",
       "1  1.0   0.016447   -0.017486     0.000271             -0.000288   \n",
       "2  1.0  -0.001216   -0.007863     0.000001              0.000010   \n",
       "3  1.0   0.155231    0.016195     0.024097              0.002514   \n",
       "4  1.0   0.025279   -0.010750     0.000639             -0.000272   \n",
       "\n",
       "   Longtitude^2   Lattitude^3  Lattitude^2 Longtitude  Lattitude Longtitude^2  \\\n",
       "0      0.000938  1.778866e-03            4.496839e-04            1.136767e-04   \n",
       "1      0.000306  4.449071e-06           -4.730134e-06            5.028952e-06   \n",
       "2      0.000062 -1.799480e-09           -1.163275e-08           -7.520007e-08   \n",
       "3      0.000262  3.740570e-03            3.902487e-04            4.071412e-05   \n",
       "4      0.000116  1.615367e-05           -6.869393e-06            2.921228e-06   \n",
       "\n",
       "   Longtitude^3  \n",
       "0  2.873662e-05  \n",
       "1 -5.346648e-06  \n",
       "2 -4.861316e-07  \n",
       "3  4.247650e-06  \n",
       "4 -1.242260e-06  "
      ]
     },
     "execution_count": 29,
     "metadata": {},
     "output_type": "execute_result"
    }
   ],
   "source": [
    "# Create scaler and polynomial features\n",
    "poly = PolynomialFeatures(degree=3)\n",
    "scaler = StandardScaler()\n",
    "\n",
    "# Scale the data\n",
    "df_scaled = pd.DataFrame(scaler.fit_transform(df[['Lattitude','Longtitude']]), \n",
    "                            columns=df[['Lattitude','Longtitude']].columns)\n",
    "\n",
    "poly_train = poly.fit_transform(df_scaled)\n",
    "poly_train = pd.DataFrame(poly_train, columns=poly.get_feature_names_out())\n",
    "\n",
    "poly_train.head()"
   ]
  },
  {
   "cell_type": "code",
   "execution_count": 30,
   "metadata": {
    "ExecuteTime": {
     "end_time": "2023-02-03T00:39:29.821362Z",
     "start_time": "2023-02-03T00:39:29.647853Z"
    },
    "colab": {
     "base_uri": "https://localhost:8080/",
     "height": 283
    },
    "executionInfo": {
     "elapsed": 320,
     "status": "ok",
     "timestamp": 1668028897598,
     "user": {
      "displayName": "Josh Johnson",
      "userId": "08606005069848925988"
     },
     "user_tz": 480
    },
    "id": "cB4pSBRhEl98",
    "outputId": "0600acd9-3b43-4249-a785-4b27b052d09e"
   },
   "outputs": [
    {
     "data": {
      "text/plain": [
       "<matplotlib.collections.PathCollection at 0x16e01bdcd90>"
      ]
     },
     "execution_count": 30,
     "metadata": {},
     "output_type": "execute_result"
    },
    {
     "data": {
      "image/png": "[encoded data removed]",
      "text/plain": [
       "<Figure size 640x480 with 1 Axes>"
      ]
     },
     "metadata": {},
     "output_type": "display_data"
    }
   ],
   "source": [
    "# Plot distance vs distance^2\n",
    "plt.scatter(data=poly_train, x='Longtitude', y='Longtitude^2')"
   ]
  },
  {
   "cell_type": "code",
   "execution_count": 31,
   "metadata": {
    "ExecuteTime": {
     "end_time": "2023-02-03T00:39:29.993309Z",
     "start_time": "2023-02-03T00:39:29.822331Z"
    },
    "colab": {
     "base_uri": "https://localhost:8080/",
     "height": 283
    },
    "executionInfo": {
     "elapsed": 466,
     "status": "ok",
     "timestamp": 1668028898059,
     "user": {
      "displayName": "Josh Johnson",
      "userId": "08606005069848925988"
     },
     "user_tz": 480
    },
    "id": "LqMgekDYZwpW",
    "outputId": "e18d7347-4688-47ac-d4e1-a3b1d63f8230"
   },
   "outputs": [
    {
     "data": {
      "text/plain": [
       "<matplotlib.collections.PathCollection at 0x16e01bdc8b0>"
      ]
     },
     "execution_count": 31,
     "metadata": {},
     "output_type": "execute_result"
    },
    {
     "data": {
      "image/png": "[encoded data removed]",
      "text/plain": [
       "<Figure size 640x480 with 1 Axes>"
      ]
     },
     "metadata": {},
     "output_type": "display_data"
    }
   ],
   "source": [
    "plt.scatter(data=poly_train, x='Longtitude', y='Longtitude^3')"
   ]
  },
  {
   "cell_type": "markdown",
   "metadata": {
    "id": "wU0OaqwyQMPH"
   },
   "source": [
    "## Use PolynomialFeatures in a model pipeline"
   ]
  },
  {
   "cell_type": "code",
   "execution_count": 32,
   "metadata": {
    "ExecuteTime": {
     "end_time": "2023-02-03T00:39:30.050459Z",
     "start_time": "2023-02-03T00:39:29.994307Z"
    },
    "colab": {
     "base_uri": "https://localhost:8080/"
    },
    "executionInfo": {
     "elapsed": 231,
     "status": "ok",
     "timestamp": 1668029138483,
     "user": {
      "displayName": "Josh Johnson",
      "userId": "08606005069848925988"
     },
     "user_tz": 480
    },
    "id": "rW7l9sHaFTCc",
    "outputId": "22956e20-19a0-4f4b-f84d-740135dfd4bb"
   },
   "outputs": [
    {
     "name": "stdout",
     "output_type": "stream",
     "text": [
      "(10184, 318)\n"
     ]
    }
   ],
   "source": [
    "scaler = StandardScaler()\n",
    "ohe = OneHotEncoder(sparse=False, handle_unknown='ignore')\n",
    "poly = PolynomialFeatures(degree=2)\n",
    "\n",
    "median_imputer = SimpleImputer(strategy='median')\n",
    "missing_imputer = SimpleImputer(strategy='constant', fill_value='missing')\n",
    "\n",
    "cat_cols = make_column_selector(dtype_include='object')\n",
    "num_cols = make_column_selector(dtype_include='number')\n",
    "\n",
    "num_pipe = make_pipeline(median_imputer, scaler, poly)\n",
    "cat_pipe = make_pipeline(missing_imputer, ohe)\n",
    "\n",
    "processor = make_column_transformer((num_pipe, num_cols), (cat_pipe, cat_cols))\n",
    "print(processor.fit_transform(X_train, y_train).shape)"
   ]
  },
  {
   "cell_type": "code",
   "execution_count": 33,
   "metadata": {
    "ExecuteTime": {
     "end_time": "2023-02-03T00:39:30.469474Z",
     "start_time": "2023-02-03T00:39:30.051428Z"
    },
    "executionInfo": {
     "elapsed": 1278,
     "status": "ok",
     "timestamp": 1668029139989,
     "user": {
      "displayName": "Josh Johnson",
      "userId": "08606005069848925988"
     },
     "user_tz": 480
    },
    "id": "w9vm7yTXHYfd"
   },
   "outputs": [],
   "source": [
    "# Instantiate and fit model with Polynomial Features\n",
    "\n",
    "scores = pd.DataFrame()\n",
    "\n",
    "logreg2 = LogisticRegression()\n",
    "log_pipe2 = make_pipeline(processor, logreg2)\n",
    "log_pipe2.fit(X_train, y_train)\n",
    "\n",
    "train_pred = log_pipe2.predict(X_train)\n",
    "test_pred = log_pipe2.predict(X_test)"
   ]
  },
  {
   "cell_type": "code",
   "execution_count": 34,
   "metadata": {
    "ExecuteTime": {
     "end_time": "2023-02-03T00:39:30.799316Z",
     "start_time": "2023-02-03T00:39:30.470471Z"
    },
    "colab": {
     "base_uri": "https://localhost:8080/",
     "height": 1000
    },
    "executionInfo": {
     "elapsed": 282,
     "status": "ok",
     "timestamp": 1668029140267,
     "user": {
      "displayName": "Josh Johnson",
      "userId": "08606005069848925988"
     },
     "user_tz": 480
    },
    "id": "coKLazA9GppI",
    "outputId": "03a33772-e91d-407e-fe6c-dffc105bd0e7"
   },
   "outputs": [
    {
     "name": "stdout",
     "output_type": "stream",
     "text": [
      "poly_Train \n",
      "\n",
      "              precision    recall  f1-score   support\n",
      "\n",
      "           0       0.91      0.92      0.91      6302\n",
      "           1       0.86      0.85      0.86      3882\n",
      "\n",
      "    accuracy                           0.89     10184\n",
      "   macro avg       0.89      0.89      0.89     10184\n",
      "weighted avg       0.89      0.89      0.89     10184\n",
      "\n"
     ]
    },
    {
     "data": {
      "image/png": "[encoded data removed]",
      "text/plain": [
       "<Figure size 640x480 with 2 Axes>"
      ]
     },
     "metadata": {},
     "output_type": "display_data"
    },
    {
     "name": "stdout",
     "output_type": "stream",
     "text": [
      "poly_Test \n",
      "\n",
      "              precision    recall  f1-score   support\n",
      "\n",
      "           0       0.90      0.91      0.91      2036\n",
      "           1       0.86      0.85      0.86      1359\n",
      "\n",
      "    accuracy                           0.89      3395\n",
      "   macro avg       0.88      0.88      0.88      3395\n",
      "weighted avg       0.89      0.89      0.89      3395\n",
      "\n"
     ]
    },
    {
     "data": {
      "image/png": "[encoded data removed]",
      "text/plain": [
       "<Figure size 640x480 with 2 Axes>"
      ]
     },
     "metadata": {},
     "output_type": "display_data"
    },
    {
     "data": {
      "text/html": [
       "<div>\n",
       "<style scoped>\n",
       "    .dataframe tbody tr th:only-of-type {\n",
       "        vertical-align: middle;\n",
       "    }\n",
       "\n",
       "    .dataframe tbody tr th {\n",
       "        vertical-align: top;\n",
       "    }\n",
       "\n",
       "    .dataframe thead th {\n",
       "        text-align: right;\n",
       "    }\n",
       "</style>\n",
       "<table border=\"1\" class=\"dataframe\">\n",
       "  <thead>\n",
       "    <tr style=\"text-align: right;\">\n",
       "      <th></th>\n",
       "      <th>Model Name</th>\n",
       "      <th>Precision</th>\n",
       "      <th>Recall</th>\n",
       "      <th>F1 Score</th>\n",
       "      <th>Accuracy</th>\n",
       "    </tr>\n",
       "  </thead>\n",
       "  <tbody>\n",
       "    <tr>\n",
       "      <th>0</th>\n",
       "      <td>Train</td>\n",
       "      <td>0.855561</td>\n",
       "      <td>0.856002</td>\n",
       "      <td>0.855782</td>\n",
       "      <td>0.890024</td>\n",
       "    </tr>\n",
       "    <tr>\n",
       "      <th>0</th>\n",
       "      <td>Test</td>\n",
       "      <td>0.854182</td>\n",
       "      <td>0.849154</td>\n",
       "      <td>0.851661</td>\n",
       "      <td>0.881591</td>\n",
       "    </tr>\n",
       "    <tr>\n",
       "      <th>0</th>\n",
       "      <td>poly_Train</td>\n",
       "      <td>0.862868</td>\n",
       "      <td>0.854199</td>\n",
       "      <td>0.858511</td>\n",
       "      <td>0.892675</td>\n",
       "    </tr>\n",
       "    <tr>\n",
       "      <th>0</th>\n",
       "      <td>poly_Test</td>\n",
       "      <td>0.862146</td>\n",
       "      <td>0.851361</td>\n",
       "      <td>0.856720</td>\n",
       "      <td>0.886009</td>\n",
       "    </tr>\n",
       "  </tbody>\n",
       "</table>\n",
       "</div>"
      ],
      "text/plain": [
       "   Model Name  Precision    Recall  F1 Score  Accuracy\n",
       "0       Train   0.855561  0.856002  0.855782  0.890024\n",
       "0        Test   0.854182  0.849154  0.851661  0.881591\n",
       "0  poly_Train   0.862868  0.854199  0.858511  0.892675\n",
       "0   poly_Test   0.862146  0.851361  0.856720  0.886009"
      ]
     },
     "execution_count": 34,
     "metadata": {},
     "output_type": "execute_result"
    }
   ],
   "source": [
    "# evaluate model\n",
    "train_scores = eval_classification(y_train, train_pred, name='poly_Train')\n",
    "\n",
    "test_scores = eval_classification(y_test, test_pred, name='poly_Test')\n",
    "\n",
    "scores = pd.concat([log_scores, train_scores, test_scores])\n",
    "scores"
   ]
  },
  {
   "cell_type": "markdown",
   "metadata": {
    "id": "GT5-ExP6Miae"
   },
   "source": [
    "## What if we increase the degree?"
   ]
  },
  {
   "cell_type": "markdown",
   "metadata": {
    "id": "hEJzu7pgb26e"
   },
   "source": [
    "# Your Turn:  See if you can beat my accuracy\n",
    "\n",
    "You might try:\n",
    "1. Engineering the Date column\n",
    "2. PolynomialFeatures on all features after encoding\n",
    "3. Removing more duplicates or transforming features with np.log or np.sqrt\n",
    "4. Binning other features\n",
    "5. Different categorical encoding approaches"
   ]
  }
 ],
 "metadata": {
  "colab": {
   "authorship_tag": "ABX9TyNLnemlJIO+KAOZb2pH+pTn",
   "provenance": [
    {
     "file_id": "1_9MsvpC84VkUXNscr2raIdjz2HgAaVU_",
     "timestamp": 1667945185022
    }
   ],
   "toc_visible": true
  },
  "kernelspec": {
   "display_name": "Python 3 (ipykernel)",
   "language": "python",
   "name": "python3"
  },
  "language_info": {
   "codemirror_mode": {
    "name": "ipython",
    "version": 3
   },
   "file_extension": ".py",
   "mimetype": "text/x-python",
   "name": "python",
   "nbconvert_exporter": "python",
   "pygments_lexer": "ipython3",
   "version": "3.9.15"
  },
  "toc": {
   "base_numbering": 1,
   "nav_menu": {},
   "number_sections": true,
   "sideBar": true,
   "skip_h1_title": false,
   "title_cell": "Table of Contents",
   "title_sidebar": "Contents",
   "toc_cell": false,
   "toc_position": {},
   "toc_section_display": true,
   "toc_window_display": false
  }
 },
 "nbformat": 4,
 "nbformat_minor": 1
}
