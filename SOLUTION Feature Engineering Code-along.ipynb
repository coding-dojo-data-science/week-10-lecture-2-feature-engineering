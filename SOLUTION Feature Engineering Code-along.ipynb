{
 "cells": [
  {
   "cell_type": "markdown",
   "metadata": {
    "id": "Lmp3JoP2nQzp"
   },
   "source": [
    "# Feature Engineering Code-along Solution\n",
    "\n",
    "<a href=\"https://colab.research.google.com/github/coding-dojo-data-science/week-10-lecture-2-feature-engineering/blob/11-7-22/SOLUTION%20Challenge%20Feature%20Engineering.ipynb\" target=\"_parent\"><img src=\"https://colab.research.google.com/assets/colab-badge.svg\" alt=\"Open In Colab\"/></a>\n",
    "\n",
    "\n",
    "In this notebook we use the following feature engineering strategies:\n",
    "1. scaling\n",
    "2. binning\n",
    "3. removing outliers\n",
    "4. log transformation\n",
    "5. target encoding\n",
    "6. polynomial features"
   ]
  },
  {
   "cell_type": "code",
   "execution_count": 98,
   "metadata": {
    "ExecuteTime": {
     "end_time": "2023-01-26T21:19:23.102621Z",
     "start_time": "2023-01-26T21:19:23.096632Z"
    },
    "executionInfo": {
     "elapsed": 1171,
     "status": "ok",
     "timestamp": 1668734845596,
     "user": {
      "displayName": "Josh Johnson",
      "userId": "08606005069848925988"
     },
     "user_tz": 480
    },
    "id": "fu6bkefYnK-j"
   },
   "outputs": [],
   "source": [
    "# Imports\n",
    "import pandas as pd\n",
    "import numpy as np\n",
    "import matplotlib.pyplot as plt\n",
    "import seaborn as sns\n",
    "\n",
    "from sklearn.model_selection import train_test_split\n",
    "from sklearn.linear_model import LogisticRegression, LinearRegression\n",
    "from sklearn.preprocessing import PolynomialFeatures, StandardScaler, OneHotEncoder\n",
    "from sklearn.compose import make_column_transformer, make_column_selector\n",
    "from sklearn.pipeline import make_pipeline\n",
    "from sklearn.metrics import mean_absolute_error, r2_score, mean_squared_error, \\\n",
    "precision_score, recall_score, accuracy_score, f1_score, ConfusionMatrixDisplay, \\\n",
    "classification_report\n",
    "\n",
    "import warnings\n",
    "warnings.filterwarnings('ignore')"
   ]
  },
  {
   "cell_type": "markdown",
   "metadata": {
    "id": "3CB3xgtyXzGt"
   },
   "source": [
    "# Useful Functions"
   ]
  },
  {
   "cell_type": "code",
   "execution_count": 99,
   "metadata": {
    "ExecuteTime": {
     "end_time": "2023-01-26T21:19:23.111595Z",
     "start_time": "2023-01-26T21:19:23.104613Z"
    },
    "executionInfo": {
     "elapsed": 218,
     "status": "ok",
     "timestamp": 1668734882041,
     "user": {
      "displayName": "Josh Johnson",
      "userId": "08606005069848925988"
     },
     "user_tz": 480
    },
    "id": "7DVFP_utXyaF"
   },
   "outputs": [],
   "source": [
    "def eval_regression(true, pred, name='Model'):\n",
    "    \"\"\"Evaluates true and predicted values from a regression model.  \n",
    "    Outputs a dataframe of metrics\"\"\"\n",
    "    scores = pd.DataFrame()\n",
    "    scores['Model Name'] = [name]\n",
    "    scores['RMSE'] = [np.sqrt(mean_squared_error(true, pred))]\n",
    "    scores['MAE'] = [mean_absolute_error(true, pred)]\n",
    "    scores['R2'] = [r2_score(true, pred)]\n",
    "    scores.set_index('Model Name', inplace=True)\n",
    "\n",
    "    return scores\n",
    "\n",
    "def eval_classification(true, pred, name='Model'):\n",
    "    \"\"\"shows classification_report and confusion matrix\n",
    "    for classification model predictions.  Outputs a dataframe of metrics\"\"\"\n",
    "  \n",
    "    print(name, '\\n')\n",
    "    print(classification_report(true, pred))\n",
    "    ConfusionMatrixDisplay.from_predictions(true, pred)\n",
    "    plt.show()\n",
    "\n",
    "    scores = pd.DataFrame()\n",
    "    scores['Model Name'] = [name]\n",
    "    scores['Precision'] = [precision_score(true, pred)]\n",
    "    scores['Recall'] = [recall_score(true, pred)]\n",
    "    scores['F1 Score'] = [f1_score(true, pred)]\n",
    "    scores['Accuracy'] = [accuracy_score(true, pred)]\n",
    "    scores.set_index('Model Name', inplace=True)\n",
    "\n",
    "    return scores"
   ]
  },
  {
   "cell_type": "markdown",
   "metadata": {
    "id": "TdIxE4xgNU3m"
   },
   "source": [
    "## Data\n",
    "\n",
    "Today we will use data about used car sales in India from Kaggle.  [Here is the source](https://www.kaggle.com/datasets/saisaathvik/used-cars-dataset-from-cardekhocom)"
   ]
  },
  {
   "cell_type": "code",
   "execution_count": 100,
   "metadata": {
    "ExecuteTime": {
     "end_time": "2023-01-26T21:19:24.095562Z",
     "start_time": "2023-01-26T21:19:23.112603Z"
    },
    "colab": {
     "base_uri": "https://localhost:8080/",
     "height": 224
    },
    "executionInfo": {
     "elapsed": 1318,
     "status": "ok",
     "timestamp": 1668734885834,
     "user": {
      "displayName": "Josh Johnson",
      "userId": "08606005069848925988"
     },
     "user_tz": 480
    },
    "id": "FJb74mnanWAY",
    "outputId": "589733aa-2438-438a-fc20-734e3dc145c1"
   },
   "outputs": [
    {
     "data": {
      "text/html": [
       "<div>\n",
       "<style scoped>\n",
       "    .dataframe tbody tr th:only-of-type {\n",
       "        vertical-align: middle;\n",
       "    }\n",
       "\n",
       "    .dataframe tbody tr th {\n",
       "        vertical-align: top;\n",
       "    }\n",
       "\n",
       "    .dataframe thead th {\n",
       "        text-align: right;\n",
       "    }\n",
       "</style>\n",
       "<table border=\"1\" class=\"dataframe\">\n",
       "  <thead>\n",
       "    <tr style=\"text-align: right;\">\n",
       "      <th></th>\n",
       "      <th>Id</th>\n",
       "      <th>year</th>\n",
       "      <th>brand</th>\n",
       "      <th>full_model_name</th>\n",
       "      <th>model_name</th>\n",
       "      <th>price</th>\n",
       "      <th>distance_travelled(kms)</th>\n",
       "      <th>fuel_type</th>\n",
       "      <th>city</th>\n",
       "    </tr>\n",
       "  </thead>\n",
       "  <tbody>\n",
       "    <tr>\n",
       "      <th>0</th>\n",
       "      <td>0</td>\n",
       "      <td>2016</td>\n",
       "      <td>Honda</td>\n",
       "      <td>Honda Brio S MT</td>\n",
       "      <td>Brio</td>\n",
       "      <td>425000</td>\n",
       "      <td>9680</td>\n",
       "      <td>Petrol</td>\n",
       "      <td>Mumbai</td>\n",
       "    </tr>\n",
       "    <tr>\n",
       "      <th>1</th>\n",
       "      <td>1</td>\n",
       "      <td>2012</td>\n",
       "      <td>Nissan</td>\n",
       "      <td>Nissan Sunny XV Diesel</td>\n",
       "      <td>Sunny</td>\n",
       "      <td>325000</td>\n",
       "      <td>119120</td>\n",
       "      <td>Diesel</td>\n",
       "      <td>Mumbai</td>\n",
       "    </tr>\n",
       "    <tr>\n",
       "      <th>2</th>\n",
       "      <td>2</td>\n",
       "      <td>2017</td>\n",
       "      <td>Toyota</td>\n",
       "      <td>Toyota Fortuner 2.8 4x2 MT [2016-2020]</td>\n",
       "      <td>Fortuner</td>\n",
       "      <td>2650000</td>\n",
       "      <td>64593</td>\n",
       "      <td>Diesel</td>\n",
       "      <td>Thane</td>\n",
       "    </tr>\n",
       "    <tr>\n",
       "      <th>3</th>\n",
       "      <td>3</td>\n",
       "      <td>2017</td>\n",
       "      <td>Mercedes-Benz</td>\n",
       "      <td>Mercedes-Benz E-Class E 220d Expression [2019-...</td>\n",
       "      <td>E-Class</td>\n",
       "      <td>4195000</td>\n",
       "      <td>25000</td>\n",
       "      <td>Diesel</td>\n",
       "      <td>Mumbai</td>\n",
       "    </tr>\n",
       "    <tr>\n",
       "      <th>4</th>\n",
       "      <td>4</td>\n",
       "      <td>2012</td>\n",
       "      <td>Hyundai</td>\n",
       "      <td>Hyundai Verna Fluidic 1.6 CRDi SX</td>\n",
       "      <td>Verna</td>\n",
       "      <td>475000</td>\n",
       "      <td>23800</td>\n",
       "      <td>Diesel</td>\n",
       "      <td>Mumbai</td>\n",
       "    </tr>\n",
       "  </tbody>\n",
       "</table>\n",
       "</div>"
      ],
      "text/plain": [
       "   Id  year          brand                                    full_model_name  \\\n",
       "0   0  2016          Honda                                    Honda Brio S MT   \n",
       "1   1  2012         Nissan                             Nissan Sunny XV Diesel   \n",
       "2   2  2017         Toyota             Toyota Fortuner 2.8 4x2 MT [2016-2020]   \n",
       "3   3  2017  Mercedes-Benz  Mercedes-Benz E-Class E 220d Expression [2019-...   \n",
       "4   4  2012        Hyundai                  Hyundai Verna Fluidic 1.6 CRDi SX   \n",
       "\n",
       "  model_name    price  distance_travelled(kms) fuel_type    city  \n",
       "0       Brio   425000                     9680    Petrol  Mumbai  \n",
       "1      Sunny   325000                   119120    Diesel  Mumbai  \n",
       "2   Fortuner  2650000                    64593    Diesel   Thane  \n",
       "3    E-Class  4195000                    25000    Diesel  Mumbai  \n",
       "4      Verna   475000                    23800    Diesel  Mumbai  "
      ]
     },
     "metadata": {},
     "output_type": "display_data"
    },
    {
     "name": "stdout",
     "output_type": "stream",
     "text": [
      "(1725, 9)\n"
     ]
    }
   ],
   "source": [
    "# load data\n",
    "df = pd.read_csv('https://docs.google.com/spreadsheets/d/e/2PACX-1vTeFV8-y5rNxCM946otPPyTF5UZ5rIOTOHrXCYU5zkqB7DubjxGKGzaxVayeLdU0wcCqLMrhjUbgkEp/pub?gid=1641648108&single=true&output=csv')\n",
    "df_backup = df.copy()\n",
    "\n",
    "display(df.head())\n",
    "print(df.shape)"
   ]
  },
  {
   "cell_type": "markdown",
   "metadata": {
    "id": "j5Ep8q1T02el"
   },
   "source": [
    "## Explore and clean the data"
   ]
  },
  {
   "cell_type": "code",
   "execution_count": 101,
   "metadata": {
    "ExecuteTime": {
     "end_time": "2023-01-26T21:19:24.110071Z",
     "start_time": "2023-01-26T21:19:24.097556Z"
    },
    "colab": {
     "base_uri": "https://localhost:8080/",
     "height": 206
    },
    "executionInfo": {
     "elapsed": 185,
     "status": "ok",
     "timestamp": 1668734899022,
     "user": {
      "displayName": "Josh Johnson",
      "userId": "08606005069848925988"
     },
     "user_tz": 480
    },
    "id": "BgdiEEY_vTJz",
    "outputId": "59bbd04c-970d-4461-b2e2-cd7ffa91fa86"
   },
   "outputs": [
    {
     "data": {
      "text/html": [
       "<div>\n",
       "<style scoped>\n",
       "    .dataframe tbody tr th:only-of-type {\n",
       "        vertical-align: middle;\n",
       "    }\n",
       "\n",
       "    .dataframe tbody tr th {\n",
       "        vertical-align: top;\n",
       "    }\n",
       "\n",
       "    .dataframe thead th {\n",
       "        text-align: right;\n",
       "    }\n",
       "</style>\n",
       "<table border=\"1\" class=\"dataframe\">\n",
       "  <thead>\n",
       "    <tr style=\"text-align: right;\">\n",
       "      <th></th>\n",
       "      <th>year</th>\n",
       "      <th>brand</th>\n",
       "      <th>full_model_name</th>\n",
       "      <th>model_name</th>\n",
       "      <th>price</th>\n",
       "      <th>distance_travelled(kms)</th>\n",
       "      <th>fuel_type</th>\n",
       "      <th>city</th>\n",
       "    </tr>\n",
       "  </thead>\n",
       "  <tbody>\n",
       "    <tr>\n",
       "      <th>0</th>\n",
       "      <td>2016</td>\n",
       "      <td>Honda</td>\n",
       "      <td>Honda Brio S MT</td>\n",
       "      <td>Brio</td>\n",
       "      <td>425000</td>\n",
       "      <td>9680</td>\n",
       "      <td>Petrol</td>\n",
       "      <td>Mumbai</td>\n",
       "    </tr>\n",
       "    <tr>\n",
       "      <th>1</th>\n",
       "      <td>2012</td>\n",
       "      <td>Nissan</td>\n",
       "      <td>Nissan Sunny XV Diesel</td>\n",
       "      <td>Sunny</td>\n",
       "      <td>325000</td>\n",
       "      <td>119120</td>\n",
       "      <td>Diesel</td>\n",
       "      <td>Mumbai</td>\n",
       "    </tr>\n",
       "    <tr>\n",
       "      <th>2</th>\n",
       "      <td>2017</td>\n",
       "      <td>Toyota</td>\n",
       "      <td>Toyota Fortuner 2.8 4x2 MT [2016-2020]</td>\n",
       "      <td>Fortuner</td>\n",
       "      <td>2650000</td>\n",
       "      <td>64593</td>\n",
       "      <td>Diesel</td>\n",
       "      <td>Thane</td>\n",
       "    </tr>\n",
       "    <tr>\n",
       "      <th>3</th>\n",
       "      <td>2017</td>\n",
       "      <td>Mercedes-Benz</td>\n",
       "      <td>Mercedes-Benz E-Class E 220d Expression [2019-...</td>\n",
       "      <td>E-Class</td>\n",
       "      <td>4195000</td>\n",
       "      <td>25000</td>\n",
       "      <td>Diesel</td>\n",
       "      <td>Mumbai</td>\n",
       "    </tr>\n",
       "    <tr>\n",
       "      <th>4</th>\n",
       "      <td>2012</td>\n",
       "      <td>Hyundai</td>\n",
       "      <td>Hyundai Verna Fluidic 1.6 CRDi SX</td>\n",
       "      <td>Verna</td>\n",
       "      <td>475000</td>\n",
       "      <td>23800</td>\n",
       "      <td>Diesel</td>\n",
       "      <td>Mumbai</td>\n",
       "    </tr>\n",
       "  </tbody>\n",
       "</table>\n",
       "</div>"
      ],
      "text/plain": [
       "   year          brand                                    full_model_name  \\\n",
       "0  2016          Honda                                    Honda Brio S MT   \n",
       "1  2012         Nissan                             Nissan Sunny XV Diesel   \n",
       "2  2017         Toyota             Toyota Fortuner 2.8 4x2 MT [2016-2020]   \n",
       "3  2017  Mercedes-Benz  Mercedes-Benz E-Class E 220d Expression [2019-...   \n",
       "4  2012        Hyundai                  Hyundai Verna Fluidic 1.6 CRDi SX   \n",
       "\n",
       "  model_name    price  distance_travelled(kms) fuel_type    city  \n",
       "0       Brio   425000                     9680    Petrol  Mumbai  \n",
       "1      Sunny   325000                   119120    Diesel  Mumbai  \n",
       "2   Fortuner  2650000                    64593    Diesel   Thane  \n",
       "3    E-Class  4195000                    25000    Diesel  Mumbai  \n",
       "4      Verna   475000                    23800    Diesel  Mumbai  "
      ]
     },
     "execution_count": 101,
     "metadata": {},
     "output_type": "execute_result"
    }
   ],
   "source": [
    "# drop 'Id' column\n",
    "df.drop(columns='Id', inplace=True)\n",
    "df.head()"
   ]
  },
  {
   "cell_type": "code",
   "execution_count": 102,
   "metadata": {
    "ExecuteTime": {
     "end_time": "2023-01-26T21:19:24.119554Z",
     "start_time": "2023-01-26T21:19:24.111069Z"
    },
    "colab": {
     "base_uri": "https://localhost:8080/"
    },
    "executionInfo": {
     "elapsed": 245,
     "status": "ok",
     "timestamp": 1668734903886,
     "user": {
      "displayName": "Josh Johnson",
      "userId": "08606005069848925988"
     },
     "user_tz": 480
    },
    "id": "jpf0LSXexRPy",
    "outputId": "6ce7af54-b64a-4937-980f-79937349bae1"
   },
   "outputs": [
    {
     "data": {
      "text/plain": [
       "425"
      ]
     },
     "execution_count": 102,
     "metadata": {},
     "output_type": "execute_result"
    }
   ],
   "source": [
    "# check for duplicates\n",
    "df.duplicated().sum()"
   ]
  },
  {
   "cell_type": "code",
   "execution_count": 103,
   "metadata": {
    "ExecuteTime": {
     "end_time": "2023-01-26T21:19:24.134027Z",
     "start_time": "2023-01-26T21:19:24.122550Z"
    },
    "colab": {
     "base_uri": "https://localhost:8080/"
    },
    "executionInfo": {
     "elapsed": 207,
     "status": "ok",
     "timestamp": 1668734907162,
     "user": {
      "displayName": "Josh Johnson",
      "userId": "08606005069848925988"
     },
     "user_tz": 480
    },
    "id": "l9ekzc7txTez",
    "outputId": "f459be2e-d431-47c0-a715-942666b27e03"
   },
   "outputs": [
    {
     "data": {
      "text/plain": [
       "0"
      ]
     },
     "execution_count": 103,
     "metadata": {},
     "output_type": "execute_result"
    }
   ],
   "source": [
    "# remove duplicates\n",
    "df.drop_duplicates(inplace=True)\n",
    "df.duplicated().sum()"
   ]
  },
  {
   "cell_type": "code",
   "execution_count": 104,
   "metadata": {
    "ExecuteTime": {
     "end_time": "2023-01-26T21:19:24.147016Z",
     "start_time": "2023-01-26T21:19:24.136021Z"
    },
    "colab": {
     "base_uri": "https://localhost:8080/"
    },
    "executionInfo": {
     "elapsed": 200,
     "status": "ok",
     "timestamp": 1668734909728,
     "user": {
      "displayName": "Josh Johnson",
      "userId": "08606005069848925988"
     },
     "user_tz": 480
    },
    "id": "VjksV-Zn0gbl",
    "outputId": "ab0684e5-ee57-42c6-9149-34951ccf396a"
   },
   "outputs": [
    {
     "data": {
      "text/plain": [
       "year                       0\n",
       "brand                      0\n",
       "full_model_name            0\n",
       "model_name                 0\n",
       "price                      0\n",
       "distance_travelled(kms)    0\n",
       "fuel_type                  0\n",
       "city                       0\n",
       "dtype: int64"
      ]
     },
     "execution_count": 104,
     "metadata": {},
     "output_type": "execute_result"
    }
   ],
   "source": [
    "# check for missing values\n",
    "df.isna().sum()"
   ]
  },
  {
   "cell_type": "code",
   "execution_count": 105,
   "metadata": {
    "ExecuteTime": {
     "end_time": "2023-01-26T21:19:24.176692Z",
     "start_time": "2023-01-26T21:19:24.149010Z"
    },
    "colab": {
     "base_uri": "https://localhost:8080/",
     "height": 394
    },
    "executionInfo": {
     "elapsed": 177,
     "status": "ok",
     "timestamp": 1668734928390,
     "user": {
      "displayName": "Josh Johnson",
      "userId": "08606005069848925988"
     },
     "user_tz": 480
    },
    "id": "mPLcxeYt0jMd",
    "outputId": "9d7ba155-8826-474a-8c83-8785805dbaa0"
   },
   "outputs": [
    {
     "data": {
      "text/html": [
       "<div>\n",
       "<style scoped>\n",
       "    .dataframe tbody tr th:only-of-type {\n",
       "        vertical-align: middle;\n",
       "    }\n",
       "\n",
       "    .dataframe tbody tr th {\n",
       "        vertical-align: top;\n",
       "    }\n",
       "\n",
       "    .dataframe thead th {\n",
       "        text-align: right;\n",
       "    }\n",
       "</style>\n",
       "<table border=\"1\" class=\"dataframe\">\n",
       "  <thead>\n",
       "    <tr style=\"text-align: right;\">\n",
       "      <th></th>\n",
       "      <th>year</th>\n",
       "      <th>brand</th>\n",
       "      <th>full_model_name</th>\n",
       "      <th>model_name</th>\n",
       "      <th>price</th>\n",
       "      <th>distance_travelled(kms)</th>\n",
       "      <th>fuel_type</th>\n",
       "      <th>city</th>\n",
       "    </tr>\n",
       "  </thead>\n",
       "  <tbody>\n",
       "    <tr>\n",
       "      <th>count</th>\n",
       "      <td>1300.000000</td>\n",
       "      <td>1300</td>\n",
       "      <td>1300</td>\n",
       "      <td>1300</td>\n",
       "      <td>1.300000e+03</td>\n",
       "      <td>1300.000000</td>\n",
       "      <td>1300</td>\n",
       "      <td>1300</td>\n",
       "    </tr>\n",
       "    <tr>\n",
       "      <th>unique</th>\n",
       "      <td>NaN</td>\n",
       "      <td>31</td>\n",
       "      <td>750</td>\n",
       "      <td>168</td>\n",
       "      <td>NaN</td>\n",
       "      <td>NaN</td>\n",
       "      <td>5</td>\n",
       "      <td>15</td>\n",
       "    </tr>\n",
       "    <tr>\n",
       "      <th>top</th>\n",
       "      <td>NaN</td>\n",
       "      <td>Maruti Suzuki</td>\n",
       "      <td>Volkswagen Polo GT TSI</td>\n",
       "      <td>Creta</td>\n",
       "      <td>NaN</td>\n",
       "      <td>NaN</td>\n",
       "      <td>Diesel</td>\n",
       "      <td>Hyderabad</td>\n",
       "    </tr>\n",
       "    <tr>\n",
       "      <th>freq</th>\n",
       "      <td>NaN</td>\n",
       "      <td>222</td>\n",
       "      <td>9</td>\n",
       "      <td>56</td>\n",
       "      <td>NaN</td>\n",
       "      <td>NaN</td>\n",
       "      <td>688</td>\n",
       "      <td>238</td>\n",
       "    </tr>\n",
       "    <tr>\n",
       "      <th>mean</th>\n",
       "      <td>2015.260000</td>\n",
       "      <td>NaN</td>\n",
       "      <td>NaN</td>\n",
       "      <td>NaN</td>\n",
       "      <td>1.479683e+06</td>\n",
       "      <td>55235.615385</td>\n",
       "      <td>NaN</td>\n",
       "      <td>NaN</td>\n",
       "    </tr>\n",
       "    <tr>\n",
       "      <th>std</th>\n",
       "      <td>3.248511</td>\n",
       "      <td>NaN</td>\n",
       "      <td>NaN</td>\n",
       "      <td>NaN</td>\n",
       "      <td>1.720193e+06</td>\n",
       "      <td>47298.039050</td>\n",
       "      <td>NaN</td>\n",
       "      <td>NaN</td>\n",
       "    </tr>\n",
       "    <tr>\n",
       "      <th>min</th>\n",
       "      <td>1990.000000</td>\n",
       "      <td>NaN</td>\n",
       "      <td>NaN</td>\n",
       "      <td>NaN</td>\n",
       "      <td>6.250000e+04</td>\n",
       "      <td>350.000000</td>\n",
       "      <td>NaN</td>\n",
       "      <td>NaN</td>\n",
       "    </tr>\n",
       "    <tr>\n",
       "      <th>25%</th>\n",
       "      <td>2013.000000</td>\n",
       "      <td>NaN</td>\n",
       "      <td>NaN</td>\n",
       "      <td>NaN</td>\n",
       "      <td>5.250000e+05</td>\n",
       "      <td>30000.000000</td>\n",
       "      <td>NaN</td>\n",
       "      <td>NaN</td>\n",
       "    </tr>\n",
       "    <tr>\n",
       "      <th>50%</th>\n",
       "      <td>2016.000000</td>\n",
       "      <td>NaN</td>\n",
       "      <td>NaN</td>\n",
       "      <td>NaN</td>\n",
       "      <td>8.425000e+05</td>\n",
       "      <td>50227.000000</td>\n",
       "      <td>NaN</td>\n",
       "      <td>NaN</td>\n",
       "    </tr>\n",
       "    <tr>\n",
       "      <th>75%</th>\n",
       "      <td>2018.000000</td>\n",
       "      <td>NaN</td>\n",
       "      <td>NaN</td>\n",
       "      <td>NaN</td>\n",
       "      <td>1.796250e+06</td>\n",
       "      <td>72000.000000</td>\n",
       "      <td>NaN</td>\n",
       "      <td>NaN</td>\n",
       "    </tr>\n",
       "    <tr>\n",
       "      <th>max</th>\n",
       "      <td>2021.000000</td>\n",
       "      <td>NaN</td>\n",
       "      <td>NaN</td>\n",
       "      <td>NaN</td>\n",
       "      <td>1.470000e+07</td>\n",
       "      <td>790000.000000</td>\n",
       "      <td>NaN</td>\n",
       "      <td>NaN</td>\n",
       "    </tr>\n",
       "  </tbody>\n",
       "</table>\n",
       "</div>"
      ],
      "text/plain": [
       "               year          brand         full_model_name model_name  \\\n",
       "count   1300.000000           1300                    1300       1300   \n",
       "unique          NaN             31                     750        168   \n",
       "top             NaN  Maruti Suzuki  Volkswagen Polo GT TSI      Creta   \n",
       "freq            NaN            222                       9         56   \n",
       "mean    2015.260000            NaN                     NaN        NaN   \n",
       "std        3.248511            NaN                     NaN        NaN   \n",
       "min     1990.000000            NaN                     NaN        NaN   \n",
       "25%     2013.000000            NaN                     NaN        NaN   \n",
       "50%     2016.000000            NaN                     NaN        NaN   \n",
       "75%     2018.000000            NaN                     NaN        NaN   \n",
       "max     2021.000000            NaN                     NaN        NaN   \n",
       "\n",
       "               price  distance_travelled(kms) fuel_type       city  \n",
       "count   1.300000e+03              1300.000000      1300       1300  \n",
       "unique           NaN                      NaN         5         15  \n",
       "top              NaN                      NaN    Diesel  Hyderabad  \n",
       "freq             NaN                      NaN       688        238  \n",
       "mean    1.479683e+06             55235.615385       NaN        NaN  \n",
       "std     1.720193e+06             47298.039050       NaN        NaN  \n",
       "min     6.250000e+04               350.000000       NaN        NaN  \n",
       "25%     5.250000e+05             30000.000000       NaN        NaN  \n",
       "50%     8.425000e+05             50227.000000       NaN        NaN  \n",
       "75%     1.796250e+06             72000.000000       NaN        NaN  \n",
       "max     1.470000e+07            790000.000000       NaN        NaN  "
      ]
     },
     "execution_count": 105,
     "metadata": {},
     "output_type": "execute_result"
    }
   ],
   "source": [
    "# check summary statistics\n",
    "df.describe(include='all')"
   ]
  },
  {
   "cell_type": "markdown",
   "metadata": {
    "id": "b5mB-62ixhOE"
   },
   "source": [
    "## Some Numeric Feature Engineering"
   ]
  },
  {
   "cell_type": "code",
   "execution_count": 106,
   "metadata": {
    "ExecuteTime": {
     "end_time": "2023-01-26T21:19:24.496013Z",
     "start_time": "2023-01-26T21:19:24.177657Z"
    },
    "colab": {
     "base_uri": "https://localhost:8080/",
     "height": 938
    },
    "executionInfo": {
     "elapsed": 620,
     "status": "ok",
     "timestamp": 1668735027113,
     "user": {
      "displayName": "Josh Johnson",
      "userId": "08606005069848925988"
     },
     "user_tz": 480
    },
    "id": "xjFlm0hdxmYl",
    "outputId": "3ce31157-382a-4dda-ee29-fa0d781658ff"
   },
   "outputs": [
    {
     "name": "stdout",
     "output_type": "stream",
     "text": [
      "\n",
      " year \n",
      "\n"
     ]
    },
    {
     "data": {
      "image/png": "[encoded data removed]",
      "text/plain": [
       "<Figure size 640x480 with 1 Axes>"
      ]
     },
     "metadata": {},
     "output_type": "display_data"
    },
    {
     "name": "stdout",
     "output_type": "stream",
     "text": [
      "\n",
      " price \n",
      "\n"
     ]
    },
    {
     "data": {
      "image/png": "[encoded data removed]",
      "text/plain": [
       "<Figure size 640x480 with 1 Axes>"
      ]
     },
     "metadata": {},
     "output_type": "display_data"
    },
    {
     "name": "stdout",
     "output_type": "stream",
     "text": [
      "\n",
      " distance_travelled(kms) \n",
      "\n"
     ]
    },
    {
     "data": {
      "image/png": "[encoded data removed]",
      "text/plain": [
       "<Figure size 640x480 with 1 Axes>"
      ]
     },
     "metadata": {},
     "output_type": "display_data"
    }
   ],
   "source": [
    "# explore numeric distributions\n",
    "for col in df.select_dtypes('number'):\n",
    "  print('\\n', col, '\\n')\n",
    "  df[col].hist()\n",
    "  plt.show()"
   ]
  },
  {
   "cell_type": "markdown",
   "metadata": {
    "id": "eXBvI1Wgz5kV"
   },
   "source": [
    "### Filter to remove outliers"
   ]
  },
  {
   "cell_type": "code",
   "execution_count": 107,
   "metadata": {
    "ExecuteTime": {
     "end_time": "2023-01-26T21:19:24.505506Z",
     "start_time": "2023-01-26T21:19:24.498521Z"
    },
    "colab": {
     "base_uri": "https://localhost:8080/"
    },
    "executionInfo": {
     "elapsed": 176,
     "status": "ok",
     "timestamp": 1668735105106,
     "user": {
      "displayName": "Josh Johnson",
      "userId": "08606005069848925988"
     },
     "user_tz": 480
    },
    "id": "E7ORaHA9y7Hl",
    "outputId": "abaf1dc1-a86c-4401-d0b8-8b29ea7ea0fd"
   },
   "outputs": [
    {
     "data": {
      "text/plain": [
       "1990      1\n",
       "2004      2\n",
       "2005      4\n",
       "2006      3\n",
       "2007     11\n",
       "2008     20\n",
       "2009     25\n",
       "2010     44\n",
       "2011     61\n",
       "2012    101\n",
       "2013     81\n",
       "2014    112\n",
       "2015    141\n",
       "2016    161\n",
       "2017    167\n",
       "2018    178\n",
       "2019    114\n",
       "2020     58\n",
       "2021     16\n",
       "Name: year, dtype: int64"
      ]
     },
     "execution_count": 107,
     "metadata": {},
     "output_type": "execute_result"
    }
   ],
   "source": [
    "df['year'].value_counts().sort_index()"
   ]
  },
  {
   "cell_type": "code",
   "execution_count": 108,
   "metadata": {
    "ExecuteTime": {
     "end_time": "2023-01-26T21:19:24.513025Z",
     "start_time": "2023-01-26T21:19:24.506503Z"
    },
    "colab": {
     "base_uri": "https://localhost:8080/"
    },
    "executionInfo": {
     "elapsed": 196,
     "status": "ok",
     "timestamp": 1668735126352,
     "user": {
      "displayName": "Josh Johnson",
      "userId": "08606005069848925988"
     },
     "user_tz": 480
    },
    "id": "mLUQKAPZy_mM",
    "outputId": "d55cdba2-da0c-48c6-fa71-24312a7af648"
   },
   "outputs": [
    {
     "data": {
      "text/plain": [
       "2018    178\n",
       "2017    167\n",
       "2016    161\n",
       "2015    141\n",
       "2019    114\n",
       "2014    112\n",
       "2012    101\n",
       "2013     81\n",
       "2011     61\n",
       "2020     58\n",
       "2010     44\n",
       "2009     25\n",
       "2008     20\n",
       "2021     16\n",
       "2007     11\n",
       "2005      4\n",
       "2006      3\n",
       "2004      2\n",
       "Name: year, dtype: int64"
      ]
     },
     "execution_count": 108,
     "metadata": {},
     "output_type": "execute_result"
    }
   ],
   "source": [
    "# exclude cars made before 2000\n",
    "df = df[df['year'] > 2000]\n",
    "df['year'].value_counts()"
   ]
  },
  {
   "cell_type": "markdown",
   "metadata": {
    "id": "WuhuQ-764ccX"
   },
   "source": [
    "## Convert year to nominal categorical\n",
    "\n",
    "This way, if cars made in certain years are more expensive than those made in other years, the model can see this in a non-linear way."
   ]
  },
  {
   "cell_type": "code",
   "execution_count": 109,
   "metadata": {
    "ExecuteTime": {
     "end_time": "2023-01-26T21:19:24.519009Z",
     "start_time": "2023-01-26T21:19:24.514023Z"
    },
    "executionInfo": {
     "elapsed": 209,
     "status": "ok",
     "timestamp": 1668735136901,
     "user": {
      "displayName": "Josh Johnson",
      "userId": "08606005069848925988"
     },
     "user_tz": 480
    },
    "id": "vcBfM-y_4tTs"
   },
   "outputs": [],
   "source": [
    "# convert year to categorical\n",
    "df['year'] = df['year'].astype('object')"
   ]
  },
  {
   "cell_type": "markdown",
   "metadata": {
    "id": "i4O1jV4Fz9Kk"
   },
   "source": [
    "## Transform to normalize feature"
   ]
  },
  {
   "cell_type": "code",
   "execution_count": 110,
   "metadata": {
    "ExecuteTime": {
     "end_time": "2023-01-26T21:19:24.666595Z",
     "start_time": "2023-01-26T21:19:24.520008Z"
    },
    "colab": {
     "base_uri": "https://localhost:8080/",
     "height": 283
    },
    "executionInfo": {
     "elapsed": 436,
     "status": "ok",
     "timestamp": 1668735176172,
     "user": {
      "displayName": "Josh Johnson",
      "userId": "08606005069848925988"
     },
     "user_tz": 480
    },
    "id": "ePYtyxkR0Fc0",
    "outputId": "2898e769-9ff5-43b4-cd36-61fe75062fcd"
   },
   "outputs": [
    {
     "data": {
      "text/plain": [
       "<AxesSubplot: >"
      ]
     },
     "execution_count": 110,
     "metadata": {},
     "output_type": "execute_result"
    },
    {
     "data": {
      "image/png": "[encoded data removed]",
      "text/plain": [
       "<Figure size 640x480 with 1 Axes>"
      ]
     },
     "metadata": {},
     "output_type": "display_data"
    }
   ],
   "source": [
    "df['distance_travelled(kms)'].hist()"
   ]
  },
  {
   "cell_type": "code",
   "execution_count": 111,
   "metadata": {
    "ExecuteTime": {
     "end_time": "2023-01-26T21:19:24.802999Z",
     "start_time": "2023-01-26T21:19:24.667592Z"
    },
    "colab": {
     "base_uri": "https://localhost:8080/",
     "height": 283
    },
    "executionInfo": {
     "elapsed": 434,
     "status": "ok",
     "timestamp": 1668735219174,
     "user": {
      "displayName": "Josh Johnson",
      "userId": "08606005069848925988"
     },
     "user_tz": 480
    },
    "id": "dlB_eZYdzPst",
    "outputId": "09297771-ef0d-462e-a3f7-ad12ca089370"
   },
   "outputs": [
    {
     "data": {
      "text/plain": [
       "<AxesSubplot: >"
      ]
     },
     "execution_count": 111,
     "metadata": {},
     "output_type": "execute_result"
    },
    {
     "data": {
      "image/png": "[encoded data removed]",
      "text/plain": [
       "<Figure size 640x480 with 1 Axes>"
      ]
     },
     "metadata": {},
     "output_type": "display_data"
    }
   ],
   "source": [
    "# log transform 'distance_travelled(kms)'\n",
    "df['distance_travelled(kms)'] = np.log(df['distance_travelled(kms)'])\n",
    "\n",
    "df['distance_travelled(kms)'].hist()"
   ]
  },
  {
   "cell_type": "markdown",
   "metadata": {
    "id": "KOnbq4EPw6Q0"
   },
   "source": [
    "## Binning the Target: Let's change this regression problem to a binary classification problem"
   ]
  },
  {
   "cell_type": "code",
   "execution_count": 112,
   "metadata": {
    "ExecuteTime": {
     "end_time": "2023-01-26T21:19:24.812486Z",
     "start_time": "2023-01-26T21:19:24.803999Z"
    },
    "colab": {
     "base_uri": "https://localhost:8080/"
    },
    "executionInfo": {
     "elapsed": 190,
     "status": "ok",
     "timestamp": 1668735298593,
     "user": {
      "displayName": "Josh Johnson",
      "userId": "08606005069848925988"
     },
     "user_tz": 480
    },
    "id": "pBY0S2qvt8fy",
    "outputId": "476321f8-d5bd-4899-ad53-f111778f77b4"
   },
   "outputs": [
    {
     "data": {
      "text/plain": [
       "count    1.299000e+03\n",
       "mean     1.480572e+06\n",
       "std      1.720557e+06\n",
       "min      6.250000e+04\n",
       "25%      5.250000e+05\n",
       "50%      8.500000e+05\n",
       "75%      1.797500e+06\n",
       "max      1.470000e+07\n",
       "Name: price, dtype: float64"
      ]
     },
     "execution_count": 112,
     "metadata": {},
     "output_type": "execute_result"
    }
   ],
   "source": [
    "df['price'].describe()"
   ]
  },
  {
   "cell_type": "markdown",
   "metadata": {
    "id": "jIF6FRw4OJpu"
   },
   "source": [
    "#### What's wrong with the code below?  How would you fix it?"
   ]
  },
  {
   "cell_type": "code",
   "execution_count": 113,
   "metadata": {
    "ExecuteTime": {
     "end_time": "2023-01-26T21:19:24.893694Z",
     "start_time": "2023-01-26T21:19:24.813502Z"
    },
    "colab": {
     "base_uri": "https://localhost:8080/"
    },
    "executionInfo": {
     "elapsed": 403,
     "status": "ok",
     "timestamp": 1668735453789,
     "user": {
      "displayName": "Josh Johnson",
      "userId": "08606005069848925988"
     },
     "user_tz": 480
    },
    "id": "Cy-C3nZRuPp6",
    "outputId": "f81fd115-c86b-4102-fd15-d7225db3b508"
   },
   "outputs": [
    {
     "data": {
      "text/plain": [
       "0    909\n",
       "1    390\n",
       "Name: is_expensive, dtype: int64"
      ]
     },
     "execution_count": 113,
     "metadata": {},
     "output_type": "execute_result"
    }
   ],
   "source": [
    "# encode cars with prices above the mean as 1 and below the mean as 0\n",
    "\n",
    "df['is_expensive'] = df['price'].apply(lambda x: 1 if x > df['price'].mean() else 0)\n",
    "df['is_expensive'].value_counts()"
   ]
  },
  {
   "cell_type": "code",
   "execution_count": 114,
   "metadata": {
    "ExecuteTime": {
     "end_time": "2023-01-26T21:19:24.901672Z",
     "start_time": "2023-01-26T21:19:24.894692Z"
    },
    "executionInfo": {
     "elapsed": 303,
     "status": "ok",
     "timestamp": 1668735455274,
     "user": {
      "displayName": "Josh Johnson",
      "userId": "08606005069848925988"
     },
     "user_tz": 480
    },
    "id": "9DqV8sN-Cchw"
   },
   "outputs": [],
   "source": [
    "X = df.drop(columns=['price', 'is_expensive'])\n",
    "y = df['price']\n",
    "\n",
    "X_train, X_test, y_train, y_test =  train_test_split(X, y, random_state=42)"
   ]
  },
  {
   "cell_type": "markdown",
   "metadata": {
    "id": "PHHHkqyHeUbk"
   },
   "source": [
    "# Bin the Target"
   ]
  },
  {
   "cell_type": "code",
   "execution_count": 115,
   "metadata": {
    "ExecuteTime": {
     "end_time": "2023-01-26T21:19:24.908658Z",
     "start_time": "2023-01-26T21:19:24.902675Z"
    },
    "colab": {
     "base_uri": "https://localhost:8080/"
    },
    "executionInfo": {
     "elapsed": 191,
     "status": "ok",
     "timestamp": 1668735463807,
     "user": {
      "displayName": "Josh Johnson",
      "userId": "08606005069848925988"
     },
     "user_tz": 480
    },
    "id": "rzTcnxk1fHmM",
    "outputId": "c3ca57c6-7a7f-4975-b1ab-8115591de000"
   },
   "outputs": [
    {
     "data": {
      "text/plain": [
       "0     425000\n",
       "1     325000\n",
       "2    2650000\n",
       "3    4195000\n",
       "4     475000\n",
       "Name: price, dtype: int64"
      ]
     },
     "execution_count": 115,
     "metadata": {},
     "output_type": "execute_result"
    }
   ],
   "source": [
    "df['price'].head()"
   ]
  },
  {
   "cell_type": "code",
   "execution_count": 116,
   "metadata": {
    "ExecuteTime": {
     "end_time": "2023-01-26T21:19:24.914152Z",
     "start_time": "2023-01-26T21:19:24.909656Z"
    },
    "executionInfo": {
     "elapsed": 175,
     "status": "ok",
     "timestamp": 1668735466463,
     "user": {
      "displayName": "Josh Johnson",
      "userId": "08606005069848925988"
     },
     "user_tz": 480
    },
    "id": "gPmr8yV2eZCM"
   },
   "outputs": [],
   "source": [
    "mean_price = y_train.mean()\n",
    "y_train = y_train.apply(lambda x: 1 if x > mean_price else 0)\n",
    "y_test = y_test.apply(lambda x: 1 if x > mean_price else 0)"
   ]
  },
  {
   "cell_type": "code",
   "execution_count": 117,
   "metadata": {
    "ExecuteTime": {
     "end_time": "2023-01-26T21:19:24.922680Z",
     "start_time": "2023-01-26T21:19:24.915150Z"
    },
    "colab": {
     "base_uri": "https://localhost:8080/"
    },
    "executionInfo": {
     "elapsed": 174,
     "status": "ok",
     "timestamp": 1668735474889,
     "user": {
      "displayName": "Josh Johnson",
      "userId": "08606005069848925988"
     },
     "user_tz": 480
    },
    "id": "15V3WVQ5enJ9",
    "outputId": "bd4872f6-0434-4651-9d7d-0eedae393209"
   },
   "outputs": [
    {
     "data": {
      "text/plain": [
       "0    681\n",
       "1    293\n",
       "Name: price, dtype: int64"
      ]
     },
     "execution_count": 117,
     "metadata": {},
     "output_type": "execute_result"
    }
   ],
   "source": [
    "y_train.value_counts()"
   ]
  },
  {
   "cell_type": "markdown",
   "metadata": {
    "id": "ormf8ndgAhKp"
   },
   "source": [
    "# Base Model"
   ]
  },
  {
   "cell_type": "code",
   "execution_count": 118,
   "metadata": {
    "ExecuteTime": {
     "end_time": "2023-01-26T21:19:24.943138Z",
     "start_time": "2023-01-26T21:19:24.923680Z"
    },
    "colab": {
     "base_uri": "https://localhost:8080/"
    },
    "executionInfo": {
     "elapsed": 407,
     "status": "ok",
     "timestamp": 1668735517711,
     "user": {
      "displayName": "Josh Johnson",
      "userId": "08606005069848925988"
     },
     "user_tz": 480
    },
    "id": "MCAZK3gaAj-4",
    "outputId": "d5eb1e04-07a2-456d-a095-bb95a91adccb"
   },
   "outputs": [
    {
     "data": {
      "text/plain": [
       "(974, 836)"
      ]
     },
     "execution_count": 118,
     "metadata": {},
     "output_type": "execute_result"
    }
   ],
   "source": [
    "# instantiate transformers\n",
    "scaler = StandardScaler()\n",
    "ohe = OneHotEncoder(sparse=False, handle_unknown='ignore')\n",
    "\n",
    "cat_cols = make_column_selector(dtype_include='object')\n",
    "num_cols = make_column_selector(dtype_include='number')\n",
    "\n",
    "# create preprocessing pipeline\n",
    "base_preprocess = make_column_transformer((ohe, cat_cols), (scaler, num_cols))\n",
    "\n",
    "# Examine the results of all transformers\n",
    "base_preprocess.fit_transform(X_train, y_train).shape"
   ]
  },
  {
   "cell_type": "code",
   "execution_count": 119,
   "metadata": {
    "ExecuteTime": {
     "end_time": "2023-01-26T21:19:25.000494Z",
     "start_time": "2023-01-26T21:19:24.944138Z"
    },
    "executionInfo": {
     "elapsed": 176,
     "status": "ok",
     "timestamp": 1668735604201,
     "user": {
      "displayName": "Josh Johnson",
      "userId": "08606005069848925988"
     },
     "user_tz": 480
    },
    "id": "-62BKMFfAwK4"
   },
   "outputs": [],
   "source": [
    "# Create and evaluate model with a base logistic regression\n",
    "logreg_base = LogisticRegression(max_iter=1000)\n",
    "logreg_base = make_pipeline(base_preprocess, logreg_base)\n",
    "logreg_base.fit(X_train, y_train)\n",
    "\n",
    "train_pred = logreg_base.predict(X_train)\n",
    "test_pred = logreg_base.predict(X_test)"
   ]
  },
  {
   "cell_type": "code",
   "execution_count": 120,
   "metadata": {
    "ExecuteTime": {
     "end_time": "2023-01-26T21:19:25.313943Z",
     "start_time": "2023-01-26T21:19:25.001492Z"
    },
    "colab": {
     "base_uri": "https://localhost:8080/",
     "height": 1000
    },
    "executionInfo": {
     "elapsed": 633,
     "status": "ok",
     "timestamp": 1668735612698,
     "user": {
      "displayName": "Josh Johnson",
      "userId": "08606005069848925988"
     },
     "user_tz": 480
    },
    "id": "BcsdWYzWZhRM",
    "outputId": "566a659b-2dea-4cb0-8639-402c0e1eef4c"
   },
   "outputs": [
    {
     "name": "stdout",
     "output_type": "stream",
     "text": [
      "BaseTrain \n",
      "\n",
      "              precision    recall  f1-score   support\n",
      "\n",
      "           0       0.99      0.99      0.99       681\n",
      "           1       0.97      0.97      0.97       293\n",
      "\n",
      "    accuracy                           0.98       974\n",
      "   macro avg       0.98      0.98      0.98       974\n",
      "weighted avg       0.98      0.98      0.98       974\n",
      "\n"
     ]
    },
    {
     "data": {
      "image/png": "[encoded data removed]",
      "text/plain": [
       "<Figure size 640x480 with 2 Axes>"
      ]
     },
     "metadata": {},
     "output_type": "display_data"
    },
    {
     "name": "stdout",
     "output_type": "stream",
     "text": [
      "BaseTest \n",
      "\n",
      "              precision    recall  f1-score   support\n",
      "\n",
      "           0       0.93      0.99      0.96       226\n",
      "           1       0.97      0.84      0.90        99\n",
      "\n",
      "    accuracy                           0.94       325\n",
      "   macro avg       0.95      0.91      0.93       325\n",
      "weighted avg       0.94      0.94      0.94       325\n",
      "\n"
     ]
    },
    {
     "data": {
      "image/png": "[encoded data removed]",
      "text/plain": [
       "<Figure size 640x480 with 2 Axes>"
      ]
     },
     "metadata": {},
     "output_type": "display_data"
    },
    {
     "data": {
      "text/html": [
       "<div>\n",
       "<style scoped>\n",
       "    .dataframe tbody tr th:only-of-type {\n",
       "        vertical-align: middle;\n",
       "    }\n",
       "\n",
       "    .dataframe tbody tr th {\n",
       "        vertical-align: top;\n",
       "    }\n",
       "\n",
       "    .dataframe thead th {\n",
       "        text-align: right;\n",
       "    }\n",
       "</style>\n",
       "<table border=\"1\" class=\"dataframe\">\n",
       "  <thead>\n",
       "    <tr style=\"text-align: right;\">\n",
       "      <th></th>\n",
       "      <th>Precision</th>\n",
       "      <th>Recall</th>\n",
       "      <th>F1 Score</th>\n",
       "      <th>Accuracy</th>\n",
       "    </tr>\n",
       "    <tr>\n",
       "      <th>Model Name</th>\n",
       "      <th></th>\n",
       "      <th></th>\n",
       "      <th></th>\n",
       "      <th></th>\n",
       "    </tr>\n",
       "  </thead>\n",
       "  <tbody>\n",
       "    <tr>\n",
       "      <th>BaseTrain</th>\n",
       "      <td>0.969178</td>\n",
       "      <td>0.965870</td>\n",
       "      <td>0.967521</td>\n",
       "      <td>0.980493</td>\n",
       "    </tr>\n",
       "    <tr>\n",
       "      <th>BaseTest</th>\n",
       "      <td>0.965116</td>\n",
       "      <td>0.838384</td>\n",
       "      <td>0.897297</td>\n",
       "      <td>0.941538</td>\n",
       "    </tr>\n",
       "  </tbody>\n",
       "</table>\n",
       "</div>"
      ],
      "text/plain": [
       "            Precision    Recall  F1 Score  Accuracy\n",
       "Model Name                                         \n",
       "BaseTrain    0.969178  0.965870  0.967521  0.980493\n",
       "BaseTest     0.965116  0.838384  0.897297  0.941538"
      ]
     },
     "execution_count": 120,
     "metadata": {},
     "output_type": "execute_result"
    }
   ],
   "source": [
    "# evaluate model\n",
    "train_scores = eval_classification(y_train, train_pred, name='BaseTrain')\n",
    "\n",
    "test_scores = eval_classification(y_test, test_pred, name='BaseTest')\n",
    "\n",
    "base_scores = pd.concat([train_scores, test_scores])\n",
    "base_scores"
   ]
  },
  {
   "cell_type": "markdown",
   "metadata": {
    "id": "P4KsHBlGEXl7"
   },
   "source": [
    "# Modeling: PolynomialFeatures"
   ]
  },
  {
   "cell_type": "markdown",
   "metadata": {
    "id": "8IanYLtaPqN2"
   },
   "source": [
    "## Test PolynomialFeatures to see how it changes data\n",
    "\n",
    "We are working here with the entire dataframe to illustrate how the model combines numeric features.  We won't apply the transformers until later."
   ]
  },
  {
   "cell_type": "code",
   "execution_count": 121,
   "metadata": {
    "ExecuteTime": {
     "end_time": "2023-01-26T21:19:25.336560Z",
     "start_time": "2023-01-26T21:19:25.314912Z"
    },
    "colab": {
     "base_uri": "https://localhost:8080/",
     "height": 505
    },
    "executionInfo": {
     "elapsed": 179,
     "status": "ok",
     "timestamp": 1668735727445,
     "user": {
      "displayName": "Josh Johnson",
      "userId": "08606005069848925988"
     },
     "user_tz": 480
    },
    "id": "ZvVh2dF3Ee3N",
    "outputId": "b309a0fa-2592-4c72-f03e-d8d2cde579f0"
   },
   "outputs": [
    {
     "data": {
      "text/html": [
       "<div>\n",
       "<style scoped>\n",
       "    .dataframe tbody tr th:only-of-type {\n",
       "        vertical-align: middle;\n",
       "    }\n",
       "\n",
       "    .dataframe tbody tr th {\n",
       "        vertical-align: top;\n",
       "    }\n",
       "\n",
       "    .dataframe thead th {\n",
       "        text-align: right;\n",
       "    }\n",
       "</style>\n",
       "<table border=\"1\" class=\"dataframe\">\n",
       "  <thead>\n",
       "    <tr style=\"text-align: right;\">\n",
       "      <th></th>\n",
       "      <th>1</th>\n",
       "      <th>price</th>\n",
       "      <th>distance_travelled(kms)</th>\n",
       "      <th>price^2</th>\n",
       "      <th>price distance_travelled(kms)</th>\n",
       "      <th>distance_travelled(kms)^2</th>\n",
       "      <th>price^3</th>\n",
       "      <th>price^2 distance_travelled(kms)</th>\n",
       "      <th>price distance_travelled(kms)^2</th>\n",
       "      <th>distance_travelled(kms)^3</th>\n",
       "    </tr>\n",
       "  </thead>\n",
       "  <tbody>\n",
       "    <tr>\n",
       "      <th>0</th>\n",
       "      <td>1.0</td>\n",
       "      <td>-0.613742</td>\n",
       "      <td>-1.823289</td>\n",
       "      <td>0.376679</td>\n",
       "      <td>1.119030</td>\n",
       "      <td>3.324384</td>\n",
       "      <td>-0.231184</td>\n",
       "      <td>-0.686796</td>\n",
       "      <td>-2.040315</td>\n",
       "      <td>-6.061313</td>\n",
       "    </tr>\n",
       "    <tr>\n",
       "      <th>1</th>\n",
       "      <td>1.0</td>\n",
       "      <td>-0.671885</td>\n",
       "      <td>1.275503</td>\n",
       "      <td>0.451430</td>\n",
       "      <td>-0.856992</td>\n",
       "      <td>1.626909</td>\n",
       "      <td>-0.303309</td>\n",
       "      <td>0.575800</td>\n",
       "      <td>-1.093096</td>\n",
       "      <td>2.075127</td>\n",
       "    </tr>\n",
       "    <tr>\n",
       "      <th>2</th>\n",
       "      <td>1.0</td>\n",
       "      <td>0.679942</td>\n",
       "      <td>0.519931</td>\n",
       "      <td>0.462321</td>\n",
       "      <td>0.353523</td>\n",
       "      <td>0.270328</td>\n",
       "      <td>0.314352</td>\n",
       "      <td>0.240375</td>\n",
       "      <td>0.183807</td>\n",
       "      <td>0.140552</td>\n",
       "    </tr>\n",
       "    <tr>\n",
       "      <th>3</th>\n",
       "      <td>1.0</td>\n",
       "      <td>1.578253</td>\n",
       "      <td>-0.651936</td>\n",
       "      <td>2.490883</td>\n",
       "      <td>-1.028920</td>\n",
       "      <td>0.425021</td>\n",
       "      <td>3.931244</td>\n",
       "      <td>-1.623897</td>\n",
       "      <td>0.670791</td>\n",
       "      <td>-0.277087</td>\n",
       "    </tr>\n",
       "    <tr>\n",
       "      <th>4</th>\n",
       "      <td>1.0</td>\n",
       "      <td>-0.584671</td>\n",
       "      <td>-0.712664</td>\n",
       "      <td>0.341840</td>\n",
       "      <td>0.416674</td>\n",
       "      <td>0.507890</td>\n",
       "      <td>-0.199864</td>\n",
       "      <td>-0.243617</td>\n",
       "      <td>-0.296948</td>\n",
       "      <td>-0.361955</td>\n",
       "    </tr>\n",
       "    <tr>\n",
       "      <th>...</th>\n",
       "      <td>...</td>\n",
       "      <td>...</td>\n",
       "      <td>...</td>\n",
       "      <td>...</td>\n",
       "      <td>...</td>\n",
       "      <td>...</td>\n",
       "      <td>...</td>\n",
       "      <td>...</td>\n",
       "      <td>...</td>\n",
       "      <td>...</td>\n",
       "    </tr>\n",
       "    <tr>\n",
       "      <th>1294</th>\n",
       "      <td>1.0</td>\n",
       "      <td>-0.308491</td>\n",
       "      <td>-3.016943</td>\n",
       "      <td>0.095167</td>\n",
       "      <td>0.930699</td>\n",
       "      <td>9.101942</td>\n",
       "      <td>-0.029358</td>\n",
       "      <td>-0.287112</td>\n",
       "      <td>-2.807866</td>\n",
       "      <td>-27.460037</td>\n",
       "    </tr>\n",
       "    <tr>\n",
       "      <th>1295</th>\n",
       "      <td>1.0</td>\n",
       "      <td>-0.692235</td>\n",
       "      <td>-0.135020</td>\n",
       "      <td>0.479190</td>\n",
       "      <td>0.093465</td>\n",
       "      <td>0.018230</td>\n",
       "      <td>-0.331712</td>\n",
       "      <td>-0.064700</td>\n",
       "      <td>-0.012620</td>\n",
       "      <td>-0.002461</td>\n",
       "    </tr>\n",
       "    <tr>\n",
       "      <th>1296</th>\n",
       "      <td>1.0</td>\n",
       "      <td>3.499883</td>\n",
       "      <td>-0.201768</td>\n",
       "      <td>12.249181</td>\n",
       "      <td>-0.706165</td>\n",
       "      <td>0.040710</td>\n",
       "      <td>42.870702</td>\n",
       "      <td>-2.471494</td>\n",
       "      <td>0.142481</td>\n",
       "      <td>-0.008214</td>\n",
       "    </tr>\n",
       "    <tr>\n",
       "      <th>1297</th>\n",
       "      <td>1.0</td>\n",
       "      <td>-0.753286</td>\n",
       "      <td>1.496937</td>\n",
       "      <td>0.567439</td>\n",
       "      <td>-1.127621</td>\n",
       "      <td>2.240821</td>\n",
       "      <td>-0.427444</td>\n",
       "      <td>0.849421</td>\n",
       "      <td>-1.687979</td>\n",
       "      <td>3.354369</td>\n",
       "    </tr>\n",
       "    <tr>\n",
       "      <th>1298</th>\n",
       "      <td>1.0</td>\n",
       "      <td>-0.049754</td>\n",
       "      <td>-0.385257</td>\n",
       "      <td>0.002475</td>\n",
       "      <td>0.019168</td>\n",
       "      <td>0.148423</td>\n",
       "      <td>-0.000123</td>\n",
       "      <td>-0.000954</td>\n",
       "      <td>-0.007385</td>\n",
       "      <td>-0.057181</td>\n",
       "    </tr>\n",
       "  </tbody>\n",
       "</table>\n",
       "<p>1299 rows × 10 columns</p>\n",
       "</div>"
      ],
      "text/plain": [
       "        1     price  distance_travelled(kms)    price^2  \\\n",
       "0     1.0 -0.613742                -1.823289   0.376679   \n",
       "1     1.0 -0.671885                 1.275503   0.451430   \n",
       "2     1.0  0.679942                 0.519931   0.462321   \n",
       "3     1.0  1.578253                -0.651936   2.490883   \n",
       "4     1.0 -0.584671                -0.712664   0.341840   \n",
       "...   ...       ...                      ...        ...   \n",
       "1294  1.0 -0.308491                -3.016943   0.095167   \n",
       "1295  1.0 -0.692235                -0.135020   0.479190   \n",
       "1296  1.0  3.499883                -0.201768  12.249181   \n",
       "1297  1.0 -0.753286                 1.496937   0.567439   \n",
       "1298  1.0 -0.049754                -0.385257   0.002475   \n",
       "\n",
       "      price distance_travelled(kms)  distance_travelled(kms)^2    price^3  \\\n",
       "0                          1.119030                   3.324384  -0.231184   \n",
       "1                         -0.856992                   1.626909  -0.303309   \n",
       "2                          0.353523                   0.270328   0.314352   \n",
       "3                         -1.028920                   0.425021   3.931244   \n",
       "4                          0.416674                   0.507890  -0.199864   \n",
       "...                             ...                        ...        ...   \n",
       "1294                       0.930699                   9.101942  -0.029358   \n",
       "1295                       0.093465                   0.018230  -0.331712   \n",
       "1296                      -0.706165                   0.040710  42.870702   \n",
       "1297                      -1.127621                   2.240821  -0.427444   \n",
       "1298                       0.019168                   0.148423  -0.000123   \n",
       "\n",
       "      price^2 distance_travelled(kms)  price distance_travelled(kms)^2  \\\n",
       "0                           -0.686796                        -2.040315   \n",
       "1                            0.575800                        -1.093096   \n",
       "2                            0.240375                         0.183807   \n",
       "3                           -1.623897                         0.670791   \n",
       "4                           -0.243617                        -0.296948   \n",
       "...                               ...                              ...   \n",
       "1294                        -0.287112                        -2.807866   \n",
       "1295                        -0.064700                        -0.012620   \n",
       "1296                        -2.471494                         0.142481   \n",
       "1297                         0.849421                        -1.687979   \n",
       "1298                        -0.000954                        -0.007385   \n",
       "\n",
       "      distance_travelled(kms)^3  \n",
       "0                     -6.061313  \n",
       "1                      2.075127  \n",
       "2                      0.140552  \n",
       "3                     -0.277087  \n",
       "4                     -0.361955  \n",
       "...                         ...  \n",
       "1294                 -27.460037  \n",
       "1295                  -0.002461  \n",
       "1296                  -0.008214  \n",
       "1297                   3.354369  \n",
       "1298                  -0.057181  \n",
       "\n",
       "[1299 rows x 10 columns]"
      ]
     },
     "execution_count": 121,
     "metadata": {},
     "output_type": "execute_result"
    }
   ],
   "source": [
    "# Scale the data\n",
    "df_scaled = pd.DataFrame(scaler.fit_transform(df[['price','distance_travelled(kms)']]), \n",
    "                            columns=df[['price','distance_travelled(kms)']].columns)\n",
    "\n",
    "# Create polynomial features\n",
    "poly = PolynomialFeatures(degree=3)\n",
    "\n",
    "poly_train = poly.fit_transform(df_scaled)\n",
    "poly_train = pd.DataFrame(poly_train, columns=poly.get_feature_names_out())\n",
    "\n",
    "poly_train"
   ]
  },
  {
   "cell_type": "code",
   "execution_count": 122,
   "metadata": {
    "ExecuteTime": {
     "end_time": "2023-01-26T21:19:25.464023Z",
     "start_time": "2023-01-26T21:19:25.337560Z"
    },
    "colab": {
     "base_uri": "https://localhost:8080/",
     "height": 283
    },
    "executionInfo": {
     "elapsed": 594,
     "status": "ok",
     "timestamp": 1668735731834,
     "user": {
      "displayName": "Josh Johnson",
      "userId": "08606005069848925988"
     },
     "user_tz": 480
    },
    "id": "cB4pSBRhEl98",
    "outputId": "e140377f-74cc-4efd-dd2e-cfcba9cd7244",
    "scrolled": true
   },
   "outputs": [
    {
     "data": {
      "text/plain": [
       "<matplotlib.collections.PathCollection at 0x274424637f0>"
      ]
     },
     "execution_count": 122,
     "metadata": {},
     "output_type": "execute_result"
    },
    {
     "data": {
      "image/png": "[encoded data removed]",
      "text/plain": [
       "<Figure size 640x480 with 1 Axes>"
      ]
     },
     "metadata": {},
     "output_type": "display_data"
    }
   ],
   "source": [
    "# Plot distance vs distance^2\n",
    "plt.scatter(data=poly_train, x='distance_travelled(kms)', y='distance_travelled(kms)^2')"
   ]
  },
  {
   "cell_type": "code",
   "execution_count": 123,
   "metadata": {
    "ExecuteTime": {
     "end_time": "2023-01-26T21:19:25.583468Z",
     "start_time": "2023-01-26T21:19:25.464991Z"
    },
    "colab": {
     "base_uri": "https://localhost:8080/",
     "height": 283
    },
    "executionInfo": {
     "elapsed": 411,
     "status": "ok",
     "timestamp": 1668735734445,
     "user": {
      "displayName": "Josh Johnson",
      "userId": "08606005069848925988"
     },
     "user_tz": 480
    },
    "id": "NoeC8b-WcsLc",
    "outputId": "9f19f01e-c654-475d-8822-27dcc54511c7"
   },
   "outputs": [
    {
     "data": {
      "text/plain": [
       "<matplotlib.collections.PathCollection at 0x274423e1880>"
      ]
     },
     "execution_count": 123,
     "metadata": {},
     "output_type": "execute_result"
    },
    {
     "data": {
      "image/png": "[encoded data removed]",
      "text/plain": [
       "<Figure size 640x480 with 1 Axes>"
      ]
     },
     "metadata": {},
     "output_type": "display_data"
    }
   ],
   "source": [
    "# Plot distance vs distance^2\n",
    "plt.scatter(data=poly_train, x='distance_travelled(kms)', y='distance_travelled(kms)^3')"
   ]
  },
  {
   "cell_type": "markdown",
   "metadata": {
    "id": "wU0OaqwyQMPH"
   },
   "source": [
    "## Model with PolynomialFeatures"
   ]
  },
  {
   "cell_type": "code",
   "execution_count": 124,
   "metadata": {
    "ExecuteTime": {
     "end_time": "2023-01-26T21:19:25.604157Z",
     "start_time": "2023-01-26T21:19:25.584465Z"
    },
    "colab": {
     "base_uri": "https://localhost:8080/"
    },
    "executionInfo": {
     "elapsed": 174,
     "status": "ok",
     "timestamp": 1668735916097,
     "user": {
      "displayName": "Josh Johnson",
      "userId": "08606005069848925988"
     },
     "user_tz": 480
    },
    "id": "rW7l9sHaFTCc",
    "outputId": "a06097b4-dbba-49b6-962c-c795522870d5"
   },
   "outputs": [
    {
     "data": {
      "text/plain": [
       "(974, 838)"
      ]
     },
     "execution_count": 124,
     "metadata": {},
     "output_type": "execute_result"
    }
   ],
   "source": [
    "# instantiate transformers\n",
    "scaler = StandardScaler()\n",
    "ohe = OneHotEncoder(sparse=False, handle_unknown='ignore')\n",
    "# Instantiate the PolynomialFeatures transformer\n",
    "poly = PolynomialFeatures(degree=2)\n",
    "\n",
    "cat_cols = make_column_selector(dtype_include='object')\n",
    "num_cols = make_column_selector(dtype_include='number')\n",
    "\n",
    "# Add the PolynomialFeatures transformer to the numeric pipeline\n",
    "num_pipe = make_pipeline(scaler, poly)\n",
    "\n",
    "# create preprocessing pipeline\n",
    "preprocess = make_column_transformer((ohe, cat_cols), (num_pipe, num_cols))\n",
    "\n",
    "# Examine the results of all transformers\n",
    "preprocess.fit_transform(X_train, y_train).shape"
   ]
  },
  {
   "cell_type": "code",
   "execution_count": 125,
   "metadata": {
    "ExecuteTime": {
     "end_time": "2023-01-26T21:19:25.675727Z",
     "start_time": "2023-01-26T21:19:25.607662Z"
    },
    "executionInfo": {
     "elapsed": 3498,
     "status": "ok",
     "timestamp": 1668735902638,
     "user": {
      "displayName": "Josh Johnson",
      "userId": "08606005069848925988"
     },
     "user_tz": 480
    },
    "id": "w9vm7yTXHYfd"
   },
   "outputs": [],
   "source": [
    "# Create and evaluate model with PolynomialFeatures\n",
    "poly_logreg = LogisticRegression(max_iter=1000)\n",
    "poly_logreg = make_pipeline(preprocess, poly_logreg)\n",
    "poly_logreg.fit(X_train, y_train)\n",
    "\n",
    "train_pred = poly_logreg.predict(X_train)\n",
    "test_pred = poly_logreg.predict(X_test)"
   ]
  },
  {
   "cell_type": "code",
   "execution_count": 126,
   "metadata": {
    "ExecuteTime": {
     "end_time": "2023-01-26T21:19:25.989268Z",
     "start_time": "2023-01-26T21:19:25.676724Z"
    },
    "colab": {
     "base_uri": "https://localhost:8080/",
     "height": 1000
    },
    "executionInfo": {
     "elapsed": 1127,
     "status": "ok",
     "timestamp": 1668735903762,
     "user": {
      "displayName": "Josh Johnson",
      "userId": "08606005069848925988"
     },
     "user_tz": 480
    },
    "id": "sys6lk9cZbc2",
    "outputId": "4ddb01a8-f235-4eec-9d73-be0c2baa1577"
   },
   "outputs": [
    {
     "name": "stdout",
     "output_type": "stream",
     "text": [
      "PolyTrain \n",
      "\n",
      "              precision    recall  f1-score   support\n",
      "\n",
      "           0       0.98      0.99      0.98       681\n",
      "           1       0.97      0.96      0.96       293\n",
      "\n",
      "    accuracy                           0.98       974\n",
      "   macro avg       0.98      0.97      0.97       974\n",
      "weighted avg       0.98      0.98      0.98       974\n",
      "\n"
     ]
    },
    {
     "data": {
      "image/png": "[encoded data removed]",
      "text/plain": [
       "<Figure size 640x480 with 2 Axes>"
      ]
     },
     "metadata": {},
     "output_type": "display_data"
    },
    {
     "name": "stdout",
     "output_type": "stream",
     "text": [
      "PolyTest \n",
      "\n",
      "              precision    recall  f1-score   support\n",
      "\n",
      "           0       0.94      0.99      0.96       226\n",
      "           1       0.98      0.85      0.91        99\n",
      "\n",
      "    accuracy                           0.95       325\n",
      "   macro avg       0.96      0.92      0.94       325\n",
      "weighted avg       0.95      0.95      0.95       325\n",
      "\n"
     ]
    },
    {
     "data": {
      "image/png": "[encoded data removed]",
      "text/plain": [
       "<Figure size 640x480 with 2 Axes>"
      ]
     },
     "metadata": {},
     "output_type": "display_data"
    },
    {
     "data": {
      "text/html": [
       "<div>\n",
       "<style scoped>\n",
       "    .dataframe tbody tr th:only-of-type {\n",
       "        vertical-align: middle;\n",
       "    }\n",
       "\n",
       "    .dataframe tbody tr th {\n",
       "        vertical-align: top;\n",
       "    }\n",
       "\n",
       "    .dataframe thead th {\n",
       "        text-align: right;\n",
       "    }\n",
       "</style>\n",
       "<table border=\"1\" class=\"dataframe\">\n",
       "  <thead>\n",
       "    <tr style=\"text-align: right;\">\n",
       "      <th></th>\n",
       "      <th>Precision</th>\n",
       "      <th>Recall</th>\n",
       "      <th>F1 Score</th>\n",
       "      <th>Accuracy</th>\n",
       "    </tr>\n",
       "    <tr>\n",
       "      <th>Model Name</th>\n",
       "      <th></th>\n",
       "      <th></th>\n",
       "      <th></th>\n",
       "      <th></th>\n",
       "    </tr>\n",
       "  </thead>\n",
       "  <tbody>\n",
       "    <tr>\n",
       "      <th>PolyTrain</th>\n",
       "      <td>0.968966</td>\n",
       "      <td>0.959044</td>\n",
       "      <td>0.963979</td>\n",
       "      <td>0.978439</td>\n",
       "    </tr>\n",
       "    <tr>\n",
       "      <th>PolyTest</th>\n",
       "      <td>0.976744</td>\n",
       "      <td>0.848485</td>\n",
       "      <td>0.908108</td>\n",
       "      <td>0.947692</td>\n",
       "    </tr>\n",
       "  </tbody>\n",
       "</table>\n",
       "</div>"
      ],
      "text/plain": [
       "            Precision    Recall  F1 Score  Accuracy\n",
       "Model Name                                         \n",
       "PolyTrain    0.968966  0.959044  0.963979  0.978439\n",
       "PolyTest     0.976744  0.848485  0.908108  0.947692"
      ]
     },
     "execution_count": 126,
     "metadata": {},
     "output_type": "execute_result"
    }
   ],
   "source": [
    "# evaluate model\n",
    "train_scores = eval_classification(y_train, train_pred, name='PolyTrain')\n",
    "\n",
    "test_scores = eval_classification(y_test, test_pred, name='PolyTest')\n",
    "\n",
    "poly_scores = pd.concat([train_scores, test_scores])\n",
    "poly_scores"
   ]
  },
  {
   "cell_type": "markdown",
   "metadata": {},
   "source": [
    "## Compare base and polynomial model scores"
   ]
  },
  {
   "cell_type": "code",
   "execution_count": 127,
   "metadata": {
    "ExecuteTime": {
     "end_time": "2023-01-26T21:19:25.998039Z",
     "start_time": "2023-01-26T21:19:25.990294Z"
    },
    "scrolled": false
   },
   "outputs": [
    {
     "data": {
      "text/html": [
       "<div>\n",
       "<style scoped>\n",
       "    .dataframe tbody tr th:only-of-type {\n",
       "        vertical-align: middle;\n",
       "    }\n",
       "\n",
       "    .dataframe tbody tr th {\n",
       "        vertical-align: top;\n",
       "    }\n",
       "\n",
       "    .dataframe thead th {\n",
       "        text-align: right;\n",
       "    }\n",
       "</style>\n",
       "<table border=\"1\" class=\"dataframe\">\n",
       "  <thead>\n",
       "    <tr style=\"text-align: right;\">\n",
       "      <th></th>\n",
       "      <th>Precision</th>\n",
       "      <th>Recall</th>\n",
       "      <th>F1 Score</th>\n",
       "      <th>Accuracy</th>\n",
       "    </tr>\n",
       "    <tr>\n",
       "      <th>Model Name</th>\n",
       "      <th></th>\n",
       "      <th></th>\n",
       "      <th></th>\n",
       "      <th></th>\n",
       "    </tr>\n",
       "  </thead>\n",
       "  <tbody>\n",
       "    <tr>\n",
       "      <th>BaseTrain</th>\n",
       "      <td>0.969178</td>\n",
       "      <td>0.965870</td>\n",
       "      <td>0.967521</td>\n",
       "      <td>0.980493</td>\n",
       "    </tr>\n",
       "    <tr>\n",
       "      <th>BaseTest</th>\n",
       "      <td>0.965116</td>\n",
       "      <td>0.838384</td>\n",
       "      <td>0.897297</td>\n",
       "      <td>0.941538</td>\n",
       "    </tr>\n",
       "    <tr>\n",
       "      <th>PolyTrain</th>\n",
       "      <td>0.968966</td>\n",
       "      <td>0.959044</td>\n",
       "      <td>0.963979</td>\n",
       "      <td>0.978439</td>\n",
       "    </tr>\n",
       "    <tr>\n",
       "      <th>PolyTest</th>\n",
       "      <td>0.976744</td>\n",
       "      <td>0.848485</td>\n",
       "      <td>0.908108</td>\n",
       "      <td>0.947692</td>\n",
       "    </tr>\n",
       "  </tbody>\n",
       "</table>\n",
       "</div>"
      ],
      "text/plain": [
       "            Precision    Recall  F1 Score  Accuracy\n",
       "Model Name                                         \n",
       "BaseTrain    0.969178  0.965870  0.967521  0.980493\n",
       "BaseTest     0.965116  0.838384  0.897297  0.941538\n",
       "PolyTrain    0.968966  0.959044  0.963979  0.978439\n",
       "PolyTest     0.976744  0.848485  0.908108  0.947692"
      ]
     },
     "execution_count": 127,
     "metadata": {},
     "output_type": "execute_result"
    }
   ],
   "source": [
    "pd.concat([base_scores, poly_scores])"
   ]
  },
  {
   "cell_type": "markdown",
   "metadata": {
    "id": "GT5-ExP6Miae"
   },
   "source": [
    "## What if we change the degree?"
   ]
  },
  {
   "cell_type": "code",
   "execution_count": null,
   "metadata": {
    "executionInfo": {
     "elapsed": 5,
     "status": "ok",
     "timestamp": 1668735903763,
     "user": {
      "displayName": "Josh Johnson",
      "userId": "08606005069848925988"
     },
     "user_tz": 480
    },
    "id": "dHIwZusbH2i-"
   },
   "outputs": [],
   "source": []
  }
 ],
 "metadata": {
  "colab": {
   "authorship_tag": "ABX9TyMzLe+q8ocz2qzOeu7MZJ8M",
   "provenance": []
  },
  "kernelspec": {
   "display_name": "Python 3 (ipykernel)",
   "language": "python",
   "name": "python3"
  },
  "language_info": {
   "codemirror_mode": {
    "name": "ipython",
    "version": 3
   },
   "file_extension": ".py",
   "mimetype": "text/x-python",
   "name": "python",
   "nbconvert_exporter": "python",
   "pygments_lexer": "ipython3",
   "version": "3.9.15"
  },
  "toc": {
   "base_numbering": 1,
   "nav_menu": {},
   "number_sections": false,
   "sideBar": true,
   "skip_h1_title": false,
   "title_cell": "Table of Contents",
   "title_sidebar": "Contents",
   "toc_cell": false,
   "toc_position": {
    "height": "calc(100% - 180px)",
    "left": "10px",
    "top": "150px",
    "width": "261.616px"
   },
   "toc_section_display": true,
   "toc_window_display": false
  }
 },
 "nbformat": 4,
 "nbformat_minor": 1
}
