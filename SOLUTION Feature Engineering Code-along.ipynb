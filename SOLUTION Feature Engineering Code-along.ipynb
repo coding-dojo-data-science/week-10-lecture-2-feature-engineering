{
 "cells": [
  {
   "cell_type": "markdown",
   "metadata": {
    "id": "Lmp3JoP2nQzp"
   },
   "source": [
    "# Feature Engineering Code-along Solution\n",
    "\n",
    "<a href=\"https://colab.research.google.com/github/coding-dojo-data-science/week-10-lecture-2-feature-engineering/blob/11-7-22/SOLUTION%20Challenge%20Feature%20Engineering.ipynb\" target=\"_parent\"><img src=\"https://colab.research.google.com/assets/colab-badge.svg\" alt=\"Open In Colab\"/></a>\n",
    "\n",
    "\n",
    "In this notebook we use the following feature engineering strategies:\n",
    "1. scaling\n",
    "2. binning\n",
    "3. removing outliers\n",
    "4. log transformation\n",
    "5. target encoding\n",
    "6. polynomial features"
   ]
  },
  {
   "cell_type": "code",
   "execution_count": 59,
   "metadata": {
    "ExecuteTime": {
     "end_time": "2023-02-03T00:04:56.990228Z",
     "start_time": "2023-02-03T00:04:56.973308Z"
    },
    "executionInfo": {
     "elapsed": 1171,
     "status": "ok",
     "timestamp": 1668734845596,
     "user": {
      "displayName": "Josh Johnson",
      "userId": "08606005069848925988"
     },
     "user_tz": 480
    },
    "id": "fu6bkefYnK-j"
   },
   "outputs": [],
   "source": [
    "# Imports\n",
    "import pandas as pd\n",
    "import numpy as np\n",
    "import matplotlib.pyplot as plt\n",
    "import seaborn as sns\n",
    "\n",
    "from sklearn.model_selection import train_test_split\n",
    "from sklearn.linear_model import LogisticRegression, LinearRegression\n",
    "from sklearn.preprocessing import PolynomialFeatures, StandardScaler, OneHotEncoder\n",
    "from sklearn.compose import make_column_transformer, make_column_selector\n",
    "from sklearn.pipeline import make_pipeline\n",
    "from sklearn.metrics import mean_absolute_error, r2_score, mean_squared_error, \\\n",
    "precision_score, recall_score, accuracy_score, f1_score, ConfusionMatrixDisplay, \\\n",
    "classification_report\n",
    "\n",
    "import warnings\n",
    "warnings.filterwarnings('ignore')"
   ]
  },
  {
   "cell_type": "markdown",
   "metadata": {
    "id": "3CB3xgtyXzGt"
   },
   "source": [
    "# Useful Functions"
   ]
  },
  {
   "cell_type": "code",
   "execution_count": 60,
   "metadata": {
    "ExecuteTime": {
     "end_time": "2023-02-03T00:04:57.005187Z",
     "start_time": "2023-02-03T00:04:56.992223Z"
    },
    "executionInfo": {
     "elapsed": 218,
     "status": "ok",
     "timestamp": 1668734882041,
     "user": {
      "displayName": "Josh Johnson",
      "userId": "08606005069848925988"
     },
     "user_tz": 480
    },
    "id": "7DVFP_utXyaF"
   },
   "outputs": [],
   "source": [
    "def eval_regression(true, pred, name='Model'):\n",
    "    \"\"\"Evaluates true and predicted values from a regression model.  \n",
    "    Outputs a dataframe of metrics\"\"\"\n",
    "    scores = pd.DataFrame()\n",
    "    scores['Model Name'] = [name]\n",
    "    scores['RMSE'] = [np.sqrt(mean_squared_error(true, pred))]\n",
    "    scores['MAE'] = [mean_absolute_error(true, pred)]\n",
    "    scores['R2'] = [r2_score(true, pred)]\n",
    "    scores.set_index('Model Name', inplace=True)\n",
    "\n",
    "    return scores\n",
    "\n",
    "def eval_classification(true, pred, name='Model'):\n",
    "    \"\"\"shows classification_report and confusion matrix\n",
    "    for classification model predictions.  Outputs a dataframe of metrics\"\"\"\n",
    "  \n",
    "    print(name, '\\n')\n",
    "    print(classification_report(true, pred))\n",
    "    ConfusionMatrixDisplay.from_predictions(true, pred)\n",
    "    plt.show()\n",
    "\n",
    "    scores = pd.DataFrame()\n",
    "    scores['Model Name'] = [name]\n",
    "    scores['Precision'] = [precision_score(true, pred)]\n",
    "    scores['Recall'] = [recall_score(true, pred)]\n",
    "    scores['F1 Score'] = [f1_score(true, pred)]\n",
    "    scores['Accuracy'] = [accuracy_score(true, pred)]\n",
    "    scores.set_index('Model Name', inplace=True)\n",
    "\n",
    "    return scores"
   ]
  },
  {
   "cell_type": "markdown",
   "metadata": {
    "id": "TdIxE4xgNU3m"
   },
   "source": [
    "## Data\n",
    "\n",
    "Today we will use data about used car sales in India from Kaggle.  [Here is the source](https://www.kaggle.com/datasets/saisaathvik/used-cars-dataset-from-cardekhocom)"
   ]
  },
  {
   "cell_type": "code",
   "execution_count": 61,
   "metadata": {
    "ExecuteTime": {
     "end_time": "2023-02-03T00:04:58.424387Z",
     "start_time": "2023-02-03T00:04:57.006186Z"
    },
    "colab": {
     "base_uri": "https://localhost:8080/",
     "height": 224
    },
    "executionInfo": {
     "elapsed": 1318,
     "status": "ok",
     "timestamp": 1668734885834,
     "user": {
      "displayName": "Josh Johnson",
      "userId": "08606005069848925988"
     },
     "user_tz": 480
    },
    "id": "FJb74mnanWAY",
    "outputId": "589733aa-2438-438a-fc20-734e3dc145c1"
   },
   "outputs": [
    {
     "data": {
      "text/html": [
       "<div>\n",
       "<style scoped>\n",
       "    .dataframe tbody tr th:only-of-type {\n",
       "        vertical-align: middle;\n",
       "    }\n",
       "\n",
       "    .dataframe tbody tr th {\n",
       "        vertical-align: top;\n",
       "    }\n",
       "\n",
       "    .dataframe thead th {\n",
       "        text-align: right;\n",
       "    }\n",
       "</style>\n",
       "<table border=\"1\" class=\"dataframe\">\n",
       "  <thead>\n",
       "    <tr style=\"text-align: right;\">\n",
       "      <th></th>\n",
       "      <th>Id</th>\n",
       "      <th>year</th>\n",
       "      <th>brand</th>\n",
       "      <th>full_model_name</th>\n",
       "      <th>model_name</th>\n",
       "      <th>price</th>\n",
       "      <th>distance_travelled(kms)</th>\n",
       "      <th>fuel_type</th>\n",
       "      <th>city</th>\n",
       "    </tr>\n",
       "  </thead>\n",
       "  <tbody>\n",
       "    <tr>\n",
       "      <th>0</th>\n",
       "      <td>0</td>\n",
       "      <td>2016</td>\n",
       "      <td>Honda</td>\n",
       "      <td>Honda Brio S MT</td>\n",
       "      <td>Brio</td>\n",
       "      <td>425000</td>\n",
       "      <td>9680</td>\n",
       "      <td>Petrol</td>\n",
       "      <td>Mumbai</td>\n",
       "    </tr>\n",
       "    <tr>\n",
       "      <th>1</th>\n",
       "      <td>1</td>\n",
       "      <td>2012</td>\n",
       "      <td>Nissan</td>\n",
       "      <td>Nissan Sunny XV Diesel</td>\n",
       "      <td>Sunny</td>\n",
       "      <td>325000</td>\n",
       "      <td>119120</td>\n",
       "      <td>Diesel</td>\n",
       "      <td>Mumbai</td>\n",
       "    </tr>\n",
       "    <tr>\n",
       "      <th>2</th>\n",
       "      <td>2</td>\n",
       "      <td>2017</td>\n",
       "      <td>Toyota</td>\n",
       "      <td>Toyota Fortuner 2.8 4x2 MT [2016-2020]</td>\n",
       "      <td>Fortuner</td>\n",
       "      <td>2650000</td>\n",
       "      <td>64593</td>\n",
       "      <td>Diesel</td>\n",
       "      <td>Thane</td>\n",
       "    </tr>\n",
       "    <tr>\n",
       "      <th>3</th>\n",
       "      <td>3</td>\n",
       "      <td>2017</td>\n",
       "      <td>Mercedes-Benz</td>\n",
       "      <td>Mercedes-Benz E-Class E 220d Expression [2019-...</td>\n",
       "      <td>E-Class</td>\n",
       "      <td>4195000</td>\n",
       "      <td>25000</td>\n",
       "      <td>Diesel</td>\n",
       "      <td>Mumbai</td>\n",
       "    </tr>\n",
       "    <tr>\n",
       "      <th>4</th>\n",
       "      <td>4</td>\n",
       "      <td>2012</td>\n",
       "      <td>Hyundai</td>\n",
       "      <td>Hyundai Verna Fluidic 1.6 CRDi SX</td>\n",
       "      <td>Verna</td>\n",
       "      <td>475000</td>\n",
       "      <td>23800</td>\n",
       "      <td>Diesel</td>\n",
       "      <td>Mumbai</td>\n",
       "    </tr>\n",
       "  </tbody>\n",
       "</table>\n",
       "</div>"
      ],
      "text/plain": [
       "   Id  year          brand                                    full_model_name  \\\n",
       "0   0  2016          Honda                                    Honda Brio S MT   \n",
       "1   1  2012         Nissan                             Nissan Sunny XV Diesel   \n",
       "2   2  2017         Toyota             Toyota Fortuner 2.8 4x2 MT [2016-2020]   \n",
       "3   3  2017  Mercedes-Benz  Mercedes-Benz E-Class E 220d Expression [2019-...   \n",
       "4   4  2012        Hyundai                  Hyundai Verna Fluidic 1.6 CRDi SX   \n",
       "\n",
       "  model_name    price  distance_travelled(kms) fuel_type    city  \n",
       "0       Brio   425000                     9680    Petrol  Mumbai  \n",
       "1      Sunny   325000                   119120    Diesel  Mumbai  \n",
       "2   Fortuner  2650000                    64593    Diesel   Thane  \n",
       "3    E-Class  4195000                    25000    Diesel  Mumbai  \n",
       "4      Verna   475000                    23800    Diesel  Mumbai  "
      ]
     },
     "metadata": {},
     "output_type": "display_data"
    },
    {
     "name": "stdout",
     "output_type": "stream",
     "text": [
      "(1725, 9)\n"
     ]
    }
   ],
   "source": [
    "# load data\n",
    "df = pd.read_csv('https://docs.google.com/spreadsheets/d/e/2PACX-1vTeFV8-y5rNxCM946otPPyTF5UZ5rIOTOHrXCYU5zkqB7DubjxGKGzaxVayeLdU0wcCqLMrhjUbgkEp/pub?gid=1641648108&single=true&output=csv')\n",
    "df_backup = df.copy()\n",
    "\n",
    "display(df.head())\n",
    "print(df.shape)"
   ]
  },
  {
   "cell_type": "markdown",
   "metadata": {
    "id": "j5Ep8q1T02el"
   },
   "source": [
    "## Explore and clean the data"
   ]
  },
  {
   "cell_type": "code",
   "execution_count": 62,
   "metadata": {
    "ExecuteTime": {
     "end_time": "2023-02-03T00:04:58.440346Z",
     "start_time": "2023-02-03T00:04:58.426382Z"
    },
    "colab": {
     "base_uri": "https://localhost:8080/"
    },
    "executionInfo": {
     "elapsed": 245,
     "status": "ok",
     "timestamp": 1668734903886,
     "user": {
      "displayName": "Josh Johnson",
      "userId": "08606005069848925988"
     },
     "user_tz": 480
    },
    "id": "jpf0LSXexRPy",
    "outputId": "6ce7af54-b64a-4937-980f-79937349bae1"
   },
   "outputs": [
    {
     "data": {
      "text/plain": [
       "0"
      ]
     },
     "execution_count": 62,
     "metadata": {},
     "output_type": "execute_result"
    }
   ],
   "source": [
    "# check for duplicates\n",
    "df.duplicated().sum()"
   ]
  },
  {
   "cell_type": "code",
   "execution_count": 63,
   "metadata": {
    "ExecuteTime": {
     "end_time": "2023-02-03T00:04:58.455304Z",
     "start_time": "2023-02-03T00:04:58.442339Z"
    },
    "colab": {
     "base_uri": "https://localhost:8080/"
    },
    "executionInfo": {
     "elapsed": 207,
     "status": "ok",
     "timestamp": 1668734907162,
     "user": {
      "displayName": "Josh Johnson",
      "userId": "08606005069848925988"
     },
     "user_tz": 480
    },
    "id": "l9ekzc7txTez",
    "outputId": "f459be2e-d431-47c0-a715-942666b27e03"
   },
   "outputs": [
    {
     "data": {
      "text/plain": [
       "0"
      ]
     },
     "execution_count": 63,
     "metadata": {},
     "output_type": "execute_result"
    }
   ],
   "source": [
    "# remove duplicates\n",
    "df.drop_duplicates(inplace=True)\n",
    "df.duplicated().sum()"
   ]
  },
  {
   "cell_type": "code",
   "execution_count": 64,
   "metadata": {
    "ExecuteTime": {
     "end_time": "2023-02-03T00:04:58.470265Z",
     "start_time": "2023-02-03T00:04:58.456302Z"
    },
    "colab": {
     "base_uri": "https://localhost:8080/"
    },
    "executionInfo": {
     "elapsed": 200,
     "status": "ok",
     "timestamp": 1668734909728,
     "user": {
      "displayName": "Josh Johnson",
      "userId": "08606005069848925988"
     },
     "user_tz": 480
    },
    "id": "VjksV-Zn0gbl",
    "outputId": "ab0684e5-ee57-42c6-9149-34951ccf396a"
   },
   "outputs": [
    {
     "data": {
      "text/plain": [
       "Id                         0\n",
       "year                       0\n",
       "brand                      0\n",
       "full_model_name            0\n",
       "model_name                 0\n",
       "price                      0\n",
       "distance_travelled(kms)    0\n",
       "fuel_type                  0\n",
       "city                       0\n",
       "dtype: int64"
      ]
     },
     "execution_count": 64,
     "metadata": {},
     "output_type": "execute_result"
    }
   ],
   "source": [
    "# check for missing values\n",
    "df.isna().sum()"
   ]
  },
  {
   "cell_type": "code",
   "execution_count": 65,
   "metadata": {
    "ExecuteTime": {
     "end_time": "2023-02-03T00:04:58.500184Z",
     "start_time": "2023-02-03T00:04:58.472258Z"
    },
    "colab": {
     "base_uri": "https://localhost:8080/",
     "height": 394
    },
    "executionInfo": {
     "elapsed": 177,
     "status": "ok",
     "timestamp": 1668734928390,
     "user": {
      "displayName": "Josh Johnson",
      "userId": "08606005069848925988"
     },
     "user_tz": 480
    },
    "id": "mPLcxeYt0jMd",
    "outputId": "9d7ba155-8826-474a-8c83-8785805dbaa0"
   },
   "outputs": [
    {
     "data": {
      "text/html": [
       "<div>\n",
       "<style scoped>\n",
       "    .dataframe tbody tr th:only-of-type {\n",
       "        vertical-align: middle;\n",
       "    }\n",
       "\n",
       "    .dataframe tbody tr th {\n",
       "        vertical-align: top;\n",
       "    }\n",
       "\n",
       "    .dataframe thead th {\n",
       "        text-align: right;\n",
       "    }\n",
       "</style>\n",
       "<table border=\"1\" class=\"dataframe\">\n",
       "  <thead>\n",
       "    <tr style=\"text-align: right;\">\n",
       "      <th></th>\n",
       "      <th>Id</th>\n",
       "      <th>year</th>\n",
       "      <th>brand</th>\n",
       "      <th>full_model_name</th>\n",
       "      <th>model_name</th>\n",
       "      <th>price</th>\n",
       "      <th>distance_travelled(kms)</th>\n",
       "      <th>fuel_type</th>\n",
       "      <th>city</th>\n",
       "    </tr>\n",
       "  </thead>\n",
       "  <tbody>\n",
       "    <tr>\n",
       "      <th>count</th>\n",
       "      <td>1725.000000</td>\n",
       "      <td>1725.000000</td>\n",
       "      <td>1725</td>\n",
       "      <td>1725</td>\n",
       "      <td>1725</td>\n",
       "      <td>1.725000e+03</td>\n",
       "      <td>1725.000000</td>\n",
       "      <td>1725</td>\n",
       "      <td>1725</td>\n",
       "    </tr>\n",
       "    <tr>\n",
       "      <th>unique</th>\n",
       "      <td>NaN</td>\n",
       "      <td>NaN</td>\n",
       "      <td>31</td>\n",
       "      <td>750</td>\n",
       "      <td>168</td>\n",
       "      <td>NaN</td>\n",
       "      <td>NaN</td>\n",
       "      <td>5</td>\n",
       "      <td>15</td>\n",
       "    </tr>\n",
       "    <tr>\n",
       "      <th>top</th>\n",
       "      <td>NaN</td>\n",
       "      <td>NaN</td>\n",
       "      <td>Hyundai</td>\n",
       "      <td>Ford EcoSport Titanium 1.5L TDCi</td>\n",
       "      <td>Creta</td>\n",
       "      <td>NaN</td>\n",
       "      <td>NaN</td>\n",
       "      <td>Diesel</td>\n",
       "      <td>Chennai</td>\n",
       "    </tr>\n",
       "    <tr>\n",
       "      <th>freq</th>\n",
       "      <td>NaN</td>\n",
       "      <td>NaN</td>\n",
       "      <td>297</td>\n",
       "      <td>12</td>\n",
       "      <td>71</td>\n",
       "      <td>NaN</td>\n",
       "      <td>NaN</td>\n",
       "      <td>922</td>\n",
       "      <td>493</td>\n",
       "    </tr>\n",
       "    <tr>\n",
       "      <th>mean</th>\n",
       "      <td>862.000000</td>\n",
       "      <td>2015.390725</td>\n",
       "      <td>NaN</td>\n",
       "      <td>NaN</td>\n",
       "      <td>NaN</td>\n",
       "      <td>1.494837e+06</td>\n",
       "      <td>53848.256232</td>\n",
       "      <td>NaN</td>\n",
       "      <td>NaN</td>\n",
       "    </tr>\n",
       "    <tr>\n",
       "      <th>std</th>\n",
       "      <td>498.108924</td>\n",
       "      <td>3.207504</td>\n",
       "      <td>NaN</td>\n",
       "      <td>NaN</td>\n",
       "      <td>NaN</td>\n",
       "      <td>1.671658e+06</td>\n",
       "      <td>44725.541963</td>\n",
       "      <td>NaN</td>\n",
       "      <td>NaN</td>\n",
       "    </tr>\n",
       "    <tr>\n",
       "      <th>min</th>\n",
       "      <td>0.000000</td>\n",
       "      <td>1990.000000</td>\n",
       "      <td>NaN</td>\n",
       "      <td>NaN</td>\n",
       "      <td>NaN</td>\n",
       "      <td>6.250000e+04</td>\n",
       "      <td>350.000000</td>\n",
       "      <td>NaN</td>\n",
       "      <td>NaN</td>\n",
       "    </tr>\n",
       "    <tr>\n",
       "      <th>25%</th>\n",
       "      <td>431.000000</td>\n",
       "      <td>2013.000000</td>\n",
       "      <td>NaN</td>\n",
       "      <td>NaN</td>\n",
       "      <td>NaN</td>\n",
       "      <td>5.450000e+05</td>\n",
       "      <td>29000.000000</td>\n",
       "      <td>NaN</td>\n",
       "      <td>NaN</td>\n",
       "    </tr>\n",
       "    <tr>\n",
       "      <th>50%</th>\n",
       "      <td>862.000000</td>\n",
       "      <td>2016.000000</td>\n",
       "      <td>NaN</td>\n",
       "      <td>NaN</td>\n",
       "      <td>NaN</td>\n",
       "      <td>8.750000e+05</td>\n",
       "      <td>49000.000000</td>\n",
       "      <td>NaN</td>\n",
       "      <td>NaN</td>\n",
       "    </tr>\n",
       "    <tr>\n",
       "      <th>75%</th>\n",
       "      <td>1293.000000</td>\n",
       "      <td>2018.000000</td>\n",
       "      <td>NaN</td>\n",
       "      <td>NaN</td>\n",
       "      <td>NaN</td>\n",
       "      <td>1.825000e+06</td>\n",
       "      <td>70500.000000</td>\n",
       "      <td>NaN</td>\n",
       "      <td>NaN</td>\n",
       "    </tr>\n",
       "    <tr>\n",
       "      <th>max</th>\n",
       "      <td>1724.000000</td>\n",
       "      <td>2021.000000</td>\n",
       "      <td>NaN</td>\n",
       "      <td>NaN</td>\n",
       "      <td>NaN</td>\n",
       "      <td>1.470000e+07</td>\n",
       "      <td>790000.000000</td>\n",
       "      <td>NaN</td>\n",
       "      <td>NaN</td>\n",
       "    </tr>\n",
       "  </tbody>\n",
       "</table>\n",
       "</div>"
      ],
      "text/plain": [
       "                 Id         year    brand                   full_model_name  \\\n",
       "count   1725.000000  1725.000000     1725                              1725   \n",
       "unique          NaN          NaN       31                               750   \n",
       "top             NaN          NaN  Hyundai  Ford EcoSport Titanium 1.5L TDCi   \n",
       "freq            NaN          NaN      297                                12   \n",
       "mean     862.000000  2015.390725      NaN                               NaN   \n",
       "std      498.108924     3.207504      NaN                               NaN   \n",
       "min        0.000000  1990.000000      NaN                               NaN   \n",
       "25%      431.000000  2013.000000      NaN                               NaN   \n",
       "50%      862.000000  2016.000000      NaN                               NaN   \n",
       "75%     1293.000000  2018.000000      NaN                               NaN   \n",
       "max     1724.000000  2021.000000      NaN                               NaN   \n",
       "\n",
       "       model_name         price  distance_travelled(kms) fuel_type     city  \n",
       "count        1725  1.725000e+03              1725.000000      1725     1725  \n",
       "unique        168           NaN                      NaN         5       15  \n",
       "top         Creta           NaN                      NaN    Diesel  Chennai  \n",
       "freq           71           NaN                      NaN       922      493  \n",
       "mean          NaN  1.494837e+06             53848.256232       NaN      NaN  \n",
       "std           NaN  1.671658e+06             44725.541963       NaN      NaN  \n",
       "min           NaN  6.250000e+04               350.000000       NaN      NaN  \n",
       "25%           NaN  5.450000e+05             29000.000000       NaN      NaN  \n",
       "50%           NaN  8.750000e+05             49000.000000       NaN      NaN  \n",
       "75%           NaN  1.825000e+06             70500.000000       NaN      NaN  \n",
       "max           NaN  1.470000e+07            790000.000000       NaN      NaN  "
      ]
     },
     "execution_count": 65,
     "metadata": {},
     "output_type": "execute_result"
    }
   ],
   "source": [
    "# check summary statistics\n",
    "df.describe(include='all')"
   ]
  },
  {
   "cell_type": "markdown",
   "metadata": {},
   "source": [
    "## Feature Selection\n",
    "Which columns won't be useful, or might harm our model?"
   ]
  },
  {
   "cell_type": "code",
   "execution_count": 66,
   "metadata": {
    "ExecuteTime": {
     "end_time": "2023-02-03T00:04:58.516241Z",
     "start_time": "2023-02-03T00:04:58.501181Z"
    }
   },
   "outputs": [],
   "source": [
    "df.drop(columns=['Id','full_model_name'], inplace=True)"
   ]
  },
  {
   "cell_type": "markdown",
   "metadata": {
    "id": "b5mB-62ixhOE"
   },
   "source": [
    "## Some Numeric Feature Engineering"
   ]
  },
  {
   "cell_type": "code",
   "execution_count": 67,
   "metadata": {
    "ExecuteTime": {
     "end_time": "2023-02-03T00:04:58.846347Z",
     "start_time": "2023-02-03T00:04:58.517199Z"
    },
    "colab": {
     "base_uri": "https://localhost:8080/",
     "height": 938
    },
    "executionInfo": {
     "elapsed": 620,
     "status": "ok",
     "timestamp": 1668735027113,
     "user": {
      "displayName": "Josh Johnson",
      "userId": "08606005069848925988"
     },
     "user_tz": 480
    },
    "id": "xjFlm0hdxmYl",
    "outputId": "3ce31157-382a-4dda-ee29-fa0d781658ff"
   },
   "outputs": [
    {
     "name": "stdout",
     "output_type": "stream",
     "text": [
      "\n",
      " year \n",
      "\n"
     ]
    },
    {
     "data": {
      "image/png": "[encoded data removed]",
      "text/plain": [
       "<Figure size 640x480 with 1 Axes>"
      ]
     },
     "metadata": {},
     "output_type": "display_data"
    },
    {
     "name": "stdout",
     "output_type": "stream",
     "text": [
      "\n",
      " price \n",
      "\n"
     ]
    },
    {
     "data": {
      "image/png": "[encoded data removed]",
      "text/plain": [
       "<Figure size 640x480 with 1 Axes>"
      ]
     },
     "metadata": {},
     "output_type": "display_data"
    },
    {
     "name": "stdout",
     "output_type": "stream",
     "text": [
      "\n",
      " distance_travelled(kms) \n",
      "\n"
     ]
    },
    {
     "data": {
      "image/png": "[encoded data removed]",
      "text/plain": [
       "<Figure size 640x480 with 1 Axes>"
      ]
     },
     "metadata": {},
     "output_type": "display_data"
    }
   ],
   "source": [
    "# explore numeric distributions\n",
    "for col in df.select_dtypes('number'):\n",
    "  print('\\n', col, '\\n')\n",
    "  df[col].hist()\n",
    "  plt.show()"
   ]
  },
  {
   "cell_type": "markdown",
   "metadata": {
    "id": "eXBvI1Wgz5kV"
   },
   "source": [
    "### Filter to remove outliers"
   ]
  },
  {
   "cell_type": "code",
   "execution_count": 68,
   "metadata": {
    "ExecuteTime": {
     "end_time": "2023-02-03T00:04:58.861601Z",
     "start_time": "2023-02-03T00:04:58.849311Z"
    },
    "colab": {
     "base_uri": "https://localhost:8080/"
    },
    "executionInfo": {
     "elapsed": 176,
     "status": "ok",
     "timestamp": 1668735105106,
     "user": {
      "displayName": "Josh Johnson",
      "userId": "08606005069848925988"
     },
     "user_tz": 480
    },
    "id": "E7ORaHA9y7Hl",
    "outputId": "abaf1dc1-a86c-4401-d0b8-8b29ea7ea0fd"
   },
   "outputs": [
    {
     "data": {
      "text/plain": [
       "1990      1\n",
       "2004      5\n",
       "2005      5\n",
       "2006      3\n",
       "2007     14\n",
       "2008     22\n",
       "2009     27\n",
       "2010     54\n",
       "2011     77\n",
       "2012    136\n",
       "2013    104\n",
       "2014    138\n",
       "2015    185\n",
       "2016    215\n",
       "2017    228\n",
       "2018    246\n",
       "2019    164\n",
       "2020     80\n",
       "2021     21\n",
       "Name: year, dtype: int64"
      ]
     },
     "execution_count": 68,
     "metadata": {},
     "output_type": "execute_result"
    }
   ],
   "source": [
    "# check year value_counts\n",
    "df['year'].value_counts().sort_index()"
   ]
  },
  {
   "cell_type": "code",
   "execution_count": 69,
   "metadata": {
    "ExecuteTime": {
     "end_time": "2023-02-03T00:04:58.876886Z",
     "start_time": "2023-02-03T00:04:58.863626Z"
    },
    "colab": {
     "base_uri": "https://localhost:8080/"
    },
    "executionInfo": {
     "elapsed": 196,
     "status": "ok",
     "timestamp": 1668735126352,
     "user": {
      "displayName": "Josh Johnson",
      "userId": "08606005069848925988"
     },
     "user_tz": 480
    },
    "id": "mLUQKAPZy_mM",
    "outputId": "d55cdba2-da0c-48c6-fa71-24312a7af648"
   },
   "outputs": [
    {
     "data": {
      "text/plain": [
       "2018    246\n",
       "2017    228\n",
       "2016    215\n",
       "2015    185\n",
       "2019    164\n",
       "2014    138\n",
       "2012    136\n",
       "2013    104\n",
       "2020     80\n",
       "2011     77\n",
       "2010     54\n",
       "2009     27\n",
       "2008     22\n",
       "2021     21\n",
       "2007     14\n",
       "2005      5\n",
       "2004      5\n",
       "2006      3\n",
       "Name: year, dtype: int64"
      ]
     },
     "execution_count": 69,
     "metadata": {},
     "output_type": "execute_result"
    }
   ],
   "source": [
    "# exclude cars made before 2000\n",
    "df = df[df['year'] > 2000]\n",
    "df['year'].value_counts()"
   ]
  },
  {
   "cell_type": "markdown",
   "metadata": {
    "id": "WuhuQ-764ccX"
   },
   "source": [
    "## Convert year to nominal categorical\n",
    "\n",
    "This way, if cars made in certain years are more expensive than those made in other years, the model can see this in a non-linear way."
   ]
  },
  {
   "cell_type": "code",
   "execution_count": 70,
   "metadata": {
    "ExecuteTime": {
     "end_time": "2023-02-03T00:04:58.892701Z",
     "start_time": "2023-02-03T00:04:58.877855Z"
    },
    "executionInfo": {
     "elapsed": 209,
     "status": "ok",
     "timestamp": 1668735136901,
     "user": {
      "displayName": "Josh Johnson",
      "userId": "08606005069848925988"
     },
     "user_tz": 480
    },
    "id": "vcBfM-y_4tTs"
   },
   "outputs": [],
   "source": [
    "# convert year to categorical\n",
    "df['year'] = df['year'].astype('object')"
   ]
  },
  {
   "cell_type": "markdown",
   "metadata": {
    "id": "i4O1jV4Fz9Kk"
   },
   "source": [
    "## Transform to normalize feature"
   ]
  },
  {
   "cell_type": "code",
   "execution_count": 71,
   "metadata": {
    "ExecuteTime": {
     "end_time": "2023-02-03T00:04:59.045765Z",
     "start_time": "2023-02-03T00:04:58.893732Z"
    },
    "colab": {
     "base_uri": "https://localhost:8080/",
     "height": 283
    },
    "executionInfo": {
     "elapsed": 436,
     "status": "ok",
     "timestamp": 1668735176172,
     "user": {
      "displayName": "Josh Johnson",
      "userId": "08606005069848925988"
     },
     "user_tz": 480
    },
    "id": "ePYtyxkR0Fc0",
    "outputId": "2898e769-9ff5-43b4-cd36-61fe75062fcd"
   },
   "outputs": [
    {
     "data": {
      "text/plain": [
       "<AxesSubplot: >"
      ]
     },
     "execution_count": 71,
     "metadata": {},
     "output_type": "execute_result"
    },
    {
     "data": {
      "image/png": "[encoded data removed]",
      "text/plain": [
       "<Figure size 640x480 with 1 Axes>"
      ]
     },
     "metadata": {},
     "output_type": "display_data"
    }
   ],
   "source": [
    "df['distance_travelled(kms)'].hist()"
   ]
  },
  {
   "cell_type": "code",
   "execution_count": 72,
   "metadata": {
    "ExecuteTime": {
     "end_time": "2023-02-03T00:04:59.201064Z",
     "start_time": "2023-02-03T00:04:59.046763Z"
    },
    "colab": {
     "base_uri": "https://localhost:8080/",
     "height": 283
    },
    "executionInfo": {
     "elapsed": 434,
     "status": "ok",
     "timestamp": 1668735219174,
     "user": {
      "displayName": "Josh Johnson",
      "userId": "08606005069848925988"
     },
     "user_tz": 480
    },
    "id": "dlB_eZYdzPst",
    "outputId": "09297771-ef0d-462e-a3f7-ad12ca089370"
   },
   "outputs": [
    {
     "data": {
      "text/plain": [
       "<AxesSubplot: >"
      ]
     },
     "execution_count": 72,
     "metadata": {},
     "output_type": "execute_result"
    },
    {
     "data": {
      "image/png": "[encoded data removed]",
      "text/plain": [
       "<Figure size 640x480 with 1 Axes>"
      ]
     },
     "metadata": {},
     "output_type": "display_data"
    }
   ],
   "source": [
    "# log transform 'distance_travelled(kms)'\n",
    "df['distance_travelled(kms)'] = np.log(df['distance_travelled(kms)'])\n",
    "\n",
    "df['distance_travelled(kms)'].hist()"
   ]
  },
  {
   "cell_type": "markdown",
   "metadata": {
    "id": "KOnbq4EPw6Q0"
   },
   "source": [
    "## Binning the Target: Let's change this regression problem to a binary classification problem"
   ]
  },
  {
   "cell_type": "code",
   "execution_count": 73,
   "metadata": {
    "ExecuteTime": {
     "end_time": "2023-02-03T00:04:59.217085Z",
     "start_time": "2023-02-03T00:04:59.202098Z"
    },
    "colab": {
     "base_uri": "https://localhost:8080/"
    },
    "executionInfo": {
     "elapsed": 190,
     "status": "ok",
     "timestamp": 1668735298593,
     "user": {
      "displayName": "Josh Johnson",
      "userId": "08606005069848925988"
     },
     "user_tz": 480
    },
    "id": "pBY0S2qvt8fy",
    "outputId": "476321f8-d5bd-4899-ad53-f111778f77b4"
   },
   "outputs": [
    {
     "data": {
      "text/plain": [
       "count    1.724000e+03\n",
       "mean     1.495516e+06\n",
       "std      1.671905e+06\n",
       "min      6.250000e+04\n",
       "25%      5.450000e+05\n",
       "50%      8.750000e+05\n",
       "75%      1.825000e+06\n",
       "max      1.470000e+07\n",
       "Name: price, dtype: float64"
      ]
     },
     "execution_count": 73,
     "metadata": {},
     "output_type": "execute_result"
    }
   ],
   "source": [
    "df['price'].describe()"
   ]
  },
  {
   "cell_type": "markdown",
   "metadata": {
    "id": "jIF6FRw4OJpu"
   },
   "source": [
    "### What's wrong with the code below?  How would you fix it?"
   ]
  },
  {
   "cell_type": "code",
   "execution_count": 74,
   "metadata": {
    "ExecuteTime": {
     "end_time": "2023-02-03T00:04:59.326905Z",
     "start_time": "2023-02-03T00:04:59.219109Z"
    },
    "colab": {
     "base_uri": "https://localhost:8080/"
    },
    "executionInfo": {
     "elapsed": 403,
     "status": "ok",
     "timestamp": 1668735453789,
     "user": {
      "displayName": "Josh Johnson",
      "userId": "08606005069848925988"
     },
     "user_tz": 480
    },
    "id": "Cy-C3nZRuPp6",
    "outputId": "f81fd115-c86b-4102-fd15-d7225db3b508"
   },
   "outputs": [
    {
     "data": {
      "text/plain": [
       "0    1202\n",
       "1     522\n",
       "Name: is_expensive, dtype: int64"
      ]
     },
     "execution_count": 74,
     "metadata": {},
     "output_type": "execute_result"
    }
   ],
   "source": [
    "# encode cars with prices above the mean as 1 and below the mean as 0\n",
    "\n",
    "df['is_expensive'] = df['price'].apply(lambda x: 1 if x > df['price'].mean() else 0)\n",
    "df['is_expensive'].value_counts()"
   ]
  },
  {
   "cell_type": "code",
   "execution_count": 75,
   "metadata": {
    "ExecuteTime": {
     "end_time": "2023-02-03T00:04:59.342819Z",
     "start_time": "2023-02-03T00:04:59.327876Z"
    },
    "executionInfo": {
     "elapsed": 303,
     "status": "ok",
     "timestamp": 1668735455274,
     "user": {
      "displayName": "Josh Johnson",
      "userId": "08606005069848925988"
     },
     "user_tz": 480
    },
    "id": "9DqV8sN-Cchw"
   },
   "outputs": [],
   "source": [
    "X = df.drop(columns=['price', 'is_expensive'])\n",
    "y = df['price']\n",
    "\n",
    "X_train, X_test, y_train, y_test =  train_test_split(X, y, random_state=42)"
   ]
  },
  {
   "cell_type": "markdown",
   "metadata": {
    "id": "PHHHkqyHeUbk"
   },
   "source": [
    "# Bin the Target"
   ]
  },
  {
   "cell_type": "code",
   "execution_count": 76,
   "metadata": {
    "ExecuteTime": {
     "end_time": "2023-02-03T00:04:59.358786Z",
     "start_time": "2023-02-03T00:04:59.343821Z"
    },
    "colab": {
     "base_uri": "https://localhost:8080/"
    },
    "executionInfo": {
     "elapsed": 191,
     "status": "ok",
     "timestamp": 1668735463807,
     "user": {
      "displayName": "Josh Johnson",
      "userId": "08606005069848925988"
     },
     "user_tz": 480
    },
    "id": "rzTcnxk1fHmM",
    "outputId": "c3ca57c6-7a7f-4975-b1ab-8115591de000"
   },
   "outputs": [
    {
     "data": {
      "text/plain": [
       "0     425000\n",
       "1     325000\n",
       "2    2650000\n",
       "3    4195000\n",
       "4     475000\n",
       "Name: price, dtype: int64"
      ]
     },
     "execution_count": 76,
     "metadata": {},
     "output_type": "execute_result"
    }
   ],
   "source": [
    "df['price'].head()"
   ]
  },
  {
   "cell_type": "code",
   "execution_count": 77,
   "metadata": {
    "ExecuteTime": {
     "end_time": "2023-02-03T00:04:59.374844Z",
     "start_time": "2023-02-03T00:04:59.359777Z"
    },
    "executionInfo": {
     "elapsed": 175,
     "status": "ok",
     "timestamp": 1668735466463,
     "user": {
      "displayName": "Josh Johnson",
      "userId": "08606005069848925988"
     },
     "user_tz": 480
    },
    "id": "gPmr8yV2eZCM"
   },
   "outputs": [],
   "source": [
    "mean_price = y_train.mean()\n",
    "\n",
    "def bin_price(x):\n",
    "    if x > mean_price:\n",
    "        return 1\n",
    "    else: \n",
    "        return 0\n",
    "\n",
    "y_train = y_train.apply(bin_price)\n",
    "y_test = y_test.apply(bin_price)"
   ]
  },
  {
   "cell_type": "code",
   "execution_count": 78,
   "metadata": {
    "ExecuteTime": {
     "end_time": "2023-02-03T00:04:59.389662Z",
     "start_time": "2023-02-03T00:04:59.376872Z"
    },
    "colab": {
     "base_uri": "https://localhost:8080/"
    },
    "executionInfo": {
     "elapsed": 174,
     "status": "ok",
     "timestamp": 1668735474889,
     "user": {
      "displayName": "Josh Johnson",
      "userId": "08606005069848925988"
     },
     "user_tz": 480
    },
    "id": "15V3WVQ5enJ9",
    "outputId": "bd4872f6-0434-4651-9d7d-0eedae393209"
   },
   "outputs": [
    {
     "data": {
      "text/plain": [
       "0    901\n",
       "1    392\n",
       "Name: price, dtype: int64"
      ]
     },
     "execution_count": 78,
     "metadata": {},
     "output_type": "execute_result"
    }
   ],
   "source": [
    "y_train.value_counts()"
   ]
  },
  {
   "cell_type": "markdown",
   "metadata": {
    "id": "ormf8ndgAhKp"
   },
   "source": [
    "# Base Model"
   ]
  },
  {
   "cell_type": "code",
   "execution_count": 79,
   "metadata": {
    "ExecuteTime": {
     "end_time": "2023-02-03T00:04:59.420088Z",
     "start_time": "2023-02-03T00:04:59.390676Z"
    },
    "colab": {
     "base_uri": "https://localhost:8080/"
    },
    "executionInfo": {
     "elapsed": 407,
     "status": "ok",
     "timestamp": 1668735517711,
     "user": {
      "displayName": "Josh Johnson",
      "userId": "08606005069848925988"
     },
     "user_tz": 480
    },
    "id": "MCAZK3gaAj-4",
    "outputId": "d5eb1e04-07a2-456d-a095-bb95a91adccb"
   },
   "outputs": [
    {
     "data": {
      "text/plain": [
       "(1293, 226)"
      ]
     },
     "execution_count": 79,
     "metadata": {},
     "output_type": "execute_result"
    }
   ],
   "source": [
    "# instantiate transformers\n",
    "scaler = StandardScaler()\n",
    "ohe = OneHotEncoder(sparse=False, handle_unknown='ignore')\n",
    "\n",
    "cat_cols = make_column_selector(dtype_include='object')\n",
    "num_cols = make_column_selector(dtype_include='number')\n",
    "\n",
    "# create preprocessing pipeline\n",
    "base_preprocess = make_column_transformer((ohe, cat_cols), (scaler, num_cols))\n",
    "\n",
    "# Examine the results of all transformers\n",
    "base_preprocess.fit_transform(X_train, y_train).shape"
   ]
  },
  {
   "cell_type": "code",
   "execution_count": 80,
   "metadata": {
    "ExecuteTime": {
     "end_time": "2023-02-03T00:04:59.467988Z",
     "start_time": "2023-02-03T00:04:59.421113Z"
    },
    "executionInfo": {
     "elapsed": 176,
     "status": "ok",
     "timestamp": 1668735604201,
     "user": {
      "displayName": "Josh Johnson",
      "userId": "08606005069848925988"
     },
     "user_tz": 480
    },
    "id": "-62BKMFfAwK4"
   },
   "outputs": [],
   "source": [
    "# Create and evaluate model with a base logistic regression\n",
    "logreg_base = LogisticRegression(max_iter=1000)\n",
    "logreg_base = make_pipeline(base_preprocess, logreg_base)\n",
    "logreg_base.fit(X_train, y_train)\n",
    "\n",
    "train_pred = logreg_base.predict(X_train)\n",
    "test_pred = logreg_base.predict(X_test)"
   ]
  },
  {
   "cell_type": "code",
   "execution_count": 81,
   "metadata": {
    "ExecuteTime": {
     "end_time": "2023-02-03T00:04:59.746243Z",
     "start_time": "2023-02-03T00:04:59.468958Z"
    },
    "colab": {
     "base_uri": "https://localhost:8080/",
     "height": 1000
    },
    "executionInfo": {
     "elapsed": 633,
     "status": "ok",
     "timestamp": 1668735612698,
     "user": {
      "displayName": "Josh Johnson",
      "userId": "08606005069848925988"
     },
     "user_tz": 480
    },
    "id": "BcsdWYzWZhRM",
    "outputId": "566a659b-2dea-4cb0-8639-402c0e1eef4c"
   },
   "outputs": [
    {
     "name": "stdout",
     "output_type": "stream",
     "text": [
      "BaseTrain \n",
      "\n",
      "              precision    recall  f1-score   support\n",
      "\n",
      "           0       0.97      0.98      0.97       901\n",
      "           1       0.95      0.93      0.94       392\n",
      "\n",
      "    accuracy                           0.96      1293\n",
      "   macro avg       0.96      0.95      0.96      1293\n",
      "weighted avg       0.96      0.96      0.96      1293\n",
      "\n"
     ]
    },
    {
     "data": {
      "image/png": "[encoded data removed]",
      "text/plain": [
       "<Figure size 640x480 with 2 Axes>"
      ]
     },
     "metadata": {},
     "output_type": "display_data"
    },
    {
     "name": "stdout",
     "output_type": "stream",
     "text": [
      "BaseTest \n",
      "\n",
      "              precision    recall  f1-score   support\n",
      "\n",
      "           0       0.95      0.97      0.96       300\n",
      "           1       0.92      0.89      0.91       131\n",
      "\n",
      "    accuracy                           0.94       431\n",
      "   macro avg       0.94      0.93      0.93       431\n",
      "weighted avg       0.94      0.94      0.94       431\n",
      "\n"
     ]
    },
    {
     "data": {
      "image/png": "[encoded data removed]",
      "text/plain": [
       "<Figure size 640x480 with 2 Axes>"
      ]
     },
     "metadata": {},
     "output_type": "display_data"
    },
    {
     "data": {
      "text/html": [
       "<div>\n",
       "<style scoped>\n",
       "    .dataframe tbody tr th:only-of-type {\n",
       "        vertical-align: middle;\n",
       "    }\n",
       "\n",
       "    .dataframe tbody tr th {\n",
       "        vertical-align: top;\n",
       "    }\n",
       "\n",
       "    .dataframe thead th {\n",
       "        text-align: right;\n",
       "    }\n",
       "</style>\n",
       "<table border=\"1\" class=\"dataframe\">\n",
       "  <thead>\n",
       "    <tr style=\"text-align: right;\">\n",
       "      <th></th>\n",
       "      <th>Precision</th>\n",
       "      <th>Recall</th>\n",
       "      <th>F1 Score</th>\n",
       "      <th>Accuracy</th>\n",
       "    </tr>\n",
       "    <tr>\n",
       "      <th>Model Name</th>\n",
       "      <th></th>\n",
       "      <th></th>\n",
       "      <th></th>\n",
       "      <th></th>\n",
       "    </tr>\n",
       "  </thead>\n",
       "  <tbody>\n",
       "    <tr>\n",
       "      <th>BaseTrain</th>\n",
       "      <td>0.945596</td>\n",
       "      <td>0.931122</td>\n",
       "      <td>0.938303</td>\n",
       "      <td>0.962877</td>\n",
       "    </tr>\n",
       "    <tr>\n",
       "      <th>BaseTest</th>\n",
       "      <td>0.921260</td>\n",
       "      <td>0.893130</td>\n",
       "      <td>0.906977</td>\n",
       "      <td>0.944316</td>\n",
       "    </tr>\n",
       "  </tbody>\n",
       "</table>\n",
       "</div>"
      ],
      "text/plain": [
       "            Precision    Recall  F1 Score  Accuracy\n",
       "Model Name                                         \n",
       "BaseTrain    0.945596  0.931122  0.938303  0.962877\n",
       "BaseTest     0.921260  0.893130  0.906977  0.944316"
      ]
     },
     "execution_count": 81,
     "metadata": {},
     "output_type": "execute_result"
    }
   ],
   "source": [
    "# evaluate model\n",
    "train_scores = eval_classification(y_train, train_pred, name='BaseTrain')\n",
    "\n",
    "test_scores = eval_classification(y_test, test_pred, name='BaseTest')\n",
    "\n",
    "base_scores = pd.concat([train_scores, test_scores])\n",
    "base_scores"
   ]
  },
  {
   "cell_type": "markdown",
   "metadata": {
    "id": "P4KsHBlGEXl7"
   },
   "source": [
    "# Modeling: PolynomialFeatures"
   ]
  },
  {
   "cell_type": "markdown",
   "metadata": {
    "id": "8IanYLtaPqN2"
   },
   "source": [
    "## Test PolynomialFeatures to see how it changes data\n",
    "\n",
    "We are working here with the entire dataframe to illustrate how the model combines numeric features.  We won't apply the transformers until later."
   ]
  },
  {
   "cell_type": "code",
   "execution_count": 82,
   "metadata": {
    "ExecuteTime": {
     "end_time": "2023-02-03T00:04:59.776710Z",
     "start_time": "2023-02-03T00:04:59.747250Z"
    },
    "colab": {
     "base_uri": "https://localhost:8080/",
     "height": 505
    },
    "executionInfo": {
     "elapsed": 179,
     "status": "ok",
     "timestamp": 1668735727445,
     "user": {
      "displayName": "Josh Johnson",
      "userId": "08606005069848925988"
     },
     "user_tz": 480
    },
    "id": "ZvVh2dF3Ee3N",
    "outputId": "b309a0fa-2592-4c72-f03e-d8d2cde579f0"
   },
   "outputs": [
    {
     "data": {
      "text/html": [
       "<div>\n",
       "<style scoped>\n",
       "    .dataframe tbody tr th:only-of-type {\n",
       "        vertical-align: middle;\n",
       "    }\n",
       "\n",
       "    .dataframe tbody tr th {\n",
       "        vertical-align: top;\n",
       "    }\n",
       "\n",
       "    .dataframe thead th {\n",
       "        text-align: right;\n",
       "    }\n",
       "</style>\n",
       "<table border=\"1\" class=\"dataframe\">\n",
       "  <thead>\n",
       "    <tr style=\"text-align: right;\">\n",
       "      <th></th>\n",
       "      <th>1</th>\n",
       "      <th>price</th>\n",
       "      <th>distance_travelled(kms)</th>\n",
       "      <th>price^2</th>\n",
       "      <th>price distance_travelled(kms)</th>\n",
       "      <th>distance_travelled(kms)^2</th>\n",
       "      <th>price^3</th>\n",
       "      <th>price^2 distance_travelled(kms)</th>\n",
       "      <th>price distance_travelled(kms)^2</th>\n",
       "      <th>distance_travelled(kms)^3</th>\n",
       "    </tr>\n",
       "  </thead>\n",
       "  <tbody>\n",
       "    <tr>\n",
       "      <th>0</th>\n",
       "      <td>1.0</td>\n",
       "      <td>-0.640483</td>\n",
       "      <td>-1.783381</td>\n",
       "      <td>0.410218</td>\n",
       "      <td>1.142225</td>\n",
       "      <td>3.180447</td>\n",
       "      <td>-0.262738</td>\n",
       "      <td>-0.731575</td>\n",
       "      <td>-2.037022</td>\n",
       "      <td>-5.671949</td>\n",
       "    </tr>\n",
       "    <tr>\n",
       "      <th>1</th>\n",
       "      <td>1.0</td>\n",
       "      <td>-0.700312</td>\n",
       "      <td>1.300968</td>\n",
       "      <td>0.490437</td>\n",
       "      <td>-0.911084</td>\n",
       "      <td>1.692518</td>\n",
       "      <td>-0.343459</td>\n",
       "      <td>0.638043</td>\n",
       "      <td>-1.185291</td>\n",
       "      <td>2.201912</td>\n",
       "    </tr>\n",
       "    <tr>\n",
       "      <th>2</th>\n",
       "      <td>1.0</td>\n",
       "      <td>0.690720</td>\n",
       "      <td>0.548917</td>\n",
       "      <td>0.477095</td>\n",
       "      <td>0.379148</td>\n",
       "      <td>0.301310</td>\n",
       "      <td>0.329539</td>\n",
       "      <td>0.261886</td>\n",
       "      <td>0.208121</td>\n",
       "      <td>0.165394</td>\n",
       "    </tr>\n",
       "    <tr>\n",
       "      <th>3</th>\n",
       "      <td>1.0</td>\n",
       "      <td>1.615084</td>\n",
       "      <td>-0.617488</td>\n",
       "      <td>2.608497</td>\n",
       "      <td>-0.997294</td>\n",
       "      <td>0.381291</td>\n",
       "      <td>4.212941</td>\n",
       "      <td>-1.610714</td>\n",
       "      <td>0.615817</td>\n",
       "      <td>-0.235442</td>\n",
       "    </tr>\n",
       "    <tr>\n",
       "      <th>4</th>\n",
       "      <td>1.0</td>\n",
       "      <td>-0.610568</td>\n",
       "      <td>-0.677932</td>\n",
       "      <td>0.372793</td>\n",
       "      <td>0.413924</td>\n",
       "      <td>0.459592</td>\n",
       "      <td>-0.227616</td>\n",
       "      <td>-0.252729</td>\n",
       "      <td>-0.280612</td>\n",
       "      <td>-0.311572</td>\n",
       "    </tr>\n",
       "    <tr>\n",
       "      <th>...</th>\n",
       "      <td>...</td>\n",
       "      <td>...</td>\n",
       "      <td>...</td>\n",
       "      <td>...</td>\n",
       "      <td>...</td>\n",
       "      <td>...</td>\n",
       "      <td>...</td>\n",
       "      <td>...</td>\n",
       "      <td>...</td>\n",
       "      <td>...</td>\n",
       "    </tr>\n",
       "    <tr>\n",
       "      <th>1719</th>\n",
       "      <td>1.0</td>\n",
       "      <td>-0.326379</td>\n",
       "      <td>-2.971471</td>\n",
       "      <td>0.106523</td>\n",
       "      <td>0.969825</td>\n",
       "      <td>8.829637</td>\n",
       "      <td>-0.034767</td>\n",
       "      <td>-0.316530</td>\n",
       "      <td>-2.881806</td>\n",
       "      <td>-26.237006</td>\n",
       "    </tr>\n",
       "    <tr>\n",
       "      <th>1720</th>\n",
       "      <td>1.0</td>\n",
       "      <td>-0.721252</td>\n",
       "      <td>-0.102980</td>\n",
       "      <td>0.520205</td>\n",
       "      <td>0.074275</td>\n",
       "      <td>0.010605</td>\n",
       "      <td>-0.375199</td>\n",
       "      <td>-0.053571</td>\n",
       "      <td>-0.007649</td>\n",
       "      <td>-0.001092</td>\n",
       "    </tr>\n",
       "    <tr>\n",
       "      <th>1721</th>\n",
       "      <td>1.0</td>\n",
       "      <td>3.592444</td>\n",
       "      <td>-0.169418</td>\n",
       "      <td>12.905657</td>\n",
       "      <td>-0.608623</td>\n",
       "      <td>0.028702</td>\n",
       "      <td>46.362857</td>\n",
       "      <td>-2.186446</td>\n",
       "      <td>0.103112</td>\n",
       "      <td>-0.004863</td>\n",
       "    </tr>\n",
       "    <tr>\n",
       "      <th>1722</th>\n",
       "      <td>1.0</td>\n",
       "      <td>-0.784073</td>\n",
       "      <td>1.521370</td>\n",
       "      <td>0.614771</td>\n",
       "      <td>-1.192866</td>\n",
       "      <td>2.314567</td>\n",
       "      <td>-0.482026</td>\n",
       "      <td>0.935294</td>\n",
       "      <td>-1.814790</td>\n",
       "      <td>3.521313</td>\n",
       "    </tr>\n",
       "    <tr>\n",
       "      <th>1723</th>\n",
       "      <td>1.0</td>\n",
       "      <td>-0.060138</td>\n",
       "      <td>-0.352051</td>\n",
       "      <td>0.003617</td>\n",
       "      <td>0.021172</td>\n",
       "      <td>0.123940</td>\n",
       "      <td>-0.000217</td>\n",
       "      <td>-0.001273</td>\n",
       "      <td>-0.007454</td>\n",
       "      <td>-0.043633</td>\n",
       "    </tr>\n",
       "  </tbody>\n",
       "</table>\n",
       "<p>1724 rows × 10 columns</p>\n",
       "</div>"
      ],
      "text/plain": [
       "        1     price  distance_travelled(kms)    price^2  \\\n",
       "0     1.0 -0.640483                -1.783381   0.410218   \n",
       "1     1.0 -0.700312                 1.300968   0.490437   \n",
       "2     1.0  0.690720                 0.548917   0.477095   \n",
       "3     1.0  1.615084                -0.617488   2.608497   \n",
       "4     1.0 -0.610568                -0.677932   0.372793   \n",
       "...   ...       ...                      ...        ...   \n",
       "1719  1.0 -0.326379                -2.971471   0.106523   \n",
       "1720  1.0 -0.721252                -0.102980   0.520205   \n",
       "1721  1.0  3.592444                -0.169418  12.905657   \n",
       "1722  1.0 -0.784073                 1.521370   0.614771   \n",
       "1723  1.0 -0.060138                -0.352051   0.003617   \n",
       "\n",
       "      price distance_travelled(kms)  distance_travelled(kms)^2    price^3  \\\n",
       "0                          1.142225                   3.180447  -0.262738   \n",
       "1                         -0.911084                   1.692518  -0.343459   \n",
       "2                          0.379148                   0.301310   0.329539   \n",
       "3                         -0.997294                   0.381291   4.212941   \n",
       "4                          0.413924                   0.459592  -0.227616   \n",
       "...                             ...                        ...        ...   \n",
       "1719                       0.969825                   8.829637  -0.034767   \n",
       "1720                       0.074275                   0.010605  -0.375199   \n",
       "1721                      -0.608623                   0.028702  46.362857   \n",
       "1722                      -1.192866                   2.314567  -0.482026   \n",
       "1723                       0.021172                   0.123940  -0.000217   \n",
       "\n",
       "      price^2 distance_travelled(kms)  price distance_travelled(kms)^2  \\\n",
       "0                           -0.731575                        -2.037022   \n",
       "1                            0.638043                        -1.185291   \n",
       "2                            0.261886                         0.208121   \n",
       "3                           -1.610714                         0.615817   \n",
       "4                           -0.252729                        -0.280612   \n",
       "...                               ...                              ...   \n",
       "1719                        -0.316530                        -2.881806   \n",
       "1720                        -0.053571                        -0.007649   \n",
       "1721                        -2.186446                         0.103112   \n",
       "1722                         0.935294                        -1.814790   \n",
       "1723                        -0.001273                        -0.007454   \n",
       "\n",
       "      distance_travelled(kms)^3  \n",
       "0                     -5.671949  \n",
       "1                      2.201912  \n",
       "2                      0.165394  \n",
       "3                     -0.235442  \n",
       "4                     -0.311572  \n",
       "...                         ...  \n",
       "1719                 -26.237006  \n",
       "1720                  -0.001092  \n",
       "1721                  -0.004863  \n",
       "1722                   3.521313  \n",
       "1723                  -0.043633  \n",
       "\n",
       "[1724 rows x 10 columns]"
      ]
     },
     "execution_count": 82,
     "metadata": {},
     "output_type": "execute_result"
    }
   ],
   "source": [
    "# Scale the data\n",
    "df_scaled = pd.DataFrame(scaler.fit_transform(df[['price','distance_travelled(kms)']]), \n",
    "                            columns=df[['price','distance_travelled(kms)']].columns)\n",
    "\n",
    "# Create polynomial features\n",
    "poly = PolynomialFeatures(degree=3)\n",
    "\n",
    "poly_train = poly.fit_transform(df_scaled)\n",
    "poly_train = pd.DataFrame(poly_train, columns=poly.get_feature_names_out())\n",
    "\n",
    "poly_train"
   ]
  },
  {
   "cell_type": "code",
   "execution_count": 83,
   "metadata": {
    "ExecuteTime": {
     "end_time": "2023-02-03T00:04:59.917610Z",
     "start_time": "2023-02-03T00:04:59.777709Z"
    },
    "colab": {
     "base_uri": "https://localhost:8080/",
     "height": 283
    },
    "executionInfo": {
     "elapsed": 594,
     "status": "ok",
     "timestamp": 1668735731834,
     "user": {
      "displayName": "Josh Johnson",
      "userId": "08606005069848925988"
     },
     "user_tz": 480
    },
    "id": "cB4pSBRhEl98",
    "outputId": "e140377f-74cc-4efd-dd2e-cfcba9cd7244",
    "scrolled": true
   },
   "outputs": [
    {
     "data": {
      "text/plain": [
       "<matplotlib.collections.PathCollection at 0x202d0bb3dc0>"
      ]
     },
     "execution_count": 83,
     "metadata": {},
     "output_type": "execute_result"
    },
    {
     "data": {
      "image/png": "[encoded data removed]",
      "text/plain": [
       "<Figure size 640x480 with 1 Axes>"
      ]
     },
     "metadata": {},
     "output_type": "display_data"
    }
   ],
   "source": [
    "# Plot distance vs distance^2\n",
    "plt.scatter(data=poly_train, x='distance_travelled(kms)', y='distance_travelled(kms)^2')"
   ]
  },
  {
   "cell_type": "code",
   "execution_count": 84,
   "metadata": {
    "ExecuteTime": {
     "end_time": "2023-02-03T00:05:00.106163Z",
     "start_time": "2023-02-03T00:04:59.918668Z"
    },
    "colab": {
     "base_uri": "https://localhost:8080/",
     "height": 283
    },
    "executionInfo": {
     "elapsed": 411,
     "status": "ok",
     "timestamp": 1668735734445,
     "user": {
      "displayName": "Josh Johnson",
      "userId": "08606005069848925988"
     },
     "user_tz": 480
    },
    "id": "NoeC8b-WcsLc",
    "outputId": "9f19f01e-c654-475d-8822-27dcc54511c7"
   },
   "outputs": [
    {
     "data": {
      "text/plain": [
       "<matplotlib.collections.PathCollection at 0x202d0aeb130>"
      ]
     },
     "execution_count": 84,
     "metadata": {},
     "output_type": "execute_result"
    },
    {
     "data": {
      "image/png": "[encoded data removed]",
      "text/plain": [
       "<Figure size 640x480 with 1 Axes>"
      ]
     },
     "metadata": {},
     "output_type": "display_data"
    }
   ],
   "source": [
    "# Plot distance vs distance^2\n",
    "plt.scatter(data=poly_train, x='distance_travelled(kms)', y='distance_travelled(kms)^3')"
   ]
  },
  {
   "cell_type": "markdown",
   "metadata": {
    "id": "wU0OaqwyQMPH"
   },
   "source": [
    "## Model with PolynomialFeatures"
   ]
  },
  {
   "cell_type": "code",
   "execution_count": 93,
   "metadata": {
    "ExecuteTime": {
     "end_time": "2023-02-03T00:05:33.074531Z",
     "start_time": "2023-02-03T00:05:33.054585Z"
    },
    "colab": {
     "base_uri": "https://localhost:8080/"
    },
    "executionInfo": {
     "elapsed": 174,
     "status": "ok",
     "timestamp": 1668735916097,
     "user": {
      "displayName": "Josh Johnson",
      "userId": "08606005069848925988"
     },
     "user_tz": 480
    },
    "id": "rW7l9sHaFTCc",
    "outputId": "a06097b4-dbba-49b6-962c-c795522870d5"
   },
   "outputs": [
    {
     "name": "stdout",
     "output_type": "stream",
     "text": [
      "Shape before processing: (1293, 6)\n",
      "Shape after processing: (1293, 228)\n"
     ]
    }
   ],
   "source": [
    "# instantiate transformers\n",
    "scaler = StandardScaler()\n",
    "ohe = OneHotEncoder(sparse=False, handle_unknown='ignore')\n",
    "# Instantiate the PolynomialFeatures transformer\n",
    "poly = PolynomialFeatures(degree=2)\n",
    "\n",
    "cat_cols = make_column_selector(dtype_include='object')\n",
    "num_cols = make_column_selector(dtype_include='number')\n",
    "\n",
    "# Add the PolynomialFeatures transformer to the numeric pipeline\n",
    "num_pipe = make_pipeline(scaler, poly)\n",
    "\n",
    "# create preprocessing pipeline\n",
    "preprocess = make_column_transformer((ohe, cat_cols), (num_pipe, num_cols))\n",
    "\n",
    "# Examine the results of all transformers\n",
    "print(f\"Shape before processing: {X_train.shape}\")\n",
    "print(f\"Shape after processing: \\\n",
    "{preprocess.fit_transform(X_train, y_train).shape}\")"
   ]
  },
  {
   "cell_type": "code",
   "execution_count": 94,
   "metadata": {
    "ExecuteTime": {
     "end_time": "2023-02-03T00:05:33.143319Z",
     "start_time": "2023-02-03T00:05:33.076526Z"
    },
    "executionInfo": {
     "elapsed": 3498,
     "status": "ok",
     "timestamp": 1668735902638,
     "user": {
      "displayName": "Josh Johnson",
      "userId": "08606005069848925988"
     },
     "user_tz": 480
    },
    "id": "w9vm7yTXHYfd"
   },
   "outputs": [],
   "source": [
    "# Create and evaluate model with PolynomialFeatures\n",
    "poly_logreg = LogisticRegression(max_iter=1000)\n",
    "poly_logreg_pipe = make_pipeline(preprocess, poly_logreg)\n",
    "poly_logreg_pipe.fit(X_train, y_train)\n",
    "\n",
    "train_pred = poly_logreg_pipe.predict(X_train)\n",
    "test_pred = poly_logreg_pipe.predict(X_test)"
   ]
  },
  {
   "cell_type": "code",
   "execution_count": 95,
   "metadata": {
    "ExecuteTime": {
     "end_time": "2023-02-03T00:05:33.445469Z",
     "start_time": "2023-02-03T00:05:33.143650Z"
    },
    "colab": {
     "base_uri": "https://localhost:8080/",
     "height": 1000
    },
    "executionInfo": {
     "elapsed": 1127,
     "status": "ok",
     "timestamp": 1668735903762,
     "user": {
      "displayName": "Josh Johnson",
      "userId": "08606005069848925988"
     },
     "user_tz": 480
    },
    "id": "sys6lk9cZbc2",
    "outputId": "4ddb01a8-f235-4eec-9d73-be0c2baa1577"
   },
   "outputs": [
    {
     "name": "stdout",
     "output_type": "stream",
     "text": [
      "PolyTrain \n",
      "\n",
      "              precision    recall  f1-score   support\n",
      "\n",
      "           0       0.97      0.98      0.97       901\n",
      "           1       0.95      0.93      0.94       392\n",
      "\n",
      "    accuracy                           0.96      1293\n",
      "   macro avg       0.96      0.96      0.96      1293\n",
      "weighted avg       0.96      0.96      0.96      1293\n",
      "\n"
     ]
    },
    {
     "data": {
      "image/png": "[encoded data removed]",
      "text/plain": [
       "<Figure size 640x480 with 2 Axes>"
      ]
     },
     "metadata": {},
     "output_type": "display_data"
    },
    {
     "name": "stdout",
     "output_type": "stream",
     "text": [
      "PolyTest \n",
      "\n",
      "              precision    recall  f1-score   support\n",
      "\n",
      "           0       0.96      0.97      0.96       300\n",
      "           1       0.92      0.90      0.91       131\n",
      "\n",
      "    accuracy                           0.95       431\n",
      "   macro avg       0.94      0.93      0.94       431\n",
      "weighted avg       0.95      0.95      0.95       431\n",
      "\n"
     ]
    },
    {
     "data": {
      "image/png": "[encoded data removed]",
      "text/plain": [
       "<Figure size 640x480 with 2 Axes>"
      ]
     },
     "metadata": {},
     "output_type": "display_data"
    },
    {
     "data": {
      "text/html": [
       "<div>\n",
       "<style scoped>\n",
       "    .dataframe tbody tr th:only-of-type {\n",
       "        vertical-align: middle;\n",
       "    }\n",
       "\n",
       "    .dataframe tbody tr th {\n",
       "        vertical-align: top;\n",
       "    }\n",
       "\n",
       "    .dataframe thead th {\n",
       "        text-align: right;\n",
       "    }\n",
       "</style>\n",
       "<table border=\"1\" class=\"dataframe\">\n",
       "  <thead>\n",
       "    <tr style=\"text-align: right;\">\n",
       "      <th></th>\n",
       "      <th>Precision</th>\n",
       "      <th>Recall</th>\n",
       "      <th>F1 Score</th>\n",
       "      <th>Accuracy</th>\n",
       "    </tr>\n",
       "    <tr>\n",
       "      <th>Model Name</th>\n",
       "      <th></th>\n",
       "      <th></th>\n",
       "      <th></th>\n",
       "      <th></th>\n",
       "    </tr>\n",
       "  </thead>\n",
       "  <tbody>\n",
       "    <tr>\n",
       "      <th>PolyTrain</th>\n",
       "      <td>0.945736</td>\n",
       "      <td>0.933673</td>\n",
       "      <td>0.939666</td>\n",
       "      <td>0.963650</td>\n",
       "    </tr>\n",
       "    <tr>\n",
       "      <th>PolyTest</th>\n",
       "      <td>0.921875</td>\n",
       "      <td>0.900763</td>\n",
       "      <td>0.911197</td>\n",
       "      <td>0.946636</td>\n",
       "    </tr>\n",
       "  </tbody>\n",
       "</table>\n",
       "</div>"
      ],
      "text/plain": [
       "            Precision    Recall  F1 Score  Accuracy\n",
       "Model Name                                         \n",
       "PolyTrain    0.945736  0.933673  0.939666  0.963650\n",
       "PolyTest     0.921875  0.900763  0.911197  0.946636"
      ]
     },
     "execution_count": 95,
     "metadata": {},
     "output_type": "execute_result"
    }
   ],
   "source": [
    "# evaluate model\n",
    "train_scores = eval_classification(y_train, train_pred, name='PolyTrain')\n",
    "\n",
    "test_scores = eval_classification(y_test, test_pred, name='PolyTest')\n",
    "\n",
    "poly_scores = pd.concat([train_scores, test_scores])\n",
    "poly_scores"
   ]
  },
  {
   "cell_type": "markdown",
   "metadata": {},
   "source": [
    "## Compare base and polynomial model scores"
   ]
  },
  {
   "cell_type": "code",
   "execution_count": 96,
   "metadata": {
    "ExecuteTime": {
     "end_time": "2023-02-03T00:05:33.461568Z",
     "start_time": "2023-02-03T00:05:33.447464Z"
    },
    "scrolled": false
   },
   "outputs": [
    {
     "data": {
      "text/html": [
       "<div>\n",
       "<style scoped>\n",
       "    .dataframe tbody tr th:only-of-type {\n",
       "        vertical-align: middle;\n",
       "    }\n",
       "\n",
       "    .dataframe tbody tr th {\n",
       "        vertical-align: top;\n",
       "    }\n",
       "\n",
       "    .dataframe thead th {\n",
       "        text-align: right;\n",
       "    }\n",
       "</style>\n",
       "<table border=\"1\" class=\"dataframe\">\n",
       "  <thead>\n",
       "    <tr style=\"text-align: right;\">\n",
       "      <th></th>\n",
       "      <th>Precision</th>\n",
       "      <th>Recall</th>\n",
       "      <th>F1 Score</th>\n",
       "      <th>Accuracy</th>\n",
       "    </tr>\n",
       "    <tr>\n",
       "      <th>Model Name</th>\n",
       "      <th></th>\n",
       "      <th></th>\n",
       "      <th></th>\n",
       "      <th></th>\n",
       "    </tr>\n",
       "  </thead>\n",
       "  <tbody>\n",
       "    <tr>\n",
       "      <th>BaseTrain</th>\n",
       "      <td>0.945596</td>\n",
       "      <td>0.931122</td>\n",
       "      <td>0.938303</td>\n",
       "      <td>0.962877</td>\n",
       "    </tr>\n",
       "    <tr>\n",
       "      <th>BaseTest</th>\n",
       "      <td>0.921260</td>\n",
       "      <td>0.893130</td>\n",
       "      <td>0.906977</td>\n",
       "      <td>0.944316</td>\n",
       "    </tr>\n",
       "    <tr>\n",
       "      <th>PolyTrain</th>\n",
       "      <td>0.945736</td>\n",
       "      <td>0.933673</td>\n",
       "      <td>0.939666</td>\n",
       "      <td>0.963650</td>\n",
       "    </tr>\n",
       "    <tr>\n",
       "      <th>PolyTest</th>\n",
       "      <td>0.921875</td>\n",
       "      <td>0.900763</td>\n",
       "      <td>0.911197</td>\n",
       "      <td>0.946636</td>\n",
       "    </tr>\n",
       "  </tbody>\n",
       "</table>\n",
       "</div>"
      ],
      "text/plain": [
       "            Precision    Recall  F1 Score  Accuracy\n",
       "Model Name                                         \n",
       "BaseTrain    0.945596  0.931122  0.938303  0.962877\n",
       "BaseTest     0.921260  0.893130  0.906977  0.944316\n",
       "PolyTrain    0.945736  0.933673  0.939666  0.963650\n",
       "PolyTest     0.921875  0.900763  0.911197  0.946636"
      ]
     },
     "execution_count": 96,
     "metadata": {},
     "output_type": "execute_result"
    }
   ],
   "source": [
    "pd.concat([base_scores, poly_scores])"
   ]
  },
  {
   "cell_type": "markdown",
   "metadata": {
    "id": "GT5-ExP6Miae"
   },
   "source": [
    "## What if we change the degree?"
   ]
  },
  {
   "cell_type": "code",
   "execution_count": null,
   "metadata": {
    "executionInfo": {
     "elapsed": 5,
     "status": "ok",
     "timestamp": 1668735903763,
     "user": {
      "displayName": "Josh Johnson",
      "userId": "08606005069848925988"
     },
     "user_tz": 480
    },
    "id": "dHIwZusbH2i-"
   },
   "outputs": [],
   "source": []
  }
 ],
 "metadata": {
  "colab": {
   "authorship_tag": "ABX9TyMzLe+q8ocz2qzOeu7MZJ8M",
   "provenance": []
  },
  "kernelspec": {
   "display_name": "Python 3 (ipykernel)",
   "language": "python",
   "name": "python3"
  },
  "language_info": {
   "codemirror_mode": {
    "name": "ipython",
    "version": 3
   },
   "file_extension": ".py",
   "mimetype": "text/x-python",
   "name": "python",
   "nbconvert_exporter": "python",
   "pygments_lexer": "ipython3",
   "version": "3.9.15"
  },
  "toc": {
   "base_numbering": 1,
   "nav_menu": {},
   "number_sections": false,
   "sideBar": true,
   "skip_h1_title": false,
   "title_cell": "Table of Contents",
   "title_sidebar": "Contents",
   "toc_cell": false,
   "toc_position": {
    "height": "calc(100% - 180px)",
    "left": "10px",
    "top": "150px",
    "width": "261.616px"
   },
   "toc_section_display": true,
   "toc_window_display": false
  }
 },
 "nbformat": 4,
 "nbformat_minor": 1
}
