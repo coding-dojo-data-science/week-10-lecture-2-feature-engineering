{
 "cells": [
  {
   "cell_type": "markdown",
   "metadata": {
    "id": "Lmp3JoP2nQzp"
   },
   "source": [
    "# Feature Engineering Code-Along\n",
    "\n",
    "<a href=\"https://colab.research.google.com/github/coding-dojo-data-science/week-10-lecture-2-feature-engineering/blob/11-7-22/Feature%20Engineering%20Code-along.ipynb\" target=\"_parent\"><img src=\"https://colab.research.google.com/assets/colab-badge.svg\" alt=\"Open In Colab\"/></a>\n",
    "\n",
    "In this notebook we use the following feature engineering strategies:\n",
    "1. scaling\n",
    "2. binning\n",
    "3. removing outliers\n",
    "4. log transformation\n",
    "5. target encoding\n",
    "6. polynomial features"
   ]
  },
  {
   "cell_type": "code",
   "execution_count": null,
   "metadata": {
    "executionInfo": {
     "elapsed": 1171,
     "status": "ok",
     "timestamp": 1668734845596,
     "user": {
      "displayName": "Josh Johnson",
      "userId": "08606005069848925988"
     },
     "user_tz": 480
    },
    "id": "fu6bkefYnK-j"
   },
   "outputs": [],
   "source": [
    "# Imports\n",
    "import pandas as pd\n",
    "import numpy as np\n",
    "import matplotlib.pyplot as plt\n",
    "import seaborn as sns\n",
    "\n",
    "from sklearn.model_selection import train_test_split\n",
    "from sklearn.linear_model import LogisticRegression, LinearRegression\n",
    "from sklearn.preprocessing import PolynomialFeatures, StandardScaler, OneHotEncoder\n",
    "from sklearn.compose import make_column_transformer, make_column_selector\n",
    "from sklearn.pipeline import make_pipeline\n",
    "from sklearn.metrics import mean_absolute_error, r2_score, mean_squared_error, \\\n",
    "precision_score, recall_score, accuracy_score, f1_score, ConfusionMatrixDisplay, \\\n",
    "classification_report\n",
    "\n",
    "import warnings\n",
    "warnings.filterwarnings('ignore')"
   ]
  },
  {
   "cell_type": "markdown",
   "metadata": {
    "id": "3CB3xgtyXzGt"
   },
   "source": [
    "# Useful Functions"
   ]
  },
  {
   "cell_type": "code",
   "execution_count": null,
   "metadata": {
    "executionInfo": {
     "elapsed": 218,
     "status": "ok",
     "timestamp": 1668734882041,
     "user": {
      "displayName": "Josh Johnson",
      "userId": "08606005069848925988"
     },
     "user_tz": 480
    },
    "id": "7DVFP_utXyaF"
   },
   "outputs": [],
   "source": [
    "def eval_regression(true, pred, name='Model'):\n",
    "    \"\"\"Evaluates true and predicted values from a regression model.  \n",
    "    Outputs a dataframe of metrics\"\"\"\n",
    "    scores = pd.DataFrame()\n",
    "    scores['Model Name'] = [name]\n",
    "    scores['RMSE'] = [np.sqrt(mean_squared_error(true, pred))]\n",
    "    scores['MAE'] = [mean_absolute_error(true, pred)]\n",
    "    scores['R2'] = [r2_score(true, pred)]\n",
    "    scores.set_index('Model Name', inplace=True)\n",
    "\n",
    "    return scores\n",
    "\n",
    "def eval_classification(true, pred, name='Model'):\n",
    "    \"\"\"shows classification_report and confusion matrix\n",
    "    for classification model predictions.  Outputs a dataframe of metrics\"\"\"\n",
    "  \n",
    "    print(name, '\\n')\n",
    "    print(classification_report(true, pred))\n",
    "    ConfusionMatrixDisplay.from_predictions(true, pred)\n",
    "    plt.show()\n",
    "\n",
    "    scores = pd.DataFrame()\n",
    "    scores['Model Name'] = [name]\n",
    "    scores['Precision'] = [precision_score(true, pred)]\n",
    "    scores['Recall'] = [recall_score(true, pred)]\n",
    "    scores['F1 Score'] = [f1_score(true, pred)]\n",
    "    scores['Accuracy'] = [accuracy_score(true, pred)]\n",
    "    scores.set_index('Model Name', inplace=True)\n",
    "\n",
    "    return scores"
   ]
  },
  {
   "cell_type": "markdown",
   "metadata": {
    "id": "TdIxE4xgNU3m"
   },
   "source": [
    "## Data\n",
    "\n",
    "Today we will use data about used car sales in India from Kaggle.  [Here is the source](https://www.kaggle.com/datasets/saisaathvik/used-cars-dataset-from-cardekhocom)"
   ]
  },
  {
   "cell_type": "code",
   "execution_count": null,
   "metadata": {
    "colab": {
     "base_uri": "https://localhost:8080/",
     "height": 224
    },
    "executionInfo": {
     "elapsed": 1318,
     "status": "ok",
     "timestamp": 1668734885834,
     "user": {
      "displayName": "Josh Johnson",
      "userId": "08606005069848925988"
     },
     "user_tz": 480
    },
    "id": "FJb74mnanWAY",
    "outputId": "589733aa-2438-438a-fc20-734e3dc145c1"
   },
   "outputs": [],
   "source": [
    "# load data\n",
    "df = pd.read_csv('https://docs.google.com/spreadsheets/d/e/2PACX-1vTeFV8-y5rNxCM946otPPyTF5UZ5rIOTOHrXCYU5zkqB7DubjxGKGzaxVayeLdU0wcCqLMrhjUbgkEp/pub?gid=1641648108&single=true&output=csv')\n",
    "df_backup = df.copy()\n",
    "\n",
    "display(df.head())\n",
    "print(df.shape)"
   ]
  },
  {
   "cell_type": "markdown",
   "metadata": {
    "id": "j5Ep8q1T02el"
   },
   "source": [
    "## Explore and clean the data"
   ]
  },
  {
   "cell_type": "code",
   "execution_count": null,
   "metadata": {
    "colab": {
     "base_uri": "https://localhost:8080/",
     "height": 206
    },
    "executionInfo": {
     "elapsed": 185,
     "status": "ok",
     "timestamp": 1668734899022,
     "user": {
      "displayName": "Josh Johnson",
      "userId": "08606005069848925988"
     },
     "user_tz": 480
    },
    "id": "BgdiEEY_vTJz",
    "outputId": "59bbd04c-970d-4461-b2e2-cd7ffa91fa86"
   },
   "outputs": [],
   "source": [
    "# drop 'Id' column\n",
    "df.drop(columns='Id', inplace=True)\n",
    "df.head()"
   ]
  },
  {
   "cell_type": "code",
   "execution_count": null,
   "metadata": {
    "colab": {
     "base_uri": "https://localhost:8080/"
    },
    "executionInfo": {
     "elapsed": 245,
     "status": "ok",
     "timestamp": 1668734903886,
     "user": {
      "displayName": "Josh Johnson",
      "userId": "08606005069848925988"
     },
     "user_tz": 480
    },
    "id": "jpf0LSXexRPy",
    "outputId": "6ce7af54-b64a-4937-980f-79937349bae1"
   },
   "outputs": [],
   "source": [
    "# check for duplicates\n",
    "df.duplicated().sum()"
   ]
  },
  {
   "cell_type": "code",
   "execution_count": null,
   "metadata": {
    "colab": {
     "base_uri": "https://localhost:8080/"
    },
    "executionInfo": {
     "elapsed": 207,
     "status": "ok",
     "timestamp": 1668734907162,
     "user": {
      "displayName": "Josh Johnson",
      "userId": "08606005069848925988"
     },
     "user_tz": 480
    },
    "id": "l9ekzc7txTez",
    "outputId": "f459be2e-d431-47c0-a715-942666b27e03"
   },
   "outputs": [],
   "source": [
    "# remove duplicates\n",
    "df.drop_duplicates(inplace=True)\n",
    "df.duplicated().sum()"
   ]
  },
  {
   "cell_type": "code",
   "execution_count": null,
   "metadata": {
    "colab": {
     "base_uri": "https://localhost:8080/"
    },
    "executionInfo": {
     "elapsed": 200,
     "status": "ok",
     "timestamp": 1668734909728,
     "user": {
      "displayName": "Josh Johnson",
      "userId": "08606005069848925988"
     },
     "user_tz": 480
    },
    "id": "VjksV-Zn0gbl",
    "outputId": "ab0684e5-ee57-42c6-9149-34951ccf396a"
   },
   "outputs": [],
   "source": [
    "# check for missing values\n",
    "df.isna().sum()"
   ]
  },
  {
   "cell_type": "code",
   "execution_count": null,
   "metadata": {
    "colab": {
     "base_uri": "https://localhost:8080/",
     "height": 394
    },
    "executionInfo": {
     "elapsed": 177,
     "status": "ok",
     "timestamp": 1668734928390,
     "user": {
      "displayName": "Josh Johnson",
      "userId": "08606005069848925988"
     },
     "user_tz": 480
    },
    "id": "mPLcxeYt0jMd",
    "outputId": "9d7ba155-8826-474a-8c83-8785805dbaa0"
   },
   "outputs": [],
   "source": [
    "# check ALL summary statistics\n"
   ]
  },
  {
   "cell_type": "markdown",
   "metadata": {
    "id": "b5mB-62ixhOE"
   },
   "source": [
    "## Some Numeric Feature Engineering"
   ]
  },
  {
   "cell_type": "code",
   "execution_count": null,
   "metadata": {
    "colab": {
     "base_uri": "https://localhost:8080/",
     "height": 938
    },
    "executionInfo": {
     "elapsed": 620,
     "status": "ok",
     "timestamp": 1668735027113,
     "user": {
      "displayName": "Josh Johnson",
      "userId": "08606005069848925988"
     },
     "user_tz": 480
    },
    "id": "xjFlm0hdxmYl",
    "outputId": "3ce31157-382a-4dda-ee29-fa0d781658ff"
   },
   "outputs": [],
   "source": [
    "# explore numeric distributions\n"
   ]
  },
  {
   "cell_type": "markdown",
   "metadata": {
    "id": "eXBvI1Wgz5kV"
   },
   "source": [
    "### Filter to remove outliers"
   ]
  },
  {
   "cell_type": "code",
   "execution_count": null,
   "metadata": {
    "colab": {
     "base_uri": "https://localhost:8080/"
    },
    "executionInfo": {
     "elapsed": 176,
     "status": "ok",
     "timestamp": 1668735105106,
     "user": {
      "displayName": "Josh Johnson",
      "userId": "08606005069848925988"
     },
     "user_tz": 480
    },
    "id": "E7ORaHA9y7Hl",
    "outputId": "abaf1dc1-a86c-4401-d0b8-8b29ea7ea0fd"
   },
   "outputs": [],
   "source": [
    "# check year value_counts"
   ]
  },
  {
   "cell_type": "code",
   "execution_count": null,
   "metadata": {
    "colab": {
     "base_uri": "https://localhost:8080/"
    },
    "executionInfo": {
     "elapsed": 196,
     "status": "ok",
     "timestamp": 1668735126352,
     "user": {
      "displayName": "Josh Johnson",
      "userId": "08606005069848925988"
     },
     "user_tz": 480
    },
    "id": "mLUQKAPZy_mM",
    "outputId": "d55cdba2-da0c-48c6-fa71-24312a7af648"
   },
   "outputs": [],
   "source": [
    "# exclude cars made before 2000\n"
   ]
  },
  {
   "cell_type": "markdown",
   "metadata": {
    "id": "WuhuQ-764ccX"
   },
   "source": [
    "## Convert year to nominal categorical\n",
    "\n",
    "This way, if cars made in certain years are more expensive than those made in other years, the model can see this in a non-linear way."
   ]
  },
  {
   "cell_type": "code",
   "execution_count": null,
   "metadata": {
    "executionInfo": {
     "elapsed": 209,
     "status": "ok",
     "timestamp": 1668735136901,
     "user": {
      "displayName": "Josh Johnson",
      "userId": "08606005069848925988"
     },
     "user_tz": 480
    },
    "id": "vcBfM-y_4tTs"
   },
   "outputs": [],
   "source": [
    "# convert year to categorical\n"
   ]
  },
  {
   "cell_type": "markdown",
   "metadata": {
    "id": "i4O1jV4Fz9Kk"
   },
   "source": [
    "## Transform to normalize feature"
   ]
  },
  {
   "cell_type": "code",
   "execution_count": null,
   "metadata": {
    "colab": {
     "base_uri": "https://localhost:8080/",
     "height": 283
    },
    "executionInfo": {
     "elapsed": 436,
     "status": "ok",
     "timestamp": 1668735176172,
     "user": {
      "displayName": "Josh Johnson",
      "userId": "08606005069848925988"
     },
     "user_tz": 480
    },
    "id": "ePYtyxkR0Fc0",
    "outputId": "2898e769-9ff5-43b4-cd36-61fe75062fcd"
   },
   "outputs": [],
   "source": [
    "# Check the histogram for 'distance_travelled(kms)'\n"
   ]
  },
  {
   "cell_type": "code",
   "execution_count": null,
   "metadata": {
    "colab": {
     "base_uri": "https://localhost:8080/",
     "height": 283
    },
    "executionInfo": {
     "elapsed": 434,
     "status": "ok",
     "timestamp": 1668735219174,
     "user": {
      "displayName": "Josh Johnson",
      "userId": "08606005069848925988"
     },
     "user_tz": 480
    },
    "id": "dlB_eZYdzPst",
    "outputId": "09297771-ef0d-462e-a3f7-ad12ca089370"
   },
   "outputs": [],
   "source": [
    "# log transform 'distance_travelled(kms)'\n"
   ]
  },
  {
   "cell_type": "markdown",
   "metadata": {
    "id": "KOnbq4EPw6Q0"
   },
   "source": [
    "## Binning the Target: Let's change this regression problem to a binary classification problem"
   ]
  },
  {
   "cell_type": "code",
   "execution_count": null,
   "metadata": {
    "colab": {
     "base_uri": "https://localhost:8080/"
    },
    "executionInfo": {
     "elapsed": 190,
     "status": "ok",
     "timestamp": 1668735298593,
     "user": {
      "displayName": "Josh Johnson",
      "userId": "08606005069848925988"
     },
     "user_tz": 480
    },
    "id": "pBY0S2qvt8fy",
    "outputId": "476321f8-d5bd-4899-ad53-f111778f77b4"
   },
   "outputs": [],
   "source": [
    "# explore statistics of price with .describe()\n"
   ]
  },
  {
   "cell_type": "markdown",
   "metadata": {
    "id": "jIF6FRw4OJpu"
   },
   "source": [
    "#### What's wrong with the code below?  How would you fix it?"
   ]
  },
  {
   "cell_type": "code",
   "execution_count": null,
   "metadata": {
    "colab": {
     "base_uri": "https://localhost:8080/"
    },
    "executionInfo": {
     "elapsed": 403,
     "status": "ok",
     "timestamp": 1668735453789,
     "user": {
      "displayName": "Josh Johnson",
      "userId": "08606005069848925988"
     },
     "user_tz": 480
    },
    "id": "Cy-C3nZRuPp6",
    "outputId": "f81fd115-c86b-4102-fd15-d7225db3b508"
   },
   "outputs": [],
   "source": [
    "# encode cars with prices above the mean as 1 and below the mean as 0\n",
    "\n"
   ]
  },
  {
   "cell_type": "code",
   "execution_count": null,
   "metadata": {
    "executionInfo": {
     "elapsed": 303,
     "status": "ok",
     "timestamp": 1668735455274,
     "user": {
      "displayName": "Josh Johnson",
      "userId": "08606005069848925988"
     },
     "user_tz": 480
    },
    "id": "9DqV8sN-Cchw"
   },
   "outputs": [],
   "source": [
    "X = df.drop(columns=['price', 'is_expensive'])\n",
    "y = df['price']\n",
    "\n",
    "X_train, X_test, y_train, y_test =  train_test_split(X, y, random_state=42)"
   ]
  },
  {
   "cell_type": "markdown",
   "metadata": {
    "id": "PHHHkqyHeUbk"
   },
   "source": [
    "# Bin the Target"
   ]
  },
  {
   "cell_type": "code",
   "execution_count": null,
   "metadata": {
    "colab": {
     "base_uri": "https://localhost:8080/"
    },
    "executionInfo": {
     "elapsed": 191,
     "status": "ok",
     "timestamp": 1668735463807,
     "user": {
      "displayName": "Josh Johnson",
      "userId": "08606005069848925988"
     },
     "user_tz": 480
    },
    "id": "rzTcnxk1fHmM",
    "outputId": "c3ca57c6-7a7f-4975-b1ab-8115591de000"
   },
   "outputs": [],
   "source": [
    "df['price'].head()"
   ]
  },
  {
   "cell_type": "code",
   "execution_count": null,
   "metadata": {
    "executionInfo": {
     "elapsed": 175,
     "status": "ok",
     "timestamp": 1668735466463,
     "user": {
      "displayName": "Josh Johnson",
      "userId": "08606005069848925988"
     },
     "user_tz": 480
    },
    "id": "gPmr8yV2eZCM"
   },
   "outputs": [],
   "source": [
    "# Bin price into cars below the mean price and those above the mean price\n"
   ]
  },
  {
   "cell_type": "code",
   "execution_count": null,
   "metadata": {
    "colab": {
     "base_uri": "https://localhost:8080/"
    },
    "executionInfo": {
     "elapsed": 174,
     "status": "ok",
     "timestamp": 1668735474889,
     "user": {
      "displayName": "Josh Johnson",
      "userId": "08606005069848925988"
     },
     "user_tz": 480
    },
    "id": "15V3WVQ5enJ9",
    "outputId": "bd4872f6-0434-4651-9d7d-0eedae393209"
   },
   "outputs": [],
   "source": [
    "# Check the value counts of the new labels\n"
   ]
  },
  {
   "cell_type": "markdown",
   "metadata": {
    "id": "ormf8ndgAhKp"
   },
   "source": [
    "# Base Model"
   ]
  },
  {
   "cell_type": "code",
   "execution_count": null,
   "metadata": {
    "colab": {
     "base_uri": "https://localhost:8080/"
    },
    "executionInfo": {
     "elapsed": 407,
     "status": "ok",
     "timestamp": 1668735517711,
     "user": {
      "displayName": "Josh Johnson",
      "userId": "08606005069848925988"
     },
     "user_tz": 480
    },
    "id": "MCAZK3gaAj-4",
    "outputId": "d5eb1e04-07a2-456d-a095-bb95a91adccb"
   },
   "outputs": [],
   "source": [
    "# instantiate transformers\n",
    "scaler = StandardScaler()\n",
    "ohe = OneHotEncoder(sparse=False, handle_unknown='ignore')\n",
    "\n",
    "cat_cols = make_column_selector(dtype_include='object')\n",
    "num_cols = make_column_selector(dtype_include='number')\n",
    "\n",
    "# create preprocessing pipeline\n",
    "base_preprocess = make_column_transformer((ohe, cat_cols), (scaler, num_cols))\n",
    "\n",
    "# Examine the results of all transformers\n",
    "base_preprocess.fit_transform(X_train, y_train).shape"
   ]
  },
  {
   "cell_type": "code",
   "execution_count": null,
   "metadata": {
    "executionInfo": {
     "elapsed": 176,
     "status": "ok",
     "timestamp": 1668735604201,
     "user": {
      "displayName": "Josh Johnson",
      "userId": "08606005069848925988"
     },
     "user_tz": 480
    },
    "id": "-62BKMFfAwK4"
   },
   "outputs": [],
   "source": [
    "# Create and evaluate model with a base logistic regression\n",
    "logreg_base = LogisticRegression(max_iter=1000)\n",
    "logreg_base = make_pipeline(base_preprocess, logreg_base)\n",
    "logreg_base.fit(X_train, y_train)\n",
    "\n",
    "train_pred = logreg_base.predict(X_train)\n",
    "test_pred = logreg_base.predict(X_test)"
   ]
  },
  {
   "cell_type": "code",
   "execution_count": null,
   "metadata": {
    "colab": {
     "base_uri": "https://localhost:8080/",
     "height": 1000
    },
    "executionInfo": {
     "elapsed": 633,
     "status": "ok",
     "timestamp": 1668735612698,
     "user": {
      "displayName": "Josh Johnson",
      "userId": "08606005069848925988"
     },
     "user_tz": 480
    },
    "id": "BcsdWYzWZhRM",
    "outputId": "566a659b-2dea-4cb0-8639-402c0e1eef4c"
   },
   "outputs": [],
   "source": [
    "# evaluate model with eval_classification\n"
   ]
  },
  {
   "cell_type": "markdown",
   "metadata": {
    "id": "P4KsHBlGEXl7"
   },
   "source": [
    "# Modeling: PolynomialFeatures"
   ]
  },
  {
   "cell_type": "markdown",
   "metadata": {
    "id": "8IanYLtaPqN2"
   },
   "source": [
    "## Test PolynomialFeatures to see how it changes data\n",
    "\n",
    "We are working here with the entire dataframe to illustrate how the model combines numeric features.  We won't apply the transformers until later."
   ]
  },
  {
   "cell_type": "code",
   "execution_count": null,
   "metadata": {
    "colab": {
     "base_uri": "https://localhost:8080/",
     "height": 505
    },
    "executionInfo": {
     "elapsed": 179,
     "status": "ok",
     "timestamp": 1668735727445,
     "user": {
      "displayName": "Josh Johnson",
      "userId": "08606005069848925988"
     },
     "user_tz": 480
    },
    "id": "ZvVh2dF3Ee3N",
    "outputId": "b309a0fa-2592-4c72-f03e-d8d2cde579f0"
   },
   "outputs": [],
   "source": [
    "# Scale the data\n",
    "\n",
    "\n",
    "# Create polynomial features\n"
   ]
  },
  {
   "cell_type": "code",
   "execution_count": null,
   "metadata": {
    "colab": {
     "base_uri": "https://localhost:8080/",
     "height": 283
    },
    "executionInfo": {
     "elapsed": 594,
     "status": "ok",
     "timestamp": 1668735731834,
     "user": {
      "displayName": "Josh Johnson",
      "userId": "08606005069848925988"
     },
     "user_tz": 480
    },
    "id": "cB4pSBRhEl98",
    "outputId": "e140377f-74cc-4efd-dd2e-cfcba9cd7244"
   },
   "outputs": [],
   "source": [
    "# Plot distance vs distance^2\n",
    "plt.scatter(data=poly_train, x='distance_travelled(kms)', y='distance_travelled(kms)^2')"
   ]
  },
  {
   "cell_type": "code",
   "execution_count": null,
   "metadata": {
    "colab": {
     "base_uri": "https://localhost:8080/",
     "height": 283
    },
    "executionInfo": {
     "elapsed": 411,
     "status": "ok",
     "timestamp": 1668735734445,
     "user": {
      "displayName": "Josh Johnson",
      "userId": "08606005069848925988"
     },
     "user_tz": 480
    },
    "id": "NoeC8b-WcsLc",
    "outputId": "9f19f01e-c654-475d-8822-27dcc54511c7"
   },
   "outputs": [],
   "source": [
    "# Plot distance vs distance^2\n",
    "plt.scatter(data=poly_train, x='distance_travelled(kms)', y='distance_travelled(kms)^3')"
   ]
  },
  {
   "cell_type": "markdown",
   "metadata": {
    "id": "wU0OaqwyQMPH"
   },
   "source": [
    "## Model with PolynomialFeatures"
   ]
  },
  {
   "cell_type": "code",
   "execution_count": null,
   "metadata": {
    "colab": {
     "base_uri": "https://localhost:8080/"
    },
    "executionInfo": {
     "elapsed": 174,
     "status": "ok",
     "timestamp": 1668735916097,
     "user": {
      "displayName": "Josh Johnson",
      "userId": "08606005069848925988"
     },
     "user_tz": 480
    },
    "id": "rW7l9sHaFTCc",
    "outputId": "a06097b4-dbba-49b6-962c-c795522870d5"
   },
   "outputs": [],
   "source": [
    "# instantiate transformers\n",
    "scaler = StandardScaler()\n",
    "ohe = OneHotEncoder(sparse=False, handle_unknown='ignore')\n",
    "# Instantiate the PolynomialFeatures transformer\n",
    "poly = PolynomialFeatures(degree=2)\n",
    "\n",
    "cat_cols = make_column_selector(dtype_include='object')\n",
    "num_cols = make_column_selector(dtype_include='number')\n",
    "\n",
    "# Add the PolynomialFeatures transformer to the numeric pipeline\n",
    "num_pipe = make_pipeline(scaler, poly)\n",
    "\n",
    "# create preprocessing pipeline\n",
    "preprocess = make_column_transformer((ohe, cat_cols), (num_pipe, num_cols))\n",
    "\n",
    "# Examine the results of all transformers\n",
    "preprocess.fit_transform(X_train, y_train).shape"
   ]
  },
  {
   "cell_type": "code",
   "execution_count": null,
   "metadata": {
    "executionInfo": {
     "elapsed": 3498,
     "status": "ok",
     "timestamp": 1668735902638,
     "user": {
      "displayName": "Josh Johnson",
      "userId": "08606005069848925988"
     },
     "user_tz": 480
    },
    "id": "w9vm7yTXHYfd"
   },
   "outputs": [],
   "source": [
    "# Create and evaluate model with PolynomialFeatures\n",
    "poly_logreg = LogisticRegression(max_iter=1000)\n",
    "poly_logreg = make_pipeline(preprocess, poly_logreg)\n",
    "poly_logreg.fit(X_train, y_train)\n",
    "\n",
    "train_pred = poly_logreg.predict(X_train)\n",
    "test_pred = poly_logreg.predict(X_test)"
   ]
  },
  {
   "cell_type": "code",
   "execution_count": null,
   "metadata": {
    "colab": {
     "base_uri": "https://localhost:8080/",
     "height": 1000
    },
    "executionInfo": {
     "elapsed": 1127,
     "status": "ok",
     "timestamp": 1668735903762,
     "user": {
      "displayName": "Josh Johnson",
      "userId": "08606005069848925988"
     },
     "user_tz": 480
    },
    "id": "sys6lk9cZbc2",
    "outputId": "4ddb01a8-f235-4eec-9d73-be0c2baa1577"
   },
   "outputs": [],
   "source": [
    "# evaluate model\n"
   ]
  },
  {
   "cell_type": "markdown",
   "metadata": {},
   "source": [
    "## Compare base and polynomial model scores"
   ]
  },
  {
   "cell_type": "code",
   "execution_count": null,
   "metadata": {
    "ExecuteTime": {
     "end_time": "2023-01-26T21:09:10.580994Z",
     "start_time": "2023-01-26T21:09:10.571512Z"
    },
    "scrolled": true
   },
   "outputs": [],
   "source": []
  },
  {
   "cell_type": "markdown",
   "metadata": {
    "id": "GT5-ExP6Miae"
   },
   "source": [
    "## What if we change the degree?"
   ]
  },
  {
   "cell_type": "code",
   "execution_count": null,
   "metadata": {
    "executionInfo": {
     "elapsed": 5,
     "status": "ok",
     "timestamp": 1668735903763,
     "user": {
      "displayName": "Josh Johnson",
      "userId": "08606005069848925988"
     },
     "user_tz": 480
    },
    "id": "dHIwZusbH2i-"
   },
   "outputs": [],
   "source": []
  }
 ],
 "metadata": {
  "colab": {
   "authorship_tag": "ABX9TyMzLe+q8ocz2qzOeu7MZJ8M",
   "provenance": []
  },
  "kernelspec": {
   "display_name": "Python 3 (ipykernel)",
   "language": "python",
   "name": "python3"
  },
  "language_info": {
   "codemirror_mode": {
    "name": "ipython",
    "version": 3
   },
   "file_extension": ".py",
   "mimetype": "text/x-python",
   "name": "python",
   "nbconvert_exporter": "python",
   "pygments_lexer": "ipython3",
   "version": "3.9.15"
  },
  "toc": {
   "base_numbering": 1,
   "nav_menu": {},
   "number_sections": false,
   "sideBar": true,
   "skip_h1_title": false,
   "title_cell": "Table of Contents",
   "title_sidebar": "Contents",
   "toc_cell": false,
   "toc_position": {
    "height": "calc(100% - 180px)",
    "left": "10px",
    "top": "150px",
    "width": "261.206px"
   },
   "toc_section_display": true,
   "toc_window_display": false
  }
 },
 "nbformat": 4,
 "nbformat_minor": 1
}
