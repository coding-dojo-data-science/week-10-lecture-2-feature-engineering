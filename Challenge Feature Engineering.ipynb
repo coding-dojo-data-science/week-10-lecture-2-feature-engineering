{
 "cells": [
  {
   "cell_type": "markdown",
   "metadata": {
    "id": "Lmp3JoP2nQzp"
   },
   "source": [
    "# Feature Engineering Challenge\n",
    "\n",
    "<a href=\"https://colab.research.google.com/github/coding-dojo-data-science/week-10-lecture-2-feature-engineering/blob/11-7-22/Challenge%20Feature%20Engineering.ipynb\" target=\"_parent\"><img src=\"https://colab.research.google.com/assets/colab-badge.svg\" alt=\"Open In Colab\"/></a>\n",
    "\n",
    "\n",
    "In this notebook you perform feature engineering to try to improve model performance:"
   ]
  },
  {
   "cell_type": "code",
   "execution_count": null,
   "metadata": {
    "ExecuteTime": {
     "end_time": "2023-01-26T21:23:14.526344Z",
     "start_time": "2023-01-26T21:23:12.961087Z"
    },
    "id": "fu6bkefYnK-j"
   },
   "outputs": [],
   "source": [
    "# Imports\n",
    "import pandas as pd\n",
    "import numpy as np\n",
    "import matplotlib.pyplot as plt\n",
    "import seaborn as sns\n",
    "\n",
    "from sklearn.model_selection import train_test_split\n",
    "from sklearn.linear_model import LinearRegression, LogisticRegression\n",
    "from sklearn.preprocessing import PolynomialFeatures, StandardScaler, OneHotEncoder\n",
    "from sklearn.impute import SimpleImputer\n",
    "from sklearn.compose import make_column_transformer, make_column_selector\n",
    "from sklearn.pipeline import make_pipeline\n",
    "from sklearn.metrics import mean_absolute_error, r2_score, mean_squared_error, \\\n",
    "precision_score, recall_score, accuracy_score, f1_score, ConfusionMatrixDisplay, \\\n",
    "classification_report\n",
    "\n",
    "import warnings\n",
    "warnings.filterwarnings('ignore')"
   ]
  },
  {
   "cell_type": "markdown",
   "metadata": {
    "id": "Vrdzw2ow2f7q"
   },
   "source": [
    "# Useful Functions"
   ]
  },
  {
   "cell_type": "code",
   "execution_count": null,
   "metadata": {
    "ExecuteTime": {
     "end_time": "2023-01-26T21:23:14.535824Z",
     "start_time": "2023-01-26T21:23:14.527341Z"
    },
    "id": "pr2Oayig2iFR"
   },
   "outputs": [],
   "source": [
    "def eval_regression(true, pred, name='Model'):\n",
    "  scores = pd.DataFrame()\n",
    "  scores['Model Name'] = [name]\n",
    "  scores['RMSE'] = [np.sqrt(mean_squared_error(true, pred))]\n",
    "  scores['MAE'] = [mean_absolute_error(true, pred)]\n",
    "  scores['R2'] = [r2_score(true, pred)]\n",
    "  return scores\n",
    "\n",
    "def eval_classification(true, pred, name='Model'):\n",
    "  \"\"\"shows classification_report and confusion matrix\n",
    "  for the model predictions\"\"\"\n",
    "  \n",
    "  print(name, '\\n')\n",
    "  print(classification_report(true, pred))\n",
    "  ConfusionMatrixDisplay.from_predictions(true, pred)\n",
    "  plt.show()\n",
    "\n",
    "  scores = pd.DataFrame()\n",
    "  scores['Model Name'] = [name]\n",
    "  scores['Precision'] = [precision_score(true, pred)]\n",
    "  scores['Recall'] = [recall_score(true, pred)]\n",
    "  scores['F1 Score'] = [f1_score(true, pred)]\n",
    "  scores['Accuracy'] = [accuracy_score(true, pred)]\n",
    "\n",
    "  return scores"
   ]
  },
  {
   "cell_type": "markdown",
   "metadata": {
    "id": "TdIxE4xgNU3m"
   },
   "source": [
    "## Data\n",
    "\n",
    "Today we will use data about housing sales in Melbourne, Australia. \n",
    "\n",
    "## Your job is to predict the sale price of the house."
   ]
  },
  {
   "cell_type": "code",
   "execution_count": null,
   "metadata": {
    "ExecuteTime": {
     "end_time": "2023-01-26T21:23:16.142156Z",
     "start_time": "2023-01-26T21:23:14.537332Z"
    },
    "id": "FJb74mnanWAY"
   },
   "outputs": [],
   "source": [
    "# load data\n",
    "df = pd.read_csv('https://docs.google.com/spreadsheets/d/e/2PACX-1vQnwAtoM6edkuZ4Xncjx_wnZjN6zcWRtBZdK9wfQwW6AzXCGhOdjvTQrtbsEU5-LxKdOmz5FAtw66tc/pub?gid=1132845715&single=true&output=csv')\n",
    "df_original = df.copy()\n",
    "\n",
    "display(df.head())\n",
    "print(df.shape)"
   ]
  },
  {
   "cell_type": "markdown",
   "metadata": {
    "id": "j5Ep8q1T02el"
   },
   "source": [
    "## Explore and clean the data\n",
    "1. Drop the 'Address column', it's too specific.\n",
    "2. Drop any duplicates\n",
    "3. Look for missing values.  If you want to drop rows or columns, now is the time.  Wait on imputing until after the split.\n",
    "4. Check summary statistics to look for outliers."
   ]
  },
  {
   "cell_type": "code",
   "execution_count": null,
   "metadata": {
    "ExecuteTime": {
     "end_time": "2023-01-26T21:23:16.163518Z",
     "start_time": "2023-01-26T21:23:16.144151Z"
    },
    "id": "Kk8M7SQ7Shw0"
   },
   "outputs": [],
   "source": [
    "df.info()"
   ]
  },
  {
   "cell_type": "code",
   "execution_count": null,
   "metadata": {
    "ExecuteTime": {
     "end_time": "2023-01-26T21:23:16.184482Z",
     "start_time": "2023-01-26T21:23:16.165513Z"
    },
    "id": "jpf0LSXexRPy"
   },
   "outputs": [],
   "source": [
    "# check for duplicates\n",
    "df.duplicated().sum()"
   ]
  },
  {
   "cell_type": "markdown",
   "metadata": {
    "id": "9XtYMbRa7CsR"
   },
   "source": [
    "Notice the values in the 'Unique' rows.  Which categorical columns have high cardinality (Many different categories)?"
   ]
  },
  {
   "cell_type": "code",
   "execution_count": null,
   "metadata": {
    "ExecuteTime": {
     "end_time": "2023-01-26T21:23:16.249158Z",
     "start_time": "2023-01-26T21:23:16.185482Z"
    },
    "id": "mPLcxeYt0jMd"
   },
   "outputs": [],
   "source": [
    "# check summary statistics\n",
    "df.describe(include='all')"
   ]
  },
  {
   "cell_type": "code",
   "execution_count": null,
   "metadata": {
    "ExecuteTime": {
     "end_time": "2023-01-26T21:23:16.258478Z",
     "start_time": "2023-01-26T21:23:16.250125Z"
    },
    "id": "pBY0S2qvt8fy"
   },
   "outputs": [],
   "source": [
    "df['Price'].describe()"
   ]
  },
  {
   "cell_type": "code",
   "execution_count": null,
   "metadata": {
    "ExecuteTime": {
     "end_time": "2023-01-26T21:23:17.402461Z",
     "start_time": "2023-01-26T21:23:16.259476Z"
    },
    "id": "xjFlm0hdxmYl"
   },
   "outputs": [],
   "source": [
    "# explore numeric distributions\n",
    "for col in df.select_dtypes('number'):\n",
    "  print('\\n', col, '\\n')\n",
    "  df[col].plot(kind='box')\n",
    "  plt.show()"
   ]
  },
  {
   "cell_type": "markdown",
   "metadata": {
    "id": "b5mB-62ixhOE"
   },
   "source": [
    "# Feature Engineering\n",
    "\n",
    "What would you do to improve this dataset?\n",
    "\n",
    "### Some Ideas:\n",
    "1. Remove outliers\n",
    "2. Change the distribution with np.log, np.sqrt, np.cbrt\n",
    "3. Bin features or target with .replace or .apply\n",
    "4. Combine features\n",
    "5. Extract hour, day, or month from datetime\n",
    "6. Encode data: one-hot encoding, ordinal encoding, target encoding\n",
    "7. Parse strings\n",
    "8. Try different imputation strategies"
   ]
  },
  {
   "cell_type": "code",
   "execution_count": null,
   "metadata": {
    "ExecuteTime": {
     "end_time": "2023-01-26T21:23:17.422009Z",
     "start_time": "2023-01-26T21:23:17.403459Z"
    },
    "id": "VjksV-Zn0gbl"
   },
   "outputs": [],
   "source": [
    "# check for missing values\n",
    "df.isna().sum()"
   ]
  },
  {
   "cell_type": "markdown",
   "metadata": {
    "id": "rdPGK8PsSmp9"
   },
   "source": [
    "# 1. Handle Missing Values\n",
    "Ideas:\n",
    "1. Drop columns\n",
    "2. Drop rows\n",
    "3. Wait and impute later"
   ]
  },
  {
   "cell_type": "code",
   "execution_count": null,
   "metadata": {
    "ExecuteTime": {
     "end_time": "2023-01-26T21:23:17.428181Z",
     "start_time": "2023-01-26T21:23:17.425190Z"
    },
    "id": "fhapJs89SqJ1"
   },
   "outputs": [],
   "source": [
    "# \n",
    "\n"
   ]
  },
  {
   "cell_type": "markdown",
   "metadata": {
    "id": "qXFO-KPBMnze"
   },
   "source": [
    "# 2. Engineer Categorical Features\n",
    "\n",
    "Ideas:\n",
    "1. Extract day, month, and/or year from the 'Date' column\n",
    "2. Remove columns with high cardinality\n",
    "3. Bin categories to reduce cardinality\n",
    "4. Combine categorical features\n",
    "5. Split categorical features\n"
   ]
  },
  {
   "cell_type": "code",
   "execution_count": null,
   "metadata": {
    "ExecuteTime": {
     "end_time": "2023-01-26T21:23:17.441165Z",
     "start_time": "2023-01-26T21:23:17.429180Z"
    },
    "id": "9zHP5ChwqBCx"
   },
   "outputs": [],
   "source": [
    "for col in df.select_dtypes('object'):\n",
    "  print(col, df[col].nunique())"
   ]
  },
  {
   "cell_type": "code",
   "execution_count": null,
   "metadata": {
    "id": "TJ4fkXjZMq7_"
   },
   "outputs": [],
   "source": []
  },
  {
   "cell_type": "markdown",
   "metadata": {
    "id": "2tWbnRK2NEdW"
   },
   "source": [
    "# 3. Engineer Numeric Features\n",
    "\n",
    "Possible Options:\n",
    "1. Remove outliers\n",
    "2. Reshape distributions with np.log, np.sqrt, or np.cbrt\n",
    "3. Bin a numeric feature to make it nominal or ordinal\n",
    "\n"
   ]
  },
  {
   "cell_type": "code",
   "execution_count": null,
   "metadata": {
    "id": "CpB_Z7OIbVk0"
   },
   "outputs": [],
   "source": []
  },
  {
   "cell_type": "code",
   "execution_count": null,
   "metadata": {
    "id": "mTIYzT7SbVDU"
   },
   "outputs": [],
   "source": []
  },
  {
   "cell_type": "markdown",
   "metadata": {
    "id": "UUW0DP7cMDZH"
   },
   "source": [
    "# (optional) 4. Engineer the Target\n",
    "\n",
    "Options:\n",
    "1. Transform the target with np.log, np.sqrt, np.cbrt\n",
    "2. Bin the target to make this a classification problem\n",
    "\n",
    "**Do NOT leak data!**"
   ]
  },
  {
   "cell_type": "markdown",
   "metadata": {
    "id": "Pr5J0t2d7pnw"
   },
   "source": [
    "## Validation Split"
   ]
  },
  {
   "cell_type": "code",
   "execution_count": null,
   "metadata": {},
   "outputs": [],
   "source": []
  },
  {
   "cell_type": "markdown",
   "metadata": {},
   "source": [
    "## Bin the Target"
   ]
  },
  {
   "cell_type": "code",
   "execution_count": null,
   "metadata": {
    "id": "MhIJyEABMF5n"
   },
   "outputs": [],
   "source": []
  },
  {
   "cell_type": "markdown",
   "metadata": {
    "id": "ZKU4SCm9Rq40"
   },
   "source": [
    "# 5. Modeling:\n",
    "\n",
    "1. Create a Base Model on the original data\n",
    "2. Copy the model type and fit it on your engineered data\n",
    "3. Compare the performance of each model."
   ]
  },
  {
   "cell_type": "markdown",
   "metadata": {
    "id": "C1e93B8IVFi9"
   },
   "source": [
    "### Original features from before feature engineering"
   ]
  },
  {
   "cell_type": "code",
   "execution_count": null,
   "metadata": {
    "ExecuteTime": {
     "end_time": "2023-01-26T21:23:17.453109Z",
     "start_time": "2023-01-26T21:23:17.442147Z"
    },
    "id": "XYC0mHHZVEpV"
   },
   "outputs": [],
   "source": [
    "X_og = df_original.drop(columns='Price')\n",
    "y_og = df_original['Price']\n",
    "\n",
    "X_train_og, X_test_og, y_train_og, y_test_og = train_test_split(X_og, y_og, \n",
    "                                                                random_state=42)"
   ]
  },
  {
   "cell_type": "markdown",
   "metadata": {
    "id": "6ztQO7XhV7a1"
   },
   "source": [
    "### Uncomment and run the cell below if you binned the target above"
   ]
  },
  {
   "cell_type": "code",
   "execution_count": null,
   "metadata": {
    "ExecuteTime": {
     "end_time": "2023-01-26T21:23:17.459093Z",
     "start_time": "2023-01-26T21:23:17.454106Z"
    },
    "id": "Kh61VQ-GV0oE"
   },
   "outputs": [],
   "source": [
    "# mean_price = y_train_og.mean()\n",
    "# y_train_og = y_train_og.apply(lambda x: 1 if x > mean_price else 0)\n",
    "# y_test_og = y_test_og.apply(lambda x: 1 if x > mean_price else 0)"
   ]
  },
  {
   "cell_type": "code",
   "execution_count": null,
   "metadata": {
    "ExecuteTime": {
     "end_time": "2023-01-26T21:23:17.895943Z",
     "start_time": "2023-01-26T21:23:17.460090Z"
    },
    "id": "mz2B32mvRtOv"
   },
   "outputs": [],
   "source": [
    "# Create Preprocessing\n",
    "scaler = StandardScaler()\n",
    "ohe = OneHotEncoder(sparse=False, handle_unknown='ignore')\n",
    "\n",
    "median_imputer = SimpleImputer(strategy='median')\n",
    "missing_imputer = SimpleImputer(strategy='constant', fill_value='missing')\n",
    "\n",
    "cat_cols = make_column_selector(dtype_include='object')\n",
    "num_cols = make_column_selector(dtype_include='number')\n",
    "\n",
    "num_pipe = make_pipeline(median_imputer, scaler)\n",
    "cat_pipe = make_pipeline(missing_imputer, ohe)\n",
    "\n",
    "processor = make_column_transformer((num_pipe, num_cols), (cat_pipe, cat_cols))\n",
    "print(processor.fit_transform(X_train, y_train).shape)"
   ]
  },
  {
   "cell_type": "code",
   "execution_count": null,
   "metadata": {
    "ExecuteTime": {
     "end_time": "2023-01-26T21:23:17.897078Z",
     "start_time": "2023-01-26T21:23:17.897078Z"
    },
    "id": "Wkl0rTGdRtOw"
   },
   "outputs": [],
   "source": [
    "# Instantiate and fit a model\n",
    "base_model = ## Choose a model of the appropriate type (regression or classification)\n",
    "\n",
    "base_pipe = make_pipeline(processor, base_model)\n",
    "base_pipe.fit(X_train_og, y_train_og)\n",
    "\n",
    "train_pred = base_pipe.predict(X_train_og)\n",
    "test_pred = base_pipe.predict(X_test_og)"
   ]
  },
  {
   "cell_type": "code",
   "execution_count": null,
   "metadata": {
    "ExecuteTime": {
     "end_time": "2023-01-26T21:23:17.899076Z",
     "start_time": "2023-01-26T21:23:17.898079Z"
    },
    "id": "coKLazA9GppI"
   },
   "outputs": [],
   "source": [
    "# Evaluate model\n",
    "# train_scores = \n",
    "\n",
    "# test_scores = \n",
    "\n",
    "scores = pd.concat([train_scores, test_scores])\n",
    "scores"
   ]
  },
  {
   "cell_type": "markdown",
   "metadata": {
    "id": "P4KsHBlGEXl7"
   },
   "source": [
    "# Modeling: Engineered Data\n",
    "\n",
    "Use your engineered data to fit a new model of the same time as your base model.\n",
    "\n",
    "You might also do some more engineering here as well, if you want.\n",
    "\n",
    "Ideas:\n",
    "1. Different encoders\n",
    "2. Different imputation strategies\n",
    "3. Different preprocessing, like scaling, PCA, or PolynomialFeatures"
   ]
  },
  {
   "cell_type": "code",
   "execution_count": null,
   "metadata": {
    "ExecuteTime": {
     "end_time": "2023-01-26T21:23:17.899076Z",
     "start_time": "2023-01-26T21:23:17.899076Z"
    },
    "id": "NZOXt2eftIjK"
   },
   "outputs": [],
   "source": [
    "X = df.drop(columns=['Price'])\n",
    "y = df['Price']\n",
    "\n",
    "X_train, X_test, y_train, y_test =  train_test_split(X, y, random_state=42)"
   ]
  },
  {
   "cell_type": "code",
   "execution_count": null,
   "metadata": {
    "ExecuteTime": {
     "end_time": "2023-01-26T21:23:17.900073Z",
     "start_time": "2023-01-26T21:23:17.900073Z"
    },
    "id": "8mGqSSs3u9l5"
   },
   "outputs": [],
   "source": [
    "X_train.head()"
   ]
  },
  {
   "cell_type": "code",
   "execution_count": null,
   "metadata": {
    "ExecuteTime": {
     "end_time": "2023-01-26T21:23:17.901070Z",
     "start_time": "2023-01-26T21:23:17.901070Z"
    },
    "id": "kxA6zJEjUmXN"
   },
   "outputs": [],
   "source": [
    "# Create Preprocessor\n"
   ]
  },
  {
   "cell_type": "code",
   "execution_count": null,
   "metadata": {
    "ExecuteTime": {
     "end_time": "2023-01-26T21:23:17.902068Z",
     "start_time": "2023-01-26T21:23:17.902068Z"
    },
    "id": "Ye-HXybZUmR1"
   },
   "outputs": [],
   "source": [
    "# Create and fit model\n",
    "\n",
    "# Make Predictions"
   ]
  },
  {
   "cell_type": "code",
   "execution_count": null,
   "metadata": {
    "ExecuteTime": {
     "end_time": "2023-01-26T21:23:17.903068Z",
     "start_time": "2023-01-26T21:23:17.903068Z"
    },
    "id": "wIXBr92CRtOw"
   },
   "outputs": [],
   "source": [
    "# evaluate model\n",
    "# train_scores = Your Code\n",
    "\n",
    "# test_scores = Your Code\n",
    "\n",
    "scores = pd.concat([train_scores, test_scores])\n",
    "scores"
   ]
  },
  {
   "cell_type": "markdown",
   "metadata": {
    "id": "hEJzu7pgb26e"
   },
   "source": [
    "# If you have extra time:\n",
    "\n",
    "Try other feature engineering strategies"
   ]
  },
  {
   "cell_type": "code",
   "execution_count": null,
   "metadata": {
    "id": "9rBvx7leU2R9"
   },
   "outputs": [],
   "source": []
  }
 ],
 "metadata": {
  "colab": {
   "authorship_tag": "ABX9TyPNJMgjue+E24aVstAJeeZs",
   "provenance": [
    {
     "file_id": "1_9MsvpC84VkUXNscr2raIdjz2HgAaVU_",
     "timestamp": 1667945185022
    }
   ]
  },
  "kernelspec": {
   "display_name": "Python 3 (ipykernel)",
   "language": "python",
   "name": "python3"
  },
  "language_info": {
   "codemirror_mode": {
    "name": "ipython",
    "version": 3
   },
   "file_extension": ".py",
   "mimetype": "text/x-python",
   "name": "python",
   "nbconvert_exporter": "python",
   "pygments_lexer": "ipython3",
   "version": "3.9.15"
  },
  "toc": {
   "base_numbering": 1,
   "nav_menu": {},
   "number_sections": false,
   "sideBar": true,
   "skip_h1_title": false,
   "title_cell": "Table of Contents",
   "title_sidebar": "Contents",
   "toc_cell": false,
   "toc_position": {
    "height": "calc(100% - 180px)",
    "left": "10px",
    "top": "150px",
    "width": "261.206px"
   },
   "toc_section_display": true,
   "toc_window_display": false
  }
 },
 "nbformat": 4,
 "nbformat_minor": 1
}
